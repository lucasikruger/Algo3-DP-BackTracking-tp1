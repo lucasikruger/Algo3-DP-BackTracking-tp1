{
 "cells": [
  {
   "cell_type": "markdown",
   "id": "4f4c077f",
   "metadata": {},
   "source": [
    "# GENERAMOS LAS INSTANCIAS:"
   ]
  },
  {
   "cell_type": "markdown",
   "id": "25a327a6",
   "metadata": {},
   "source": [
    "##### Importamos las librerias a usar"
   ]
  },
  {
   "cell_type": "code",
   "execution_count": 1,
   "id": "5774bbb2",
   "metadata": {},
   "outputs": [],
   "source": [
    "import math, subprocess, time, random, os, shutil, sys\n",
    "import pandas as pd\n",
    "import numpy as np\n",
    "from IPython.display import display, clear_output\n",
    "import seaborn as sns\n",
    "import matplotlib.pyplot as plt\n",
    "from tqdm.notebook import tqdm"
   ]
  },
  {
   "cell_type": "code",
   "execution_count": 2,
   "id": "a70fb0ce",
   "metadata": {},
   "outputs": [],
   "source": [
    "def save_instance(dataset, instance_name, b,c, m):\n",
    "    with open(F\"instances/{dataset}/{instance_name}.txt\", \"w\") as f:\n",
    "        print(len(c), m, file=f)\n",
    "        for j in range(0,len(c)): \n",
    "            print(b[j], file=f, end=\" \")\n",
    "            print(c[j], file=f, end=\" \\n\")\n"
   ]
  },
  {
   "cell_type": "code",
   "execution_count": 3,
   "id": "56b1f565",
   "metadata": {},
   "outputs": [],
   "source": [
    "def clean_data(nombre):\n",
    "    try:\n",
    "        shutil.rmtree(\"instances/\"+nombre)\n",
    "    except OSError as e:\n",
    "        print (\"Error: %s - %s.\" % (e.filename, e.strerror))\n",
    "    if os.path.isfile(\"results/result.csv\"):\n",
    "        df = pd.read_csv(\"results/result.csv\")\n",
    "        df =  df[df.dataset != nombre]\n",
    "        df.to_csv(\"results/result.csv\", index=False)\n",
    "        \n",
    "\n",
    "    os.makedirs(\"instances/\"+nombre, exist_ok=False)"
   ]
  },
  {
   "cell_type": "markdown",
   "id": "c535bc95",
   "metadata": {},
   "source": [
    "#### En esta seccion nos centraremos en correr los experimentos con las instancias generadass mas arriba"
   ]
  },
  {
   "cell_type": "markdown",
   "id": "52ac6e58",
   "metadata": {},
   "source": [
    "#### Funciones a usar:"
   ]
  },
  {
   "cell_type": "code",
   "execution_count": 61,
   "id": "7727ca76",
   "metadata": {},
   "outputs": [],
   "source": [
    "def run_program(method, test_file):\n",
    "    #corre el programa con el metodo indicado en el test file indicado y devuelve el tiempo tomado en ejecutar\n",
    "    #leemos la instancia\n",
    "    \n",
    "    start = time.time() #comenzamos a medir el timepo\n",
    "    proc = subprocess.Popen([\"../src/tp1\",test_file,method],stdout = subprocess.PIPE, stderr=subprocess.PIPE, stdin=subprocess.PIPE, universal_newlines = True) #lanzamos proceso\n",
    "    #stdout = subprocess.PIPE\n",
    "    \n",
    "    exit_code = proc.wait()#esperamos a que el proceso termien\n",
    "    \n",
    "    end = time.time() #terminamos de medir el tiempo\n",
    "    \n",
    "    #mandamos error de ser necesario \n",
    "    if exit_code != 0: raise RuntimeError(F\"Hubo un error en la experimentacion para el algoritmo: {method} con la instancia {test_file}.\")\n",
    "    \n",
    "    return end-start #devolvemos el timepo\n",
    "    "
   ]
  },
  {
   "cell_type": "code",
   "execution_count": 6,
   "id": "b0c81d51",
   "metadata": {},
   "outputs": [],
   "source": [
    "def run_experiments(name = \"exp\"):\n",
    "    #recibe un nombre para darle al archivo de salida y lo que hace es correr todos los experimentos que se encuentren en la lista llamada experiments que debe ser generada con anterioridad\n",
    "    columns = [\"dataset\",\"exp_name\",\"n\", \"m\", \"method\", \"time\"]\n",
    "    rows = []\n",
    "    j = 1\n",
    "    T =10 # Numero de veces que se ejecuta cada experimento (para mayor fidelidad del tiempo).\n",
    "    explen = str(len(experiments))\n",
    "    \n",
    "    \n",
    "    for exp in tqdm(experiments, \"Completed experiments\"):\n",
    "#         print(exp)\n",
    "        times = []\n",
    "        for i in range(0, T):\n",
    "            times.append(run_program(exp[3], exp[4]))\n",
    "        rows.append([exp[0], name, exp[1], exp[2],exp[3], np.mean(times)])\n",
    "        j +=1\n",
    "    result = pd.DataFrame(rows, columns=columns)\n",
    "    \n",
    "    if os.path.isfile(\"results/result.csv\"):\n",
    "        df = pd.read_csv(\"results/result.csv\")\n",
    "        df = pd.concat([df, result], ignore_index = True, axis = 0)\n",
    "    else:\n",
    "        df = result\n",
    "    \n",
    "    \n",
    "    df.to_csv(\"results/result.csv\", index=False, header=True)"
   ]
  },
  {
   "cell_type": "markdown",
   "id": "0f2ee779",
   "metadata": {},
   "source": [
    "## Corrida de experimentos"
   ]
  },
  {
   "cell_type": "markdown",
   "id": "cf273ec3",
   "metadata": {},
   "source": [
    "#### Leemos los indices de las instancias generadas anteriormente "
   ]
  },
  {
   "cell_type": "markdown",
   "id": "29114501",
   "metadata": {},
   "source": [
    "## Experimento 1"
   ]
  },
  {
   "cell_type": "code",
   "execution_count": 101,
   "id": "7262c59e",
   "metadata": {},
   "outputs": [],
   "source": [
    "def exp1(k=41):\n",
    "    \n",
    "    filas_indice = []\n",
    "    nombre = \"peor_btf\"\n",
    "    if (k!=41): nombre = \"peor_btf_bf\"\n",
    "\n",
    "\n",
    "#     clean_data(nombre)\n",
    "    \n",
    "    \n",
    "    for n in tqdm(range(10, k,1), \"Generating instances\"):\n",
    "        \n",
    "        #damos valores a n,w,b,c\n",
    "        m = n+2\n",
    "        c = [1 for i in range(0,n)]\n",
    "        b = [(n-i) for i in range(0,n)]\n",
    "        b[-1] = 1000\n",
    "        save_instance(nombre, nombre+F\"-{n}\",b,c, m)\n",
    "        filas_indice.append([nombre, nombre + f\"-{n}\", n, m, \"instances/\"+nombre+\"/\"+nombre+f\"-{n}.txt\"])\n",
    "    pd.DataFrame(filas_indice, columns=[\"dataset\", \"instance\", \"n\", \"m\", \"file\"]).to_csv(\"instances/\"+nombre+\"/indice.csv\", index=False, header=True)"
   ]
  },
  {
   "cell_type": "code",
   "execution_count": 103,
   "id": "2f29cf15",
   "metadata": {},
   "outputs": [],
   "source": [
    "clean_data(\"peor_btf\")"
   ]
  },
  {
   "cell_type": "code",
   "execution_count": 104,
   "id": "68f3718d",
   "metadata": {},
   "outputs": [
    {
     "data": {
      "application/vnd.jupyter.widget-view+json": {
       "model_id": "c492522cfa544c949aec7665394cfd3f",
       "version_major": 2,
       "version_minor": 0
      },
      "text/plain": [
       "Generating instances:   0%|          | 0/31 [00:00<?, ?it/s]"
      ]
     },
     "metadata": {},
     "output_type": "display_data"
    }
   ],
   "source": [
    "exp1()"
   ]
  },
  {
   "cell_type": "code",
   "execution_count": 105,
   "id": "7f4b764e",
   "metadata": {
    "scrolled": false
   },
   "outputs": [
    {
     "data": {
      "application/vnd.jupyter.widget-view+json": {
       "model_id": "ea7edb0032de40f98cedf4c7f43474c4",
       "version_major": 2,
       "version_minor": 0
      },
      "text/plain": [
       "Completed experiments:   0%|          | 0/124 [00:00<?, ?it/s]"
      ]
     },
     "metadata": {},
     "output_type": "display_data"
    }
   ],
   "source": [
    "experiments = [] #vaciamos lista para llenarla con los datos que queremos\n",
    "\n",
    "instance = \"peor_btf\"\n",
    "df_data = pd.read_csv(\"instances/\"+instance+\"/indice.csv\")\n",
    "for k in range(0, len(df_data)):\n",
    "    row_k = df_data.iloc[k]\n",
    "#     experiments.append([row_k[\"dataset\"], row_k[\"n\"], row_k[\"m\"], \"bf\", row_k[\"file\"]])\n",
    "    experiments.append([row_k[\"dataset\"], row_k[\"n\"], row_k[\"m\"], \"bt\", row_k[\"file\"]])\n",
    "    experiments.append([row_k[\"dataset\"], row_k[\"n\"], row_k[\"m\"], \"bto\", row_k[\"file\"]])\n",
    "    experiments.append([row_k[\"dataset\"], row_k[\"n\"], row_k[\"m\"], \"btf\", row_k[\"file\"]])\n",
    "    experiments.append([row_k[\"dataset\"], row_k[\"n\"], row_k[\"m\"], \"dp\", row_k[\"file\"]])\n",
    "\n",
    "run_experiments()\n"
   ]
  },
  {
   "cell_type": "markdown",
   "id": "67030f1d",
   "metadata": {},
   "source": [
    "## Experimento 2"
   ]
  },
  {
   "cell_type": "code",
   "execution_count": 177,
   "id": "81999e93",
   "metadata": {},
   "outputs": [],
   "source": [
    "def exp2(k=41): #este experimento sera utilizado para la hipotesis 1\n",
    "\n",
    "    filas_indice = []\n",
    "    nombre = \"peor_bto\"\n",
    "    if (k!=41): nombre = \"peor_bto_bf\"\n",
    "\n",
    "\n",
    "#     clean_data(nombre)\n",
    "    \n",
    "    \n",
    "    for n in tqdm(range(10, k,1), \"Generating instances\"):\n",
    "        \n",
    "        #damos valores a n,w,b,c\n",
    "        m = 5\n",
    "        c = [1 for i in range(0,n)]\n",
    "        b = [0 for i in range(0,n)]\n",
    "        b[-1] = n**2\n",
    "        save_instance(nombre, nombre+F\"-{n}\",b,c, m)\n",
    "        filas_indice.append([nombre, nombre + f\"-{n}\", n, m, \"instances/\"+nombre+\"/\"+nombre+f\"-{n}.txt\"])\n",
    "    pd.DataFrame(filas_indice, columns=[\"dataset\", \"instance\", \"n\", \"m\", \"file\"]).to_csv(\"instances/\"+nombre+\"/indice.csv\", index=False, header=True)"
   ]
  },
  {
   "cell_type": "code",
   "execution_count": null,
   "id": "87f94f1a",
   "metadata": {},
   "outputs": [],
   "source": [
    "clean_data(\"peor_bto\")"
   ]
  },
  {
   "cell_type": "code",
   "execution_count": null,
   "id": "b1c31151",
   "metadata": {},
   "outputs": [],
   "source": [
    "exp2()"
   ]
  },
  {
   "cell_type": "code",
   "execution_count": 25,
   "id": "432b2914",
   "metadata": {
    "scrolled": false
   },
   "outputs": [
    {
     "data": {
      "application/vnd.jupyter.widget-view+json": {
       "model_id": "002e1c8d2ccb41c8af9b1608f336846b",
       "version_major": 2,
       "version_minor": 0
      },
      "text/plain": [
       "Completed experiments:   0%|          | 0/124 [00:00<?, ?it/s]"
      ]
     },
     "metadata": {},
     "output_type": "display_data"
    }
   ],
   "source": [
    "experiments = [] #vaciamos lista para llenarla con los datos que queremos\n",
    "\n",
    "instance = \"peor_bto\"\n",
    "df_data = pd.read_csv(\"instances/\"+instance+\"/indice.csv\")\n",
    "for k in range(0, len(df_data)):\n",
    "    row_k = df_data.iloc[k]\n",
    "#     experiments.append([row_k[\"dataset\"], row_k[\"n\"], row_k[\"m\"], \"bf\", row_k[\"file\"]])\n",
    "    experiments.append([row_k[\"dataset\"], row_k[\"n\"], row_k[\"m\"], \"bt\", row_k[\"file\"]])\n",
    "    experiments.append([row_k[\"dataset\"], row_k[\"n\"], row_k[\"m\"], \"bto\", row_k[\"file\"]])\n",
    "    experiments.append([row_k[\"dataset\"], row_k[\"n\"], row_k[\"m\"], \"btf\", row_k[\"file\"]])\n",
    "    experiments.append([row_k[\"dataset\"], row_k[\"n\"], row_k[\"m\"], \"dp\", row_k[\"file\"]])\n",
    "\n",
    "run_experiments()\n"
   ]
  },
  {
   "cell_type": "markdown",
   "id": "e886e454",
   "metadata": {},
   "source": [
    "## Experimento 3"
   ]
  },
  {
   "cell_type": "code",
   "execution_count": 45,
   "id": "1b8d2336",
   "metadata": {},
   "outputs": [],
   "source": [
    "def exp3(): #este experimento sera usado para la hipotesis 2\n",
    "    \n",
    "    for i in tqdm(range(1,6), \"Generating instances\"):\n",
    "        \n",
    "        filas_indice = []\n",
    "\n",
    "        nombre = \"m_\"+str(i)\n",
    "\n",
    "    #     clean_data(nombre)\n",
    "        for n in range(2, 10001,500):\n",
    "\n",
    "\n",
    "            #damos valores a n,w,b,c\n",
    "            m= (i*1000)\n",
    "            b = [1 for j in range(0,n)]\n",
    "            c = [1 for j in range(0,n)]\n",
    "\n",
    "            save_instance(nombre, nombre+F\"-{n}\",b,c, m)\n",
    "            filas_indice.append([nombre, nombre + f\"-{n}\", n, m, \"instances/\"+nombre+\"/\"+nombre+f\"-{n}.txt\"])\n",
    "        pd.DataFrame(filas_indice, columns=[\"dataset\", \"instance\", \"n\", \"m\", \"file\"]).to_csv(\"instances/\"+nombre+\"/indice.csv\", index=False, header=True)\n",
    "\n",
    "    #######################\n",
    "    \n"
   ]
  },
  {
   "cell_type": "code",
   "execution_count": 47,
   "id": "b865c3f4",
   "metadata": {},
   "outputs": [],
   "source": [
    "for i in range(1,6):\n",
    "    clean_data(\"m_\"+str(i))\n"
   ]
  },
  {
   "cell_type": "code",
   "execution_count": 48,
   "id": "a68db9ec",
   "metadata": {
    "scrolled": true
   },
   "outputs": [
    {
     "data": {
      "application/vnd.jupyter.widget-view+json": {
       "model_id": "cce9b0002f4149f1b7f5eea74c046656",
       "version_major": 2,
       "version_minor": 0
      },
      "text/plain": [
       "Generating instances:   0%|          | 0/5 [00:00<?, ?it/s]"
      ]
     },
     "metadata": {},
     "output_type": "display_data"
    }
   ],
   "source": [
    "exp3()"
   ]
  },
  {
   "cell_type": "code",
   "execution_count": 52,
   "id": "d901a7e4",
   "metadata": {},
   "outputs": [
    {
     "data": {
      "application/vnd.jupyter.widget-view+json": {
       "model_id": "8f47a416297c4a93a6782405ef18e96c",
       "version_major": 2,
       "version_minor": 0
      },
      "text/plain": [
       "Preparing experiments::   0%|          | 0/5 [00:00<?, ?it/s]"
      ]
     },
     "metadata": {},
     "output_type": "display_data"
    },
    {
     "data": {
      "application/vnd.jupyter.widget-view+json": {
       "model_id": "79ca408fca154588bab62d055a82b153",
       "version_major": 2,
       "version_minor": 0
      },
      "text/plain": [
       "Completed experiments:   0%|          | 0/100 [00:00<?, ?it/s]"
      ]
     },
     "metadata": {},
     "output_type": "display_data"
    }
   ],
   "source": [
    "experiments = [] #vaciamos lista para llenarla con los datos que queremos\n",
    "\n",
    "for i in tqdm(range(1,6), \"Preparing experiments:\"):\n",
    "    instance = \"m_\"+str(i)\n",
    "    df_data = pd.read_csv(\"instances/\"+instance+\"/indice.csv\")\n",
    "    for k in range(0, len(df_data)):\n",
    "        row_k = df_data.iloc[k]\n",
    "        \n",
    "        experiments.append([row_k[\"dataset\"], row_k[\"n\"], row_k[\"m\"], \"dp\", row_k[\"file\"]])\n",
    "\n",
    "    \n",
    "#corremos los experimentos\n",
    "run_experiments(\"m_exp\")\n"
   ]
  },
  {
   "cell_type": "markdown",
   "id": "b492f601",
   "metadata": {},
   "source": [
    "## Experimento 4"
   ]
  },
  {
   "cell_type": "code",
   "execution_count": 72,
   "id": "0cdceabe",
   "metadata": {},
   "outputs": [],
   "source": [
    "def exp4(): \n",
    "    \n",
    "    for i in tqdm(range(1,6), \"Generating instances\"):\n",
    "        \n",
    "        filas_indice = []\n",
    "    \n",
    "        nombre = \"n_\"+str(i)\n",
    "\n",
    "    #     clean_data(nombre)\n",
    "        n = 10 + (i*10)\n",
    "        for m in range(2, 100001,1000):\n",
    "\n",
    "\n",
    "            #damos valores a n,w,b,c\n",
    "\n",
    "            b = [1 for j in range(0,n)]\n",
    "            c = [1 for j in range(0,n)]\n",
    "\n",
    "            save_instance(nombre, nombre+F\"-{m}\",b,c, m)\n",
    "            filas_indice.append([nombre, nombre + f\"-{n}\", n, m, \"instances/\"+nombre+\"/\"+nombre+f\"-{m}.txt\"])\n",
    "        pd.DataFrame(filas_indice, columns=[\"dataset\", \"instance\", \"n\", \"m\", \"file\"]).to_csv(\"instances/\"+nombre+\"/indice.csv\", index=False, header=True)\n",
    "\n",
    "    #######################\n",
    "    \n",
    "    "
   ]
  },
  {
   "cell_type": "code",
   "execution_count": 73,
   "id": "1b933c8f",
   "metadata": {},
   "outputs": [],
   "source": [
    "for i in range(1,6):\n",
    "    clean_data(\"n_\"+str(i))\n"
   ]
  },
  {
   "cell_type": "code",
   "execution_count": 74,
   "id": "220d73d3",
   "metadata": {
    "scrolled": true
   },
   "outputs": [
    {
     "data": {
      "application/vnd.jupyter.widget-view+json": {
       "model_id": "3dac9b86a599496998ce68552adb52a1",
       "version_major": 2,
       "version_minor": 0
      },
      "text/plain": [
       "Generating instances:   0%|          | 0/5 [00:00<?, ?it/s]"
      ]
     },
     "metadata": {},
     "output_type": "display_data"
    }
   ],
   "source": [
    "exp4()"
   ]
  },
  {
   "cell_type": "code",
   "execution_count": 75,
   "id": "424b311a",
   "metadata": {
    "scrolled": true
   },
   "outputs": [
    {
     "data": {
      "application/vnd.jupyter.widget-view+json": {
       "model_id": "e460eee635e44a3a8d1e53b0ada53f60",
       "version_major": 2,
       "version_minor": 0
      },
      "text/plain": [
       "Preparing experiments::   0%|          | 0/5 [00:00<?, ?it/s]"
      ]
     },
     "metadata": {},
     "output_type": "display_data"
    },
    {
     "data": {
      "application/vnd.jupyter.widget-view+json": {
       "model_id": "7161b160c49c4d94ad32827c40fba78c",
       "version_major": 2,
       "version_minor": 0
      },
      "text/plain": [
       "Completed experiments:   0%|          | 0/500 [00:00<?, ?it/s]"
      ]
     },
     "metadata": {},
     "output_type": "display_data"
    }
   ],
   "source": [
    "experiments = [] #vaciamos lista para llenarla con los datos que queremos\n",
    "\n",
    "for i in tqdm(range(1,6), \"Preparing experiments:\"):\n",
    "    instance = \"n_\"+str(i)\n",
    "    df_data = pd.read_csv(\"instances/\"+instance+\"/indice.csv\")\n",
    "    for k in range(0, len(df_data)):\n",
    "        row_k = df_data.iloc[k]\n",
    "        experiments.append([row_k[\"dataset\"], row_k[\"n\"], row_k[\"m\"], \"dp\", row_k[\"file\"]])\n",
    "    \n",
    "#corremos los experimentos\n",
    "run_experiments(\"n_exp\")\n"
   ]
  },
  {
   "cell_type": "markdown",
   "id": "f4711bd1",
   "metadata": {},
   "source": [
    "# EXPERIMENTO DP PEOR QUE BT"
   ]
  },
  {
   "cell_type": "code",
   "execution_count": 57,
   "id": "8d800189",
   "metadata": {},
   "outputs": [],
   "source": [
    "def exp7(k=17):\n",
    "    \n",
    "    filas_indice = []\n",
    "    nombre = \"peor_dp\"\n",
    "\n",
    "\n",
    "#     clean_data(nombre)\n",
    "    #matriz se banca 2^24\n",
    "    \n",
    "    for n in tqdm(range(15,25,1), \"Generating instances\"):\n",
    "        \n",
    "        #damos valores a n,w,b,c\n",
    "        m = int((2**n)/(n))\n",
    "        c = [1 for i in range(0,n)]\n",
    "        b = [(n-i) for i in range(0,n)]\n",
    "        save_instance(nombre, nombre+F\"-{n}\",b,c, m)\n",
    "        filas_indice.append([nombre, nombre + f\"-{n}\", n, m, \"instances/\"+nombre+\"/\"+nombre+f\"-{n}.txt\"])\n",
    "    pd.DataFrame(filas_indice, columns=[\"dataset\", \"instance\", \"n\", \"m\", \"file\"]).to_csv(\"instances/\"+nombre+\"/indice.csv\", index=False, header=True)"
   ]
  },
  {
   "cell_type": "code",
   "execution_count": 58,
   "id": "333954db",
   "metadata": {},
   "outputs": [],
   "source": [
    "clean_data(\"peor_dp\")"
   ]
  },
  {
   "cell_type": "code",
   "execution_count": 59,
   "id": "0bcda26a",
   "metadata": {},
   "outputs": [
    {
     "data": {
      "application/vnd.jupyter.widget-view+json": {
       "model_id": "f43e19a4e2b647ada7a311dab6b43271",
       "version_major": 2,
       "version_minor": 0
      },
      "text/plain": [
       "Generating instances:   0%|          | 0/10 [00:00<?, ?it/s]"
      ]
     },
     "metadata": {},
     "output_type": "display_data"
    }
   ],
   "source": [
    "exp7()"
   ]
  },
  {
   "cell_type": "code",
   "execution_count": 62,
   "id": "698364c4",
   "metadata": {
    "scrolled": true
   },
   "outputs": [
    {
     "data": {
      "application/vnd.jupyter.widget-view+json": {
       "model_id": "0335ee05be724b93b05319a379765d03",
       "version_major": 2,
       "version_minor": 0
      },
      "text/plain": [
       "Completed experiments:   0%|          | 0/40 [00:00<?, ?it/s]"
      ]
     },
     "metadata": {},
     "output_type": "display_data"
    }
   ],
   "source": [
    "experiments = [] #vaciamos lista para llenarla con los datos que queremos\n",
    "\n",
    "instance = \"peor_dp\"\n",
    "df_data = pd.read_csv(\"instances/\"+instance+\"/indice.csv\")\n",
    "for k in range(0, len(df_data)):\n",
    "    row_k = df_data.iloc[k]\n",
    "    \n",
    "    experiments.append([row_k[\"dataset\"], row_k[\"n\"], row_k[\"m\"], \"bt\", row_k[\"file\"]])\n",
    "    experiments.append([row_k[\"dataset\"], row_k[\"n\"], row_k[\"m\"], \"bto\", row_k[\"file\"]])\n",
    "    experiments.append([row_k[\"dataset\"], row_k[\"n\"], row_k[\"m\"], \"btf\", row_k[\"file\"]])\n",
    "    experiments.append([row_k[\"dataset\"], row_k[\"n\"], row_k[\"m\"], \"dp\", row_k[\"file\"]])\n",
    "\n",
    "run_experiments(\"peor_dp_exp\")\n"
   ]
  },
  {
   "cell_type": "markdown",
   "id": "50aa1a3b",
   "metadata": {},
   "source": [
    "## Experimento particular bt"
   ]
  },
  {
   "cell_type": "code",
   "execution_count": 170,
   "id": "aa609452",
   "metadata": {},
   "outputs": [],
   "source": [
    "def exp5(): \n",
    "    filas_indice = []\n",
    "    \n",
    "    nombre = \"particular_bt\"\n",
    "        \n",
    "#     clean_data(nombre)\n",
    "    for n in tqdm(range(10, 41,1), \"Generating instances\"):\n",
    "       \n",
    "        \n",
    "        #damos valores a n,w,b,c\n",
    "        m = int(n/4)\n",
    "        c = [1 for i in range(0,n)]\n",
    "        b = [i**2 for i in range(0,n)]\n",
    "        \n",
    "#         m= np.random.randint(100,1000)\n",
    "#         b = np.random.randint(100, size=n)\n",
    "#         c = np.random.randint(100, size=n)\n",
    "        save_instance(nombre, nombre+F\"-{n}\",b,c, m)\n",
    "        filas_indice.append([nombre, nombre + f\"-{n}\", n, m, \"instances/\"+nombre+\"/\"+nombre+f\"-{n}.txt\"])\n",
    "    pd.DataFrame(filas_indice, columns=[\"dataset\", \"instance\", \"n\", \"m\", \"file\"]).to_csv(\"instances/\"+nombre+\"/indice.csv\", index=False, header=True)\n",
    "\n"
   ]
  },
  {
   "cell_type": "code",
   "execution_count": 171,
   "id": "7e9e3897",
   "metadata": {},
   "outputs": [],
   "source": [
    "clean_data(\"particular_bt\")"
   ]
  },
  {
   "cell_type": "code",
   "execution_count": 172,
   "id": "b9b11d31",
   "metadata": {
    "scrolled": true
   },
   "outputs": [
    {
     "data": {
      "application/vnd.jupyter.widget-view+json": {
       "model_id": "ae310d7ed0f949cdae590661f031bd4c",
       "version_major": 2,
       "version_minor": 0
      },
      "text/plain": [
       "Generating instances:   0%|          | 0/31 [00:00<?, ?it/s]"
      ]
     },
     "metadata": {},
     "output_type": "display_data"
    }
   ],
   "source": [
    "exp5()"
   ]
  },
  {
   "cell_type": "code",
   "execution_count": 173,
   "id": "b40499c5",
   "metadata": {},
   "outputs": [
    {
     "data": {
      "application/vnd.jupyter.widget-view+json": {
       "model_id": "171143749db34a3790805c42222d07b4",
       "version_major": 2,
       "version_minor": 0
      },
      "text/plain": [
       "Completed experiments:   0%|          | 0/93 [00:00<?, ?it/s]"
      ]
     },
     "metadata": {},
     "output_type": "display_data"
    }
   ],
   "source": [
    "experiments = [] #vaciamos lista para llenarla con los datos que queremos\n",
    "\n",
    "instance = \"particular_bt\"\n",
    "df_data = pd.read_csv(\"instances/\"+instance+\"/indice.csv\")\n",
    "for k in range(0, len(df_data)):\n",
    "    row_k = df_data.iloc[k]\n",
    "    experiments.append([row_k[\"dataset\"], row_k[\"n\"], row_k[\"m\"], \"btf\", row_k[\"file\"]])\n",
    "    experiments.append([row_k[\"dataset\"], row_k[\"n\"], row_k[\"m\"], \"bt\", row_k[\"file\"]])\n",
    "    experiments.append([row_k[\"dataset\"], row_k[\"n\"], row_k[\"m\"], \"bto\", row_k[\"file\"]])\n",
    "#     experiments.append([row_k[\"dataset\"], row_k[\"n\"], row_k[\"m\"], \"bf\", row_k[\"file\"]])\n",
    "\n",
    "run_experiments()\n"
   ]
  },
  {
   "cell_type": "markdown",
   "id": "d3d9a477",
   "metadata": {},
   "source": [
    "## EXPERIMENTO FB"
   ]
  },
  {
   "cell_type": "markdown",
   "id": "1e61ff65",
   "metadata": {},
   "source": [
    "Realizamos la experimentacion con fuerza bruta aparte debido al tiempo de computo requerido para realizarla"
   ]
  },
  {
   "cell_type": "code",
   "execution_count": 183,
   "id": "ce529f9e",
   "metadata": {},
   "outputs": [],
   "source": [
    "def exp6(): \n",
    "    filas_indice = []\n",
    "    \n",
    "    nombre = \"random_bf\"\n",
    "        \n",
    "#     clean_data(nombre)\n",
    "    for n in tqdm(range(10, 31,1), \"Generating instances\"):\n",
    "       \n",
    "        \n",
    "        #damos valores a n,w,b,c\n",
    "        m = np.random.randint(0, 1000)\n",
    "        c = [np.random.randint(0, 100) for i in range(0,n)]\n",
    "        b = [np.random.randint(0, 100) for i in range(0,n)]\n",
    "        \n",
    "        save_instance(nombre, nombre+F\"-{n}\",b,c, m)\n",
    "        filas_indice.append([nombre, nombre + f\"-{n}\", n, m, \"instances/\"+nombre+\"/\"+nombre+f\"-{n}.txt\"])\n",
    "    pd.DataFrame(filas_indice, columns=[\"dataset\", \"instance\", \"n\", \"m\", \"file\"]).to_csv(\"instances/\"+nombre+\"/indice.csv\", index=False, header=True)\n",
    "\n"
   ]
  },
  {
   "cell_type": "code",
   "execution_count": 184,
   "id": "fcdc61f8",
   "metadata": {},
   "outputs": [],
   "source": [
    "clean_data(\"peor_bto_bf\")\n",
    "clean_data(\"peor_btf_bf\")\n",
    "clean_data(\"random_bf\")"
   ]
  },
  {
   "cell_type": "code",
   "execution_count": 187,
   "id": "1f62af7a",
   "metadata": {},
   "outputs": [
    {
     "data": {
      "application/vnd.jupyter.widget-view+json": {
       "model_id": "f212eac6849f425d94c2a6eb8392d43f",
       "version_major": 2,
       "version_minor": 0
      },
      "text/plain": [
       "Completed experiments:   0%|          | 0/63 [00:00<?, ?it/s]"
      ]
     },
     "metadata": {},
     "output_type": "display_data"
    }
   ],
   "source": [
    "experiments = [] #vaciamos lista para llenarla con los datos que queremos\n",
    "\n",
    "\n",
    "instance = \"peor_bto_bf\"\n",
    "df_data = pd.read_csv(\"instances/\"+instance+\"/indice.csv\")\n",
    "for k in range(0, len(df_data)):\n",
    "    row_k = df_data.iloc[k]\n",
    "    experiments.append([row_k[\"dataset\"], row_k[\"n\"], row_k[\"m\"], \"bf\", row_k[\"file\"]])\n",
    "\n",
    "\n",
    "instance = \"peor_btf_bf\"\n",
    "df_data = pd.read_csv(\"instances/\"+instance+\"/indice.csv\")\n",
    "for k in range(0, len(df_data)):\n",
    "    row_k = df_data.iloc[k]\n",
    "    experiments.append([row_k[\"dataset\"], row_k[\"n\"], row_k[\"m\"], \"bf\", row_k[\"file\"]])\n",
    "\n",
    "instance = \"random_bf\"\n",
    "df_data = pd.read_csv(\"instances/\"+instance+\"/indice.csv\")\n",
    "for k in range(0, len(df_data)):\n",
    "    row_k = df_data.iloc[k]\n",
    "    experiments.append([row_k[\"dataset\"], row_k[\"n\"], row_k[\"m\"], \"bf\", row_k[\"file\"]])\n",
    "    \n",
    "#corremos los experimentos\n",
    "run_experiments()\n"
   ]
  }
 ],
 "metadata": {
  "kernelspec": {
   "display_name": "Python 3 (ipykernel)",
   "language": "python",
   "name": "python3"
  },
  "language_info": {
   "codemirror_mode": {
    "name": "ipython",
    "version": 3
   },
   "file_extension": ".py",
   "mimetype": "text/x-python",
   "name": "python",
   "nbconvert_exporter": "python",
   "pygments_lexer": "ipython3",
   "version": "3.8.10"
  }
 },
 "nbformat": 4,
 "nbformat_minor": 5
}
