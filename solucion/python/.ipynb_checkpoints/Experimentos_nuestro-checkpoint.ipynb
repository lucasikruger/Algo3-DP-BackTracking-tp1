{
 "cells": [
  {
   "cell_type": "markdown",
   "id": "4f4c077f",
   "metadata": {},
   "source": [
    "# GENERAMOS LAS INSTANCIAS:"
   ]
  },
  {
   "cell_type": "markdown",
   "id": "900b41f6",
   "metadata": {
    "scrolled": true
   },
   "source": [
    "H1 velocidad FB<BT<DP\n",
    "H2 BT va a alejarse mas de su complejidad calculada teoricamente\n",
    "H3 armar hipotesis en torno a instancias particulares, si lo que le damos es asi, esperamos asa\n",
    "\n",
    "\n",
    "\n",
    "\n",
    "m: 1\n",
    "s:[24,19,15,8]\n",
    "c:[5,4,7,8]\n",
    "B:[2,1,3,1]"
   ]
  },
  {
   "cell_type": "markdown",
   "id": "25a327a6",
   "metadata": {},
   "source": [
    "##### Importamos las librerias a usar"
   ]
  },
  {
   "cell_type": "code",
   "execution_count": 1,
   "id": "5774bbb2",
   "metadata": {},
   "outputs": [],
   "source": [
    "import math, subprocess, time, random, os, shutil, sys\n",
    "import pandas as pd\n",
    "import numpy as np\n",
    "from IPython.display import display, clear_output\n",
    "import seaborn as sns\n",
    "import matplotlib.pyplot as plt\n",
    "from tqdm.notebook import tqdm"
   ]
  },
  {
   "cell_type": "code",
   "execution_count": 2,
   "id": "a70fb0ce",
   "metadata": {},
   "outputs": [],
   "source": [
    "def save_instance(dataset, instance_name, b,c, m):\n",
    "    with open(F\"instances/{dataset}/{instance_name}.txt\", \"w\") as f:\n",
    "        print(len(c), m, file=f)\n",
    "        for j in range(0,len(c)): \n",
    "            print(b[j], file=f, end=\" \")\n",
    "            print(c[j], file=f, end=\" \\n\")\n"
   ]
  },
  {
   "cell_type": "code",
   "execution_count": 13,
   "id": "56b1f565",
   "metadata": {},
   "outputs": [],
   "source": [
    "def clean_data(nombre):\n",
    "    try:\n",
    "        shutil.rmtree(\"instances/\"+nombre)\n",
    "    except OSError as e:\n",
    "        print (\"Error: %s - %s.\" % (e.filename, e.strerror))\n",
    "    if os.path.isfile(\"results/result.csv\"):\n",
    "        df = pd.read_csv(\"results/result.csv\")\n",
    "        df =  df[df.dataset != nombre]\n",
    "        df.to_csv(\"results/result.csv\", index=False)\n",
    "\n",
    "    os.makedirs(\"instances/\"+nombre, exist_ok=False)"
   ]
  },
  {
   "cell_type": "code",
   "execution_count": 50,
   "id": "c4ff5dea",
   "metadata": {},
   "outputs": [],
   "source": [
    "def plot(title,bf=True,bt=True,bto=True,btf=True,dp=True,l = False,x=9,y=7):\n",
    "    fig = plt.figure(figsize =(x, y))\n",
    "    \n",
    "    if (l) :\n",
    "        l = \"\" \n",
    "    else:\n",
    "        l = \"o\" \n",
    "    \n",
    "    if (bf):\n",
    "        df_bf = df_resultados[(df_resultados[\"method\"]==\"bf\")]\n",
    "    if(bt):\n",
    "        df_bt = df_resultados[(df_resultados[\"method\"]==\"bt\")]\n",
    "    if(bto):\n",
    "        df_bto = df_resultados[(df_resultados[\"method\"]==\"bto\")]\n",
    "    if(btf):\n",
    "        df_btf = df_resultados[(df_resultados[\"method\"]==\"btf\")]\n",
    "    if(dp):\n",
    "        df_dp = df_resultados[(df_resultados[\"method\"]==\"dp\")]\n",
    "\n",
    "    plt.plot()\n",
    "\n",
    "    #puntos\n",
    "    if (bf):\n",
    "        plt.plot(df_bf[\"n\"],df_bf[\"time\"],l, c=\"black\", label=\"bf\")\n",
    "    if(bt):\n",
    "        plt.plot(df_bt[\"n\"],df_bt[\"time\"],l, c=\"blue\", label=\"bt\")\n",
    "    if(bto):\n",
    "        plt.plot(df_bto[\"n\"],df_bto[\"time\"],l, c=\"green\", label=\"bto\")\n",
    "    if(btf):\n",
    "        plt.plot(df_btf[\"n\"],df_btf[\"time\"],l, c=\"r\", label=\"btf\")\n",
    "    if(dp):\n",
    "        plt.plot(df_dp[\"n\"],df_dp[\"time\"],l, c=\"purple\", label=\"dp\")\n",
    "\n",
    "    plt.legend()\n",
    "    plt.grid()\n",
    "\n",
    "\n",
    "\n",
    "    plt.title(title)\n",
    "    plt.xlabel('n') \n",
    "    plt.ylabel('Clocks')  \n",
    "    plt.show()"
   ]
  },
  {
   "cell_type": "code",
   "execution_count": 52,
   "id": "98dc7083",
   "metadata": {},
   "outputs": [],
   "source": [
    "def exp2():\n",
    "    filas_indice = []\n",
    "    \n",
    "    nombre = \"bf_random\"\n",
    "        \n",
    "    clean_data(nombre)\n",
    "    for n in tqdm(range(12, 43,3), \"Generating instances\"):\n",
    "       \n",
    "        \n",
    "        #damos valores a n,w,b,c\n",
    "        m= np.random.randint(100,1000)\n",
    "        b = np.random.randint(100, size=n)\n",
    "        c = np.random.randint(100, size=n)\n",
    "        save_instance(nombre, nombre+F\"-{n}\",b,c, m)\n",
    "        filas_indice.append([nombre, nombre + f\"-{n}\", n, m, \"instances/\"+nombre+\"/\"+nombre+f\"-{n}.txt\"])\n",
    "    pd.DataFrame(filas_indice, columns=[\"dataset\", \"instance\", \"n\", \"m\", \"file\"]).to_csv(\"instances/\"+nombre+\"/indice.csv\", index=False, header=True)"
   ]
  },
  {
   "cell_type": "code",
   "execution_count": 6,
   "id": "f2e235ec",
   "metadata": {},
   "outputs": [],
   "source": [
    "def exp2():\n",
    "    filas_indice = []\n",
    "    nombre = \"escalera\"\n",
    "\n",
    "\n",
    "    clean_data(nombre)\n",
    "    \n",
    "    \n",
    "    for n in tqdm(range(1, 52,5), \"Generating instances\"):\n",
    "        \n",
    "        #damos valores a n,w,b,c\n",
    "        m = int(((n**2/2)- (((n**2)/2)/5)))\n",
    "        b = list(range(0,n))\n",
    "        c = list(range(n,0,-1))\n",
    "        save_instance(nombre, nombre+F\"-{n}\",b,c, m)\n",
    "        filas_indice.append([nombre, nombre + f\"-{n}\", n, m, \"instances/\"+nombre+\"/\"+nombre+f\"-{n}.txt\"])\n",
    "    pd.DataFrame(filas_indice, columns=[\"dataset\", \"instance\", \"n\", \"m\", \"file\"]).to_csv(\"instances/\"+nombre+\"/indice.csv\", index=False, header=True)"
   ]
  },
  {
   "cell_type": "code",
   "execution_count": 7,
   "id": "e7bea170",
   "metadata": {},
   "outputs": [],
   "source": [
    "def exp3():\n",
    "    filas_indice = []\n",
    "    nombre = \"escalera2\"\n",
    "        \n",
    "    clean_data(nombre)\n",
    "        \n",
    "    for n in tqdm(range(50, 501,50), \"Generating instances\"):\n",
    "        \n",
    "        #damos valores a n,w,b,c\n",
    "        m = int(((n**2/2)- (((n**2)/2)/5)))\n",
    "        c = list(range(0,n))\n",
    "        b = list(range(n,0,-1))\n",
    "        save_instance(nombre, nombre+F\"-{n}\",b,c, m)\n",
    "        filas_indice.append([nombre, nombre + f\"-{n}\", n, m, \"instances/\"+nombre+\"/\"+nombre+f\"-{n}.txt\"])\n",
    "    pd.DataFrame(filas_indice, columns=[\"dataset\", \"instance\", \"n\", \"m\", \"file\"]).to_csv(\"instances/\"+nombre+\"/indice.csv\", index=False, header=True)"
   ]
  },
  {
   "cell_type": "markdown",
   "id": "c535bc95",
   "metadata": {},
   "source": [
    "#### En esta seccion nos centraremos en correr los experimentos con las instancias generadass mas arriba"
   ]
  },
  {
   "cell_type": "markdown",
   "id": "52ac6e58",
   "metadata": {},
   "source": [
    "#### Funciones a usar:"
   ]
  },
  {
   "cell_type": "code",
   "execution_count": 43,
   "id": "7727ca76",
   "metadata": {},
   "outputs": [],
   "source": [
    "def run_program(method, test_file):\n",
    "    #corre el programa con el metodo indicado en el test file indicado y devuelve el tiempo tomado en ejecutar\n",
    "    #leemos la instancia\n",
    "    \n",
    "    start = time.time() #comenzamos a medir el timepo\n",
    "    proc = subprocess.Popen([\"../src/tp1\",test_file,method], stderr=subprocess.PIPE,stdout = subprocess.PIPE, stdin=subprocess.PIPE, universal_newlines = True) #lanzamos proceso\n",
    "    #\n",
    "    \n",
    "    exit_code = proc.wait()#esperamos a que el proceso termien\n",
    "    \n",
    "    end = time.time() #terminamos de medir el tiempo\n",
    "    \n",
    "    #mandamos error de ser necesario \n",
    "    if exit_code != 0: raise RuntimeError(F\"Hubo un error en la experimentacion para el algoritmo: {method} con la instancia {test_file}.\")\n",
    "    \n",
    "    return end-start #devolvemos el timepo\n",
    "    "
   ]
  },
  {
   "cell_type": "code",
   "execution_count": 51,
   "id": "b0c81d51",
   "metadata": {},
   "outputs": [],
   "source": [
    "def run_experiments(name):\n",
    "    #recibe un nombre para darle al archivo de salida y lo que hace es correr todos los experimentos que se encuentren en la lista llamada experiments que debe ser generada con anterioridad\n",
    "    columns = [\"dataset\",\"exp_name\",\"n\", \"m\", \"method\", \"time\"]\n",
    "    rows = []\n",
    "    j = 1\n",
    "    T =10 # Numero de veces que se ejecuta cada experimento (para mayor fidelidad del tiempo).\n",
    "    explen = str(len(experiments))\n",
    "    \n",
    "    \n",
    "    for exp in tqdm(experiments, \"Completed experiments\"):\n",
    "#         print(exp)\n",
    "        times = []\n",
    "        for i in range(0, T):\n",
    "            times.append(run_program(exp[3], exp[4]))\n",
    "        rows.append([exp[0], name, exp[1], exp[2],exp[3], np.mean(times)])\n",
    "    result = pd.DataFrame(rows, columns=columns)\n",
    "    \n",
    "    if os.path.isfile(\"results/result.csv\"):\n",
    "        df = pd.read_csv(\"results/result.csv\")\n",
    "        df = pd.concat([df, result], ignore_index = True, axis = 0)\n",
    "    else:\n",
    "        df = result\n",
    "    \n",
    "    \n",
    "    df.to_csv(\"results/result.csv\", index=False, header=True)"
   ]
  },
  {
   "cell_type": "markdown",
   "id": "0f2ee779",
   "metadata": {},
   "source": [
    "## Corrida de experimentos"
   ]
  },
  {
   "cell_type": "markdown",
   "id": "cf273ec3",
   "metadata": {},
   "source": [
    "#### Leemos los indices de las instancias generadas anteriormente "
   ]
  },
  {
   "cell_type": "markdown",
   "id": "267f3591",
   "metadata": {},
   "source": [
    "#### Experimento 1:"
   ]
  },
  {
   "cell_type": "markdown",
   "id": "8d60e4e1",
   "metadata": {},
   "source": [
    "En este experimento probaremos con casos aleatorios elegidos uniformemente usando la funcion randint"
   ]
  },
  {
   "cell_type": "code",
   "execution_count": 31,
   "id": "7f4b764e",
   "metadata": {
    "scrolled": false
   },
   "outputs": [],
   "source": [
    "# exp1()\n",
    "# instance = \"prueba\"\n",
    "# df_data = pd.read_csv(\"instances/\"+instance+\"/indice.csv\");\n",
    "# experiments = [] #vaciamos lista para llenarla con los datos que queremos\n",
    "# name = \"prueba-exp\"\n",
    "\n",
    "# #llenamos la lista de experimentos\n",
    "# for k in range(0, len(df_data)):\n",
    "#     row_k = df_data.iloc[k]\n",
    "# #     experiments.append([row_k[\"dataset\"], row_k[\"n\"], row_k[\"m\"], \"bf\", row_k[\"file\"]])\n",
    "#     experiments.append([row_k[\"dataset\"], row_k[\"n\"], row_k[\"m\"], \"bt\", row_k[\"file\"]])\n",
    "#     experiments.append([row_k[\"dataset\"], row_k[\"n\"], row_k[\"m\"], \"bto\", row_k[\"file\"]])\n",
    "#     experiments.append([row_k[\"dataset\"], row_k[\"n\"], row_k[\"m\"], \"btf\", row_k[\"file\"]])\n",
    "#     experiments.append([row_k[\"dataset\"], row_k[\"n\"], row_k[\"m\"], \"dp\", row_k[\"file\"]])\n",
    "\n",
    "# #corremos los experimentos\n",
    "# run_experiments(name)\n",
    "\n",
    "# #veamos el resultado\n",
    "# df_resultados = pd.read_csv(\"results/result.csv\")\n",
    "# df_resultados = df_resultados[(df_resultados[\"dataset\"]==instance)]\n",
    "# display(df_resultados[0:10])\n",
    "\n",
    "# li = True\n",
    "# plot(\"exp2\", l = li)\n",
    "# plot(\"exp2\",bf = False, dp = False, l = li)\n",
    "# plot(\"exp2\",btf = False, bto = False, l = li)\n",
    "\n"
   ]
  },
  {
   "cell_type": "code",
   "execution_count": 56,
   "id": "c9196fa3",
   "metadata": {
    "scrolled": true
   },
   "outputs": [
    {
     "data": {
      "application/vnd.jupyter.widget-view+json": {
       "model_id": "a8057bbf969b47fd813f78cda663f7c1",
       "version_major": 2,
       "version_minor": 0
      },
      "text/plain": [
       "Generating instances:   0%|          | 0/11 [00:00<?, ?it/s]"
      ]
     },
     "metadata": {},
     "output_type": "display_data"
    },
    {
     "data": {
      "application/vnd.jupyter.widget-view+json": {
       "model_id": "54abceedba8844fa814293d5d5987dc2",
       "version_major": 2,
       "version_minor": 0
      },
      "text/plain": [
       "Completed experiments:   0%|          | 0/11 [00:00<?, ?it/s]"
      ]
     },
     "metadata": {},
     "output_type": "display_data"
    },
    {
     "ename": "KeyboardInterrupt",
     "evalue": "",
     "output_type": "error",
     "traceback": [
      "\u001b[0;31m---------------------------------------------------------------------------\u001b[0m",
      "\u001b[0;31mKeyboardInterrupt\u001b[0m                         Traceback (most recent call last)",
      "\u001b[0;32m/tmp/ipykernel_165583/1466082697.py\u001b[0m in \u001b[0;36m<module>\u001b[0;34m\u001b[0m\n\u001b[1;32m     15\u001b[0m \u001b[0;34m\u001b[0m\u001b[0m\n\u001b[1;32m     16\u001b[0m \u001b[0;31m#corremos los experimentos\u001b[0m\u001b[0;34m\u001b[0m\u001b[0;34m\u001b[0m\u001b[0;34m\u001b[0m\u001b[0m\n\u001b[0;32m---> 17\u001b[0;31m \u001b[0mrun_experiments\u001b[0m\u001b[0;34m(\u001b[0m\u001b[0mname\u001b[0m\u001b[0;34m)\u001b[0m\u001b[0;34m\u001b[0m\u001b[0;34m\u001b[0m\u001b[0m\n\u001b[0m\u001b[1;32m     18\u001b[0m \u001b[0;34m\u001b[0m\u001b[0m\n\u001b[1;32m     19\u001b[0m \u001b[0;31m#veamos el resultado\u001b[0m\u001b[0;34m\u001b[0m\u001b[0;34m\u001b[0m\u001b[0;34m\u001b[0m\u001b[0m\n",
      "\u001b[0;32m/tmp/ipykernel_165583/1930460865.py\u001b[0m in \u001b[0;36mrun_experiments\u001b[0;34m(name)\u001b[0m\n\u001b[1;32m     12\u001b[0m         \u001b[0mtimes\u001b[0m \u001b[0;34m=\u001b[0m \u001b[0;34m[\u001b[0m\u001b[0;34m]\u001b[0m\u001b[0;34m\u001b[0m\u001b[0;34m\u001b[0m\u001b[0m\n\u001b[1;32m     13\u001b[0m         \u001b[0;32mfor\u001b[0m \u001b[0mi\u001b[0m \u001b[0;32min\u001b[0m \u001b[0mrange\u001b[0m\u001b[0;34m(\u001b[0m\u001b[0;36m0\u001b[0m\u001b[0;34m,\u001b[0m \u001b[0mT\u001b[0m\u001b[0;34m)\u001b[0m\u001b[0;34m:\u001b[0m\u001b[0;34m\u001b[0m\u001b[0;34m\u001b[0m\u001b[0m\n\u001b[0;32m---> 14\u001b[0;31m             \u001b[0mtimes\u001b[0m\u001b[0;34m.\u001b[0m\u001b[0mappend\u001b[0m\u001b[0;34m(\u001b[0m\u001b[0mrun_program\u001b[0m\u001b[0;34m(\u001b[0m\u001b[0mexp\u001b[0m\u001b[0;34m[\u001b[0m\u001b[0;36m3\u001b[0m\u001b[0;34m]\u001b[0m\u001b[0;34m,\u001b[0m \u001b[0mexp\u001b[0m\u001b[0;34m[\u001b[0m\u001b[0;36m4\u001b[0m\u001b[0;34m]\u001b[0m\u001b[0;34m)\u001b[0m\u001b[0;34m)\u001b[0m\u001b[0;34m\u001b[0m\u001b[0;34m\u001b[0m\u001b[0m\n\u001b[0m\u001b[1;32m     15\u001b[0m         \u001b[0mrows\u001b[0m\u001b[0;34m.\u001b[0m\u001b[0mappend\u001b[0m\u001b[0;34m(\u001b[0m\u001b[0;34m[\u001b[0m\u001b[0mexp\u001b[0m\u001b[0;34m[\u001b[0m\u001b[0;36m0\u001b[0m\u001b[0;34m]\u001b[0m\u001b[0;34m,\u001b[0m \u001b[0mname\u001b[0m\u001b[0;34m,\u001b[0m \u001b[0mexp\u001b[0m\u001b[0;34m[\u001b[0m\u001b[0;36m1\u001b[0m\u001b[0;34m]\u001b[0m\u001b[0;34m,\u001b[0m \u001b[0mexp\u001b[0m\u001b[0;34m[\u001b[0m\u001b[0;36m2\u001b[0m\u001b[0;34m]\u001b[0m\u001b[0;34m,\u001b[0m\u001b[0mexp\u001b[0m\u001b[0;34m[\u001b[0m\u001b[0;36m3\u001b[0m\u001b[0;34m]\u001b[0m\u001b[0;34m,\u001b[0m \u001b[0mnp\u001b[0m\u001b[0;34m.\u001b[0m\u001b[0mmean\u001b[0m\u001b[0;34m(\u001b[0m\u001b[0mtimes\u001b[0m\u001b[0;34m)\u001b[0m\u001b[0;34m]\u001b[0m\u001b[0;34m)\u001b[0m\u001b[0;34m\u001b[0m\u001b[0;34m\u001b[0m\u001b[0m\n\u001b[1;32m     16\u001b[0m     \u001b[0mresult\u001b[0m \u001b[0;34m=\u001b[0m \u001b[0mpd\u001b[0m\u001b[0;34m.\u001b[0m\u001b[0mDataFrame\u001b[0m\u001b[0;34m(\u001b[0m\u001b[0mrows\u001b[0m\u001b[0;34m,\u001b[0m \u001b[0mcolumns\u001b[0m\u001b[0;34m=\u001b[0m\u001b[0mcolumns\u001b[0m\u001b[0;34m)\u001b[0m\u001b[0;34m\u001b[0m\u001b[0;34m\u001b[0m\u001b[0m\n",
      "\u001b[0;32m/tmp/ipykernel_165583/3954786927.py\u001b[0m in \u001b[0;36mrun_program\u001b[0;34m(method, test_file)\u001b[0m\n\u001b[1;32m      7\u001b[0m     \u001b[0;31m#\u001b[0m\u001b[0;34m\u001b[0m\u001b[0;34m\u001b[0m\u001b[0;34m\u001b[0m\u001b[0m\n\u001b[1;32m      8\u001b[0m \u001b[0;34m\u001b[0m\u001b[0m\n\u001b[0;32m----> 9\u001b[0;31m     \u001b[0mexit_code\u001b[0m \u001b[0;34m=\u001b[0m \u001b[0mproc\u001b[0m\u001b[0;34m.\u001b[0m\u001b[0mwait\u001b[0m\u001b[0;34m(\u001b[0m\u001b[0;34m)\u001b[0m\u001b[0;31m#esperamos a que el proceso termien\u001b[0m\u001b[0;34m\u001b[0m\u001b[0;34m\u001b[0m\u001b[0m\n\u001b[0m\u001b[1;32m     10\u001b[0m \u001b[0;34m\u001b[0m\u001b[0m\n\u001b[1;32m     11\u001b[0m     \u001b[0mend\u001b[0m \u001b[0;34m=\u001b[0m \u001b[0mtime\u001b[0m\u001b[0;34m.\u001b[0m\u001b[0mtime\u001b[0m\u001b[0;34m(\u001b[0m\u001b[0;34m)\u001b[0m \u001b[0;31m#terminamos de medir el tiempo\u001b[0m\u001b[0;34m\u001b[0m\u001b[0;34m\u001b[0m\u001b[0m\n",
      "\u001b[0;32m/usr/lib/python3.8/subprocess.py\u001b[0m in \u001b[0;36mwait\u001b[0;34m(self, timeout)\u001b[0m\n\u001b[1;32m   1081\u001b[0m             \u001b[0mendtime\u001b[0m \u001b[0;34m=\u001b[0m \u001b[0m_time\u001b[0m\u001b[0;34m(\u001b[0m\u001b[0;34m)\u001b[0m \u001b[0;34m+\u001b[0m \u001b[0mtimeout\u001b[0m\u001b[0;34m\u001b[0m\u001b[0;34m\u001b[0m\u001b[0m\n\u001b[1;32m   1082\u001b[0m         \u001b[0;32mtry\u001b[0m\u001b[0;34m:\u001b[0m\u001b[0;34m\u001b[0m\u001b[0;34m\u001b[0m\u001b[0m\n\u001b[0;32m-> 1083\u001b[0;31m             \u001b[0;32mreturn\u001b[0m \u001b[0mself\u001b[0m\u001b[0;34m.\u001b[0m\u001b[0m_wait\u001b[0m\u001b[0;34m(\u001b[0m\u001b[0mtimeout\u001b[0m\u001b[0;34m=\u001b[0m\u001b[0mtimeout\u001b[0m\u001b[0;34m)\u001b[0m\u001b[0;34m\u001b[0m\u001b[0;34m\u001b[0m\u001b[0m\n\u001b[0m\u001b[1;32m   1084\u001b[0m         \u001b[0;32mexcept\u001b[0m \u001b[0mKeyboardInterrupt\u001b[0m\u001b[0;34m:\u001b[0m\u001b[0;34m\u001b[0m\u001b[0;34m\u001b[0m\u001b[0m\n\u001b[1;32m   1085\u001b[0m             \u001b[0;31m# https://bugs.python.org/issue25942\u001b[0m\u001b[0;34m\u001b[0m\u001b[0;34m\u001b[0m\u001b[0;34m\u001b[0m\u001b[0m\n",
      "\u001b[0;32m/usr/lib/python3.8/subprocess.py\u001b[0m in \u001b[0;36m_wait\u001b[0;34m(self, timeout)\u001b[0m\n\u001b[1;32m   1804\u001b[0m                         \u001b[0;32mif\u001b[0m \u001b[0mself\u001b[0m\u001b[0;34m.\u001b[0m\u001b[0mreturncode\u001b[0m \u001b[0;32mis\u001b[0m \u001b[0;32mnot\u001b[0m \u001b[0;32mNone\u001b[0m\u001b[0;34m:\u001b[0m\u001b[0;34m\u001b[0m\u001b[0;34m\u001b[0m\u001b[0m\n\u001b[1;32m   1805\u001b[0m                             \u001b[0;32mbreak\u001b[0m  \u001b[0;31m# Another thread waited.\u001b[0m\u001b[0;34m\u001b[0m\u001b[0;34m\u001b[0m\u001b[0m\n\u001b[0;32m-> 1806\u001b[0;31m                         \u001b[0;34m(\u001b[0m\u001b[0mpid\u001b[0m\u001b[0;34m,\u001b[0m \u001b[0msts\u001b[0m\u001b[0;34m)\u001b[0m \u001b[0;34m=\u001b[0m \u001b[0mself\u001b[0m\u001b[0;34m.\u001b[0m\u001b[0m_try_wait\u001b[0m\u001b[0;34m(\u001b[0m\u001b[0;36m0\u001b[0m\u001b[0;34m)\u001b[0m\u001b[0;34m\u001b[0m\u001b[0;34m\u001b[0m\u001b[0m\n\u001b[0m\u001b[1;32m   1807\u001b[0m                         \u001b[0;31m# Check the pid and loop as waitpid has been known to\u001b[0m\u001b[0;34m\u001b[0m\u001b[0;34m\u001b[0m\u001b[0;34m\u001b[0m\u001b[0m\n\u001b[1;32m   1808\u001b[0m                         \u001b[0;31m# return 0 even without WNOHANG in odd situations.\u001b[0m\u001b[0;34m\u001b[0m\u001b[0;34m\u001b[0m\u001b[0;34m\u001b[0m\u001b[0m\n",
      "\u001b[0;32m/usr/lib/python3.8/subprocess.py\u001b[0m in \u001b[0;36m_try_wait\u001b[0;34m(self, wait_flags)\u001b[0m\n\u001b[1;32m   1762\u001b[0m             \u001b[0;34m\"\"\"All callers to this function MUST hold self._waitpid_lock.\"\"\"\u001b[0m\u001b[0;34m\u001b[0m\u001b[0;34m\u001b[0m\u001b[0m\n\u001b[1;32m   1763\u001b[0m             \u001b[0;32mtry\u001b[0m\u001b[0;34m:\u001b[0m\u001b[0;34m\u001b[0m\u001b[0;34m\u001b[0m\u001b[0m\n\u001b[0;32m-> 1764\u001b[0;31m                 \u001b[0;34m(\u001b[0m\u001b[0mpid\u001b[0m\u001b[0;34m,\u001b[0m \u001b[0msts\u001b[0m\u001b[0;34m)\u001b[0m \u001b[0;34m=\u001b[0m \u001b[0mos\u001b[0m\u001b[0;34m.\u001b[0m\u001b[0mwaitpid\u001b[0m\u001b[0;34m(\u001b[0m\u001b[0mself\u001b[0m\u001b[0;34m.\u001b[0m\u001b[0mpid\u001b[0m\u001b[0;34m,\u001b[0m \u001b[0mwait_flags\u001b[0m\u001b[0;34m)\u001b[0m\u001b[0;34m\u001b[0m\u001b[0;34m\u001b[0m\u001b[0m\n\u001b[0m\u001b[1;32m   1765\u001b[0m             \u001b[0;32mexcept\u001b[0m \u001b[0mChildProcessError\u001b[0m\u001b[0;34m:\u001b[0m\u001b[0;34m\u001b[0m\u001b[0;34m\u001b[0m\u001b[0m\n\u001b[1;32m   1766\u001b[0m                 \u001b[0;31m# This happens if SIGCLD is set to be ignored or waiting\u001b[0m\u001b[0;34m\u001b[0m\u001b[0;34m\u001b[0m\u001b[0;34m\u001b[0m\u001b[0m\n",
      "\u001b[0;31mKeyboardInterrupt\u001b[0m: "
     ]
    }
   ],
   "source": [
    "exp2()\n",
    "instance = \"bf_random\"\n",
    "df_data = pd.read_csv(\"instances/\"+instance+\"/indice.csv\");\n",
    "experiments = [] #vaciamos lista para llenarla con los datos que queremos\n",
    "name = \"bf_random_exp\"\n",
    "\n",
    "#llenamos la cola de experimentos\n",
    "for k in range(0, len(df_data)):\n",
    "    row_k = df_data.iloc[k]\n",
    "    experiments.append([row_k[\"dataset\"], row_k[\"n\"], row_k[\"m\"], \"bf\", row_k[\"file\"]])\n",
    "#     experiments.append([row_k[\"dataset\"], row_k[\"n\"], row_k[\"m\"], \"bt\", row_k[\"file\"]])\n",
    "#     experiments.append([row_k[\"dataset\"], row_k[\"n\"], row_k[\"m\"], \"bto\", row_k[\"file\"]])\n",
    "#     experiments.append([row_k[\"dataset\"], row_k[\"n\"], row_k[\"m\"], \"btf\", row_k[\"file\"]])\n",
    "#     experiments.append([row_k[\"dataset\"], row_k[\"n\"], row_k[\"m\"], \"dp\", row_k[\"file\"]])\n",
    "\n",
    "#corremos los experimentos\n",
    "run_experiments(name)\n",
    "\n",
    "#veamos el resultado\n",
    "df_resultados = pd.read_csv(\"results/result.csv\")\n",
    "df_resultados = df_resultados[(df_resultados[\"dataset\"]==instance)]\n",
    "display(df_resultados[0:10])\n",
    "li = True\n",
    "plot(\"exp2\", l = li)\n",
    "plot(\"exp2\",bf = False, dp = False, l = li)\n",
    "plot(\"exp2\",btf = False, bto = False, l = li)\n"
   ]
  },
  {
   "cell_type": "code",
   "execution_count": 54,
   "id": "9c46b582",
   "metadata": {},
   "outputs": [
    {
     "data": {
      "image/png": "[encoded data removed]",
      "text/plain": [
       "<Figure size 648x504 with 1 Axes>"
      ]
     },
     "metadata": {
      "needs_background": "light"
     },
     "output_type": "display_data"
    }
   ],
   "source": [
    "plot(\"exp2\",bf = True, dp = False, l = False)"
   ]
  },
  {
   "cell_type": "code",
   "execution_count": null,
   "id": "3a518e2d",
   "metadata": {},
   "outputs": [],
   "source": [
    "exp3()\n",
    "instance = \"escalera2\"\n",
    "df_data = pd.read_csv(\"instances/\"+instance+\"/indice.csv\");\n",
    "experiments = [] #vaciamos lista para llenarla con los datos que queremos\n",
    "name = \"escalera2-exp\"\n",
    "\n",
    "#llenamos la cola de experimentos\n",
    "for k in range(0, len(df_data)):\n",
    "    row_k = df_data.iloc[k]\n",
    "    experiments.append([row_k[\"dataset\"], row_k[\"n\"], row_k[\"m\"], \"bf\", row_k[\"file\"]])\n",
    "    experiments.append([row_k[\"dataset\"], row_k[\"n\"], row_k[\"m\"], \"bt\", row_k[\"file\"]])\n",
    "    experiments.append([row_k[\"dataset\"], row_k[\"n\"], row_k[\"m\"], \"bto\", row_k[\"file\"]])\n",
    "    experiments.append([row_k[\"dataset\"], row_k[\"n\"], row_k[\"m\"], \"btf\", row_k[\"file\"]])\n",
    "    experiments.append([row_k[\"dataset\"], row_k[\"n\"], row_k[\"m\"], \"dp\", row_k[\"file\"]])\n",
    "\n",
    "#corremos los experimentos\n",
    "run_experiments(name)\n",
    "\n",
    "#veamos el resultado\n",
    "df_resultados = pd.read_csv(\"results/result.csv\")\n",
    "df_resultados = df_resultados[(df_resultados[\"dataset\"]==instance)]\n",
    "display(df_resultados[0:10])\n",
    "li = True\n",
    "plot(\"exp3\", l = li)\n",
    "plot(\"exp3\",bf = False, dp = False, l = li)\n",
    "plot(\"exp3\",btf = False, bto = False, l = li)"
   ]
  },
  {
   "cell_type": "code",
   "execution_count": null,
   "id": "4255b8d0",
   "metadata": {},
   "outputs": [],
   "source": []
  },
  {
   "cell_type": "code",
   "execution_count": null,
   "id": "d2ad7bfc",
   "metadata": {},
   "outputs": [],
   "source": []
  },
  {
   "cell_type": "code",
   "execution_count": null,
   "id": "92141e09",
   "metadata": {},
   "outputs": [],
   "source": []
  },
  {
   "cell_type": "code",
   "execution_count": null,
   "id": "087430b0",
   "metadata": {},
   "outputs": [],
   "source": []
  },
  {
   "cell_type": "markdown",
   "id": "337fa3c6",
   "metadata": {},
   "source": [
    "# ANALISIS"
   ]
  },
  {
   "cell_type": "code",
   "execution_count": 9,
   "id": "82e2e41e",
   "metadata": {},
   "outputs": [
    {
     "data": {
      "text/html": [
       "<div>\n",
       "<style scoped>\n",
       "    .dataframe tbody tr th:only-of-type {\n",
       "        vertical-align: middle;\n",
       "    }\n",
       "\n",
       "    .dataframe tbody tr th {\n",
       "        vertical-align: top;\n",
       "    }\n",
       "\n",
       "    .dataframe thead th {\n",
       "        text-align: right;\n",
       "    }\n",
       "</style>\n",
       "<table border=\"1\" class=\"dataframe\">\n",
       "  <thead>\n",
       "    <tr style=\"text-align: right;\">\n",
       "      <th></th>\n",
       "      <th>dataset</th>\n",
       "      <th>exp_name</th>\n",
       "      <th>n</th>\n",
       "      <th>m</th>\n",
       "      <th>method</th>\n",
       "      <th>time</th>\n",
       "    </tr>\n",
       "  </thead>\n",
       "  <tbody>\n",
       "    <tr>\n",
       "      <th>0</th>\n",
       "      <td>prueba</td>\n",
       "      <td>exp1</td>\n",
       "      <td>4</td>\n",
       "      <td>150</td>\n",
       "      <td>bf</td>\n",
       "      <td>0.018622</td>\n",
       "    </tr>\n",
       "    <tr>\n",
       "      <th>1</th>\n",
       "      <td>prueba</td>\n",
       "      <td>exp1</td>\n",
       "      <td>4</td>\n",
       "      <td>150</td>\n",
       "      <td>bt</td>\n",
       "      <td>0.013074</td>\n",
       "    </tr>\n",
       "    <tr>\n",
       "      <th>2</th>\n",
       "      <td>prueba</td>\n",
       "      <td>exp1</td>\n",
       "      <td>4</td>\n",
       "      <td>150</td>\n",
       "      <td>bto</td>\n",
       "      <td>0.011284</td>\n",
       "    </tr>\n",
       "    <tr>\n",
       "      <th>3</th>\n",
       "      <td>prueba</td>\n",
       "      <td>exp1</td>\n",
       "      <td>4</td>\n",
       "      <td>150</td>\n",
       "      <td>btf</td>\n",
       "      <td>0.013608</td>\n",
       "    </tr>\n",
       "    <tr>\n",
       "      <th>4</th>\n",
       "      <td>prueba</td>\n",
       "      <td>exp1</td>\n",
       "      <td>4</td>\n",
       "      <td>150</td>\n",
       "      <td>btof</td>\n",
       "      <td>0.010690</td>\n",
       "    </tr>\n",
       "    <tr>\n",
       "      <th>5</th>\n",
       "      <td>prueba</td>\n",
       "      <td>exp1</td>\n",
       "      <td>4</td>\n",
       "      <td>150</td>\n",
       "      <td>dp</td>\n",
       "      <td>0.012128</td>\n",
       "    </tr>\n",
       "    <tr>\n",
       "      <th>6</th>\n",
       "      <td>prueba</td>\n",
       "      <td>exp1</td>\n",
       "      <td>5</td>\n",
       "      <td>150</td>\n",
       "      <td>bf</td>\n",
       "      <td>0.010163</td>\n",
       "    </tr>\n",
       "    <tr>\n",
       "      <th>7</th>\n",
       "      <td>prueba</td>\n",
       "      <td>exp1</td>\n",
       "      <td>5</td>\n",
       "      <td>150</td>\n",
       "      <td>bt</td>\n",
       "      <td>0.011962</td>\n",
       "    </tr>\n",
       "    <tr>\n",
       "      <th>8</th>\n",
       "      <td>prueba</td>\n",
       "      <td>exp1</td>\n",
       "      <td>5</td>\n",
       "      <td>150</td>\n",
       "      <td>bto</td>\n",
       "      <td>0.010401</td>\n",
       "    </tr>\n",
       "    <tr>\n",
       "      <th>9</th>\n",
       "      <td>prueba</td>\n",
       "      <td>exp1</td>\n",
       "      <td>5</td>\n",
       "      <td>150</td>\n",
       "      <td>btf</td>\n",
       "      <td>0.012272</td>\n",
       "    </tr>\n",
       "  </tbody>\n",
       "</table>\n",
       "</div>"
      ],
      "text/plain": [
       "  dataset exp_name  n    m method      time\n",
       "0  prueba     exp1  4  150     bf  0.018622\n",
       "1  prueba     exp1  4  150     bt  0.013074\n",
       "2  prueba     exp1  4  150    bto  0.011284\n",
       "3  prueba     exp1  4  150    btf  0.013608\n",
       "4  prueba     exp1  4  150   btof  0.010690\n",
       "5  prueba     exp1  4  150     dp  0.012128\n",
       "6  prueba     exp1  5  150     bf  0.010163\n",
       "7  prueba     exp1  5  150     bt  0.011962\n",
       "8  prueba     exp1  5  150    bto  0.010401\n",
       "9  prueba     exp1  5  150    btf  0.012272"
      ]
     },
     "metadata": {},
     "output_type": "display_data"
    }
   ],
   "source": [
    "df_resultados = pd.read_csv(\"results/result.csv\")\n",
    "df_resultados = df_resultados[(df_resultados[\"dataset\"]==\"prueba\")]\n",
    "display(df_resultados[0:10])"
   ]
  },
  {
   "cell_type": "code",
   "execution_count": null,
   "id": "ed8becb5",
   "metadata": {},
   "outputs": [],
   "source": [
    "display(df_aleatorio[:20])"
   ]
  },
  {
   "cell_type": "code",
   "execution_count": null,
   "id": "f6d4509e",
   "metadata": {},
   "outputs": [],
   "source": []
  }
 ],
 "metadata": {
  "kernelspec": {
   "display_name": "Python 3 (ipykernel)",
   "language": "python",
   "name": "python3"
  },
  "language_info": {
   "codemirror_mode": {
    "name": "ipython",
    "version": 3
   },
   "file_extension": ".py",
   "mimetype": "text/x-python",
   "name": "python",
   "nbconvert_exporter": "python",
   "pygments_lexer": "ipython3",
   "version": "3.8.10"
  }
 },
 "nbformat": 4,
 "nbformat_minor": 5
}
