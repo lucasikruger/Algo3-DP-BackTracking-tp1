{
 "cells": [
  {
   "cell_type": "markdown",
   "id": "7773d0a3",
   "metadata": {},
   "source": [
    "Preparamos "
   ]
  },
  {
   "cell_type": "code",
   "execution_count": 1,
   "id": "3fc33e58",
   "metadata": {},
   "outputs": [
    {
     "name": "stdout",
     "output_type": "stream",
     "text": [
      "mkdir: cannot create directory ‘build’: File exists\n",
      "-- The C compiler identification is GNU 9.3.0\n",
      "-- The CXX compiler identification is GNU 9.3.0\n",
      "-- Check for working C compiler: /usr/bin/cc\n",
      "-- Check for working C compiler: /usr/bin/cc -- works\n",
      "-- Detecting C compiler ABI info\n",
      "-- Detecting C compiler ABI info - done\n",
      "-- Detecting C compile features\n",
      "-- Detecting C compile features - done\n",
      "-- Check for working CXX compiler: /usr/bin/c++\n",
      "-- Check for working CXX compiler: /usr/bin/c++ -- works\n",
      "-- Detecting CXX compiler ABI info\n",
      "-- Detecting CXX compiler ABI info - done\n",
      "-- Detecting CXX compile features\n",
      "-- Detecting CXX compile features - done\n",
      "Release mode\n",
      "-- Found PythonInterp: /home/lucas/metodos-tp3-master/tpenv/bin/python (found version \"3.8.10\") \n",
      "-- Found PythonLibs: /usr/lib/x86_64-linux-gnu/libpython3.8.so\n",
      "-- pybind11 v2.2.4\n",
      "-- Performing Test HAS_FLTO\n",
      "-- Performing Test HAS_FLTO - Success\n",
      "-- LTO enabled\n",
      "CMAKE_INSTALL_PREFIX=/home/lucas/metodos-tp3-master\n",
      "-- Configuring done\n",
      "-- Generating done\n",
      "-- Build files have been written to: /home/lucas/metodos-tp3-master/build\n",
      "\u001b[35m\u001b[1mScanning dependencies of target metnum\u001b[0m\n",
      "[ 33%] \u001b[32mBuilding CXX object CMakeFiles/metnum.dir/src/metnum.cpp.o\u001b[0m\n",
      "[ 66%] \u001b[32mBuilding CXX object CMakeFiles/metnum.dir/src/linear_regression.cpp.o\u001b[0m\n",
      "[100%] \u001b[32m\u001b[1mLinking CXX shared module metnum.cpython-38-x86_64-linux-gnu.so\u001b[0m\n",
      "[100%] Built target metnum\n",
      "\u001b[36mInstall the project...\u001b[0m\n",
      "-- Install configuration: \"Release\"\n",
      "-- Installing: /home/lucas/metodos-tp3-master/notebooks/metnum.cpython-38-x86_64-linux-gnu.so\n"
     ]
    }
   ],
   "source": [
    "!cd .. && mkdir build\n",
    "!cd ../build/ && rm -rf *\n",
    "!cd ../build && cmake \\\n",
    "  -DPYTHON_EXECUTABLE=\"$(which python)\" \\\n",
    "  -DCMAKE_BUILD_TYPE=Release ..\n",
    "!cd ../build && make install"
   ]
  },
  {
   "cell_type": "code",
   "execution_count": 2,
   "id": "ce2697a7",
   "metadata": {},
   "outputs": [
    {
     "name": "stdout",
     "output_type": "stream",
     "text": [
      "/home/lucas/metodos-tp3-master/notebooks\n",
      "Python 3.8.10\n"
     ]
    }
   ],
   "source": [
    "import metnum\n",
    "import numpy as np\n",
    "import matplotlib.pyplot as plt\n",
    "import pandas as pd\n",
    "from sklearn.model_selection import KFold\n",
    "from sklearn.metrics import mean_squared_error, mean_squared_log_error, median_absolute_error\n",
    "\n",
    "\n",
    "!pwd\n",
    "!python --version"
   ]
  },
  {
   "cell_type": "markdown",
   "id": "341418de",
   "metadata": {},
   "source": [
    "Importamos los datos"
   ]
  },
  {
   "cell_type": "code",
   "execution_count": 3,
   "id": "ebd071cc",
   "metadata": {
    "scrolled": true
   },
   "outputs": [
    {
     "data": {
      "text/html": [
       "<div>\n",
       "<style scoped>\n",
       "    .dataframe tbody tr th:only-of-type {\n",
       "        vertical-align: middle;\n",
       "    }\n",
       "\n",
       "    .dataframe tbody tr th {\n",
       "        vertical-align: top;\n",
       "    }\n",
       "\n",
       "    .dataframe thead th {\n",
       "        text-align: right;\n",
       "    }\n",
       "</style>\n",
       "<table border=\"1\" class=\"dataframe\">\n",
       "  <thead>\n",
       "    <tr style=\"text-align: right;\">\n",
       "      <th></th>\n",
       "      <th>id</th>\n",
       "      <th>titulo</th>\n",
       "      <th>descripcion</th>\n",
       "      <th>tipodepropiedad</th>\n",
       "      <th>direccion</th>\n",
       "      <th>ciudad</th>\n",
       "      <th>provincia</th>\n",
       "      <th>antiguedad</th>\n",
       "      <th>habitaciones</th>\n",
       "      <th>garages</th>\n",
       "      <th>...</th>\n",
       "      <th>idzona</th>\n",
       "      <th>lat</th>\n",
       "      <th>lng</th>\n",
       "      <th>fecha</th>\n",
       "      <th>gimnasio</th>\n",
       "      <th>usosmultiples</th>\n",
       "      <th>piscina</th>\n",
       "      <th>escuelascercanas</th>\n",
       "      <th>centroscomercialescercanos</th>\n",
       "      <th>precio</th>\n",
       "    </tr>\n",
       "  </thead>\n",
       "  <tbody>\n",
       "    <tr>\n",
       "      <th>0</th>\n",
       "      <td>254099</td>\n",
       "      <td>depto. tipo a-402</td>\n",
       "      <td>depto. interior de 80.15m2, consta de sala com...</td>\n",
       "      <td>Apartamento</td>\n",
       "      <td>Avenida Division del Norte 2005</td>\n",
       "      <td>Benito Juárez</td>\n",
       "      <td>Distrito Federal</td>\n",
       "      <td>NaN</td>\n",
       "      <td>2.0</td>\n",
       "      <td>1.0</td>\n",
       "      <td>...</td>\n",
       "      <td>23533.0</td>\n",
       "      <td>NaN</td>\n",
       "      <td>NaN</td>\n",
       "      <td>2015-08-23 00:00:00</td>\n",
       "      <td>0.0</td>\n",
       "      <td>0.0</td>\n",
       "      <td>0.0</td>\n",
       "      <td>0.0</td>\n",
       "      <td>0.0</td>\n",
       "      <td>2273000.0</td>\n",
       "    </tr>\n",
       "    <tr>\n",
       "      <th>1</th>\n",
       "      <td>53461</td>\n",
       "      <td>condominio horizontal en venta</td>\n",
       "      <td>&lt;p&gt;entre sonora y guerrero, atr&amp;aacute;s del h...</td>\n",
       "      <td>Casa en condominio</td>\n",
       "      <td>AV. MEXICO</td>\n",
       "      <td>La Magdalena Contreras</td>\n",
       "      <td>Distrito Federal</td>\n",
       "      <td>10.0</td>\n",
       "      <td>3.0</td>\n",
       "      <td>2.0</td>\n",
       "      <td>...</td>\n",
       "      <td>24514.0</td>\n",
       "      <td>19.310205</td>\n",
       "      <td>-99.227655</td>\n",
       "      <td>2013-06-28 00:00:00</td>\n",
       "      <td>0.0</td>\n",
       "      <td>0.0</td>\n",
       "      <td>0.0</td>\n",
       "      <td>1.0</td>\n",
       "      <td>1.0</td>\n",
       "      <td>3600000.0</td>\n",
       "    </tr>\n",
       "    <tr>\n",
       "      <th>2</th>\n",
       "      <td>247984</td>\n",
       "      <td>casa en venta urbi 3 recamaras tonala</td>\n",
       "      <td>descripcion \\nla mejor ubicacion residencial e...</td>\n",
       "      <td>Casa</td>\n",
       "      <td>Urbi Tonala</td>\n",
       "      <td>Tonalá</td>\n",
       "      <td>Jalisco</td>\n",
       "      <td>5.0</td>\n",
       "      <td>3.0</td>\n",
       "      <td>2.0</td>\n",
       "      <td>...</td>\n",
       "      <td>48551.0</td>\n",
       "      <td>NaN</td>\n",
       "      <td>NaN</td>\n",
       "      <td>2015-10-17 00:00:00</td>\n",
       "      <td>0.0</td>\n",
       "      <td>0.0</td>\n",
       "      <td>0.0</td>\n",
       "      <td>0.0</td>\n",
       "      <td>0.0</td>\n",
       "      <td>1200000.0</td>\n",
       "    </tr>\n",
       "    <tr>\n",
       "      <th>3</th>\n",
       "      <td>209067</td>\n",
       "      <td>casa sola en toluca zinacantepec con credito i...</td>\n",
       "      <td>casa en privada con caseta de vigilancia casas...</td>\n",
       "      <td>Casa</td>\n",
       "      <td>IGNACIO MANUEL ALTAMIRANO 128</td>\n",
       "      <td>Zinacantepec</td>\n",
       "      <td>Edo. de México</td>\n",
       "      <td>1.0</td>\n",
       "      <td>2.0</td>\n",
       "      <td>1.0</td>\n",
       "      <td>...</td>\n",
       "      <td>53666.0</td>\n",
       "      <td>19.301890</td>\n",
       "      <td>-99.688015</td>\n",
       "      <td>2012-03-09 00:00:00</td>\n",
       "      <td>0.0</td>\n",
       "      <td>0.0</td>\n",
       "      <td>0.0</td>\n",
       "      <td>1.0</td>\n",
       "      <td>1.0</td>\n",
       "      <td>650000.0</td>\n",
       "    </tr>\n",
       "    <tr>\n",
       "      <th>4</th>\n",
       "      <td>185997</td>\n",
       "      <td>paseos del sol</td>\n",
       "      <td>bonito departamento en excelentes condiciones ...</td>\n",
       "      <td>Apartamento</td>\n",
       "      <td>PASEOS DEL SOL</td>\n",
       "      <td>Zapopan</td>\n",
       "      <td>Jalisco</td>\n",
       "      <td>10.0</td>\n",
       "      <td>2.0</td>\n",
       "      <td>1.0</td>\n",
       "      <td>...</td>\n",
       "      <td>47835.0</td>\n",
       "      <td>NaN</td>\n",
       "      <td>NaN</td>\n",
       "      <td>2016-06-07 00:00:00</td>\n",
       "      <td>0.0</td>\n",
       "      <td>0.0</td>\n",
       "      <td>0.0</td>\n",
       "      <td>0.0</td>\n",
       "      <td>0.0</td>\n",
       "      <td>1150000.0</td>\n",
       "    </tr>\n",
       "    <tr>\n",
       "      <th>...</th>\n",
       "      <td>...</td>\n",
       "      <td>...</td>\n",
       "      <td>...</td>\n",
       "      <td>...</td>\n",
       "      <td>...</td>\n",
       "      <td>...</td>\n",
       "      <td>...</td>\n",
       "      <td>...</td>\n",
       "      <td>...</td>\n",
       "      <td>...</td>\n",
       "      <td>...</td>\n",
       "      <td>...</td>\n",
       "      <td>...</td>\n",
       "      <td>...</td>\n",
       "      <td>...</td>\n",
       "      <td>...</td>\n",
       "      <td>...</td>\n",
       "      <td>...</td>\n",
       "      <td>...</td>\n",
       "      <td>...</td>\n",
       "      <td>...</td>\n",
       "    </tr>\n",
       "    <tr>\n",
       "      <th>239995</th>\n",
       "      <td>119879</td>\n",
       "      <td>bonita casas de 2 recamaras a 10 minutos del c...</td>\n",
       "      <td>vendo casa en bosques de ica residencial a 10 ...</td>\n",
       "      <td>Casa</td>\n",
       "      <td>BOSQUES</td>\n",
       "      <td>Zinacantepec</td>\n",
       "      <td>Edo. de México</td>\n",
       "      <td>0.0</td>\n",
       "      <td>2.0</td>\n",
       "      <td>2.0</td>\n",
       "      <td>...</td>\n",
       "      <td>53666.0</td>\n",
       "      <td>NaN</td>\n",
       "      <td>NaN</td>\n",
       "      <td>2015-02-08 00:00:00</td>\n",
       "      <td>0.0</td>\n",
       "      <td>0.0</td>\n",
       "      <td>0.0</td>\n",
       "      <td>0.0</td>\n",
       "      <td>0.0</td>\n",
       "      <td>650000.0</td>\n",
       "    </tr>\n",
       "    <tr>\n",
       "      <th>239996</th>\n",
       "      <td>259178</td>\n",
       "      <td>casa en condominio a 10 min. del centro de toluca</td>\n",
       "      <td>casa con un jardin amplio, un cuarto de servic...</td>\n",
       "      <td>Casa</td>\n",
       "      <td>Filiberto Navas 325</td>\n",
       "      <td>Toluca</td>\n",
       "      <td>Edo. de México</td>\n",
       "      <td>0.0</td>\n",
       "      <td>3.0</td>\n",
       "      <td>3.0</td>\n",
       "      <td>...</td>\n",
       "      <td>51954.0</td>\n",
       "      <td>19.294665</td>\n",
       "      <td>-99.692916</td>\n",
       "      <td>2014-07-10 00:00:00</td>\n",
       "      <td>0.0</td>\n",
       "      <td>0.0</td>\n",
       "      <td>0.0</td>\n",
       "      <td>1.0</td>\n",
       "      <td>1.0</td>\n",
       "      <td>1940000.0</td>\n",
       "    </tr>\n",
       "    <tr>\n",
       "      <th>239997</th>\n",
       "      <td>131932</td>\n",
       "      <td>nicolas san juan</td>\n",
       "      <td>departamento con excelente ubicación, muy cerc...</td>\n",
       "      <td>Apartamento</td>\n",
       "      <td>Nicolas San Juan</td>\n",
       "      <td>Benito Juárez</td>\n",
       "      <td>Distrito Federal</td>\n",
       "      <td>20.0</td>\n",
       "      <td>2.0</td>\n",
       "      <td>1.0</td>\n",
       "      <td>...</td>\n",
       "      <td>50003995.0</td>\n",
       "      <td>NaN</td>\n",
       "      <td>NaN</td>\n",
       "      <td>2015-03-03 00:00:00</td>\n",
       "      <td>0.0</td>\n",
       "      <td>0.0</td>\n",
       "      <td>0.0</td>\n",
       "      <td>0.0</td>\n",
       "      <td>0.0</td>\n",
       "      <td>3400000.0</td>\n",
       "    </tr>\n",
       "    <tr>\n",
       "      <th>239998</th>\n",
       "      <td>146867</td>\n",
       "      <td>casa sola. javier rojo gomez.</td>\n",
       "      <td>casa sola, dividida en cuatro departamentos de...</td>\n",
       "      <td>Casa</td>\n",
       "      <td>Javier Rojo Gomez 120</td>\n",
       "      <td>Iztapalapa</td>\n",
       "      <td>Distrito Federal</td>\n",
       "      <td>20.0</td>\n",
       "      <td>4.0</td>\n",
       "      <td>0.0</td>\n",
       "      <td>...</td>\n",
       "      <td>24162.0</td>\n",
       "      <td>19.366651</td>\n",
       "      <td>-99.082246</td>\n",
       "      <td>2014-12-26 00:00:00</td>\n",
       "      <td>1.0</td>\n",
       "      <td>0.0</td>\n",
       "      <td>0.0</td>\n",
       "      <td>1.0</td>\n",
       "      <td>1.0</td>\n",
       "      <td>2890000.0</td>\n",
       "    </tr>\n",
       "    <tr>\n",
       "      <th>239999</th>\n",
       "      <td>121958</td>\n",
       "      <td>departamento en bosques de las lomas  / av. st...</td>\n",
       "      <td>id:19816, muy bonito e iluminado departamento,...</td>\n",
       "      <td>Apartamento</td>\n",
       "      <td>AVE. STIM</td>\n",
       "      <td>Cuajimalpa de Morelos</td>\n",
       "      <td>Distrito Federal</td>\n",
       "      <td>1.0</td>\n",
       "      <td>3.0</td>\n",
       "      <td>2.0</td>\n",
       "      <td>...</td>\n",
       "      <td>23750.0</td>\n",
       "      <td>NaN</td>\n",
       "      <td>NaN</td>\n",
       "      <td>2015-06-19 00:00:00</td>\n",
       "      <td>0.0</td>\n",
       "      <td>0.0</td>\n",
       "      <td>0.0</td>\n",
       "      <td>0.0</td>\n",
       "      <td>0.0</td>\n",
       "      <td>3650000.0</td>\n",
       "    </tr>\n",
       "  </tbody>\n",
       "</table>\n",
       "<p>240000 rows × 23 columns</p>\n",
       "</div>"
      ],
      "text/plain": [
       "            id                                             titulo  \\\n",
       "0       254099                                  depto. tipo a-402   \n",
       "1        53461                     condominio horizontal en venta   \n",
       "2       247984              casa en venta urbi 3 recamaras tonala   \n",
       "3       209067  casa sola en toluca zinacantepec con credito i...   \n",
       "4       185997                                     paseos del sol   \n",
       "...        ...                                                ...   \n",
       "239995  119879  bonita casas de 2 recamaras a 10 minutos del c...   \n",
       "239996  259178  casa en condominio a 10 min. del centro de toluca   \n",
       "239997  131932                                   nicolas san juan   \n",
       "239998  146867                      casa sola. javier rojo gomez.   \n",
       "239999  121958  departamento en bosques de las lomas  / av. st...   \n",
       "\n",
       "                                              descripcion     tipodepropiedad  \\\n",
       "0       depto. interior de 80.15m2, consta de sala com...         Apartamento   \n",
       "1       <p>entre sonora y guerrero, atr&aacute;s del h...  Casa en condominio   \n",
       "2       descripcion \\nla mejor ubicacion residencial e...                Casa   \n",
       "3       casa en privada con caseta de vigilancia casas...                Casa   \n",
       "4       bonito departamento en excelentes condiciones ...         Apartamento   \n",
       "...                                                   ...                 ...   \n",
       "239995  vendo casa en bosques de ica residencial a 10 ...                Casa   \n",
       "239996  casa con un jardin amplio, un cuarto de servic...                Casa   \n",
       "239997  departamento con excelente ubicación, muy cerc...         Apartamento   \n",
       "239998  casa sola, dividida en cuatro departamentos de...                Casa   \n",
       "239999  id:19816, muy bonito e iluminado departamento,...         Apartamento   \n",
       "\n",
       "                              direccion                  ciudad  \\\n",
       "0       Avenida Division del Norte 2005           Benito Juárez   \n",
       "1                            AV. MEXICO  La Magdalena Contreras   \n",
       "2                           Urbi Tonala                  Tonalá   \n",
       "3         IGNACIO MANUEL ALTAMIRANO 128            Zinacantepec   \n",
       "4                       PASEOS DEL SOL                  Zapopan   \n",
       "...                                 ...                     ...   \n",
       "239995                          BOSQUES            Zinacantepec   \n",
       "239996              Filiberto Navas 325                  Toluca   \n",
       "239997                 Nicolas San Juan           Benito Juárez   \n",
       "239998            Javier Rojo Gomez 120              Iztapalapa   \n",
       "239999                        AVE. STIM   Cuajimalpa de Morelos   \n",
       "\n",
       "               provincia  antiguedad  habitaciones  garages  ...      idzona  \\\n",
       "0       Distrito Federal         NaN           2.0      1.0  ...     23533.0   \n",
       "1       Distrito Federal        10.0           3.0      2.0  ...     24514.0   \n",
       "2                Jalisco         5.0           3.0      2.0  ...     48551.0   \n",
       "3         Edo. de México         1.0           2.0      1.0  ...     53666.0   \n",
       "4                Jalisco        10.0           2.0      1.0  ...     47835.0   \n",
       "...                  ...         ...           ...      ...  ...         ...   \n",
       "239995    Edo. de México         0.0           2.0      2.0  ...     53666.0   \n",
       "239996    Edo. de México         0.0           3.0      3.0  ...     51954.0   \n",
       "239997  Distrito Federal        20.0           2.0      1.0  ...  50003995.0   \n",
       "239998  Distrito Federal        20.0           4.0      0.0  ...     24162.0   \n",
       "239999  Distrito Federal         1.0           3.0      2.0  ...     23750.0   \n",
       "\n",
       "              lat        lng                fecha  gimnasio  usosmultiples  \\\n",
       "0             NaN        NaN  2015-08-23 00:00:00       0.0            0.0   \n",
       "1       19.310205 -99.227655  2013-06-28 00:00:00       0.0            0.0   \n",
       "2             NaN        NaN  2015-10-17 00:00:00       0.0            0.0   \n",
       "3       19.301890 -99.688015  2012-03-09 00:00:00       0.0            0.0   \n",
       "4             NaN        NaN  2016-06-07 00:00:00       0.0            0.0   \n",
       "...           ...        ...                  ...       ...            ...   \n",
       "239995        NaN        NaN  2015-02-08 00:00:00       0.0            0.0   \n",
       "239996  19.294665 -99.692916  2014-07-10 00:00:00       0.0            0.0   \n",
       "239997        NaN        NaN  2015-03-03 00:00:00       0.0            0.0   \n",
       "239998  19.366651 -99.082246  2014-12-26 00:00:00       1.0            0.0   \n",
       "239999        NaN        NaN  2015-06-19 00:00:00       0.0            0.0   \n",
       "\n",
       "       piscina  escuelascercanas  centroscomercialescercanos     precio  \n",
       "0          0.0               0.0                         0.0  2273000.0  \n",
       "1          0.0               1.0                         1.0  3600000.0  \n",
       "2          0.0               0.0                         0.0  1200000.0  \n",
       "3          0.0               1.0                         1.0   650000.0  \n",
       "4          0.0               0.0                         0.0  1150000.0  \n",
       "...        ...               ...                         ...        ...  \n",
       "239995     0.0               0.0                         0.0   650000.0  \n",
       "239996     0.0               1.0                         1.0  1940000.0  \n",
       "239997     0.0               0.0                         0.0  3400000.0  \n",
       "239998     0.0               1.0                         1.0  2890000.0  \n",
       "239999     0.0               0.0                         0.0  3650000.0  \n",
       "\n",
       "[240000 rows x 23 columns]"
      ]
     },
     "metadata": {},
     "output_type": "display_data"
    }
   ],
   "source": [
    "set_original = pd.read_csv(\"../data/train.csv\")\n",
    "display(set_original)"
   ]
  },
  {
   "cell_type": "code",
   "execution_count": 4,
   "id": "d6b50279",
   "metadata": {},
   "outputs": [
    {
     "data": {
      "text/plain": [
       "Querétaro             12646\n",
       "Benito Juárez         11014\n",
       "Zapopan               10360\n",
       "San Luis Potosí        7925\n",
       "Mérida                 7162\n",
       "                      ...  \n",
       "Batopilas                 1\n",
       "Aramberri                 1\n",
       "Palizada                  1\n",
       "Villa Purificación        1\n",
       "Ahuazotepec               1\n",
       "Name: ciudad, Length: 875, dtype: int64"
      ]
     },
     "execution_count": 4,
     "metadata": {},
     "output_type": "execute_result"
    }
   ],
   "source": [
    "set_original[\"ciudad\"].value_counts()"
   ]
  },
  {
   "cell_type": "markdown",
   "id": "e93507fe",
   "metadata": {},
   "source": [
    "Veamos las categorias que tenemos:"
   ]
  },
  {
   "cell_type": "code",
   "execution_count": 5,
   "id": "5850b420",
   "metadata": {
    "scrolled": true
   },
   "outputs": [
    {
     "data": {
      "text/plain": [
       "['id',\n",
       " 'titulo',\n",
       " 'descripcion',\n",
       " 'tipodepropiedad',\n",
       " 'direccion',\n",
       " 'ciudad',\n",
       " 'provincia',\n",
       " 'antiguedad',\n",
       " 'habitaciones',\n",
       " 'garages',\n",
       " 'banos',\n",
       " 'metroscubiertos',\n",
       " 'metrostotales',\n",
       " 'idzona',\n",
       " 'lat',\n",
       " 'lng',\n",
       " 'fecha',\n",
       " 'gimnasio',\n",
       " 'usosmultiples',\n",
       " 'piscina',\n",
       " 'escuelascercanas',\n",
       " 'centroscomercialescercanos',\n",
       " 'precio']"
      ]
     },
     "execution_count": 5,
     "metadata": {},
     "output_type": "execute_result"
    }
   ],
   "source": [
    "list(set_original.columns)"
   ]
  },
  {
   "cell_type": "code",
   "execution_count": 6,
   "id": "bc4a8d76",
   "metadata": {},
   "outputs": [
    {
     "data": {
      "text/plain": [
       "array([2273000., 3600000., 1200000., ..., 3400000., 2890000., 3650000.])"
      ]
     },
     "execution_count": 6,
     "metadata": {},
     "output_type": "execute_result"
    }
   ],
   "source": [
    "set_original[\"precio\"].values"
   ]
  },
  {
   "cell_type": "markdown",
   "id": "b8406b45",
   "metadata": {},
   "source": [
    "## Funciones necesarias:"
   ]
  },
  {
   "cell_type": "code",
   "execution_count": 7,
   "id": "098cde22",
   "metadata": {},
   "outputs": [],
   "source": [
    "def CML_KFold(K, X, Y): # K: cortes en kfold ; X : matriz sin la columna de precios ; Y : columna que le falta a X\n",
    "    cortes = KFold(n_splits=K) #quiero que esta variable tome C cortes\n",
    "    cortes.get_n_splits(X) #mandamos nuestro X a nuestra variable que toma K  cortes => Sacamos K cortes de X\n",
    "    \n",
    "    rmse = []\n",
    "    rmsle = []\n",
    "    i = 0\n",
    "    for iTrain, iTest in cortes.split(X):\n",
    "        i += 1\n",
    "        # Separamos train y test\n",
    "        Xtrain, Xtest = X[iTrain], X[iTest] \n",
    "        Ytrain, Ytest = Y[iTrain], Y[iTest]\n",
    "        print(f\"Corte {i}, \")\n",
    "        \n",
    "        # Inicializamos el CML con las funciones implementadas en el TP \n",
    "        CML = metnum.LinearRegression()\n",
    "        \n",
    "        #fiteamos\n",
    "        CML.fit(Xtrain, Ytrain)\n",
    "        \n",
    "        # Predecimos\n",
    "        pred = CML.predict(Xtest)\n",
    "        \n",
    "        # Para evitar errores, vamos a tomar modulo en los precios de pred y Ytest\n",
    "        Ytest = np.abs(Ytest)\n",
    "        \n",
    "        \n",
    "        pred = np.asarray(pred)\n",
    "        pred = np.abs(pred)\n",
    "        \n",
    "        rmse.append(np.sqrt(mean_squared_error(Ytest, pred)))\n",
    "        rmsle.append(np.sqrt(mean_squared_log_error(Ytest, pred)))\n",
    "\n",
    "    print(\"fin.\")\n",
    "        \n",
    "\n",
    "    return [rmse,rmsle]"
   ]
  },
  {
   "cell_type": "code",
   "execution_count": 8,
   "id": "6da65e9c",
   "metadata": {},
   "outputs": [],
   "source": [
    "def metricas(Y, pred):\n",
    "    Y = np.abs(Y)\n",
    "    pred = np.abs(pred)\n",
    "    rmse = np.sqrt(mean_squared_error(Y, pred))\n",
    "    rmsle = np.sqrt(mean_squared_log_error(Y, pred))\n",
    "    print(f\"RMSE = {rmse}\")\n",
    "    print(f\"RMSLE = {rmsle}\")"
   ]
  },
  {
   "cell_type": "code",
   "execution_count": 9,
   "id": "1ee94aee",
   "metadata": {},
   "outputs": [],
   "source": [
    "def metricasProm(rms):\n",
    "    rmse = rms[0]\n",
    "    rmsle = rms[1]\n",
    "    print(f\"RMSE = {(np.mean(rmse), np.std(rmse))}\")\n",
    "    print(f\"RMSLE = {(np.mean(rmsle), np.std(rmsle))}\")"
   ]
  },
  {
   "cell_type": "code",
   "execution_count": 10,
   "id": "8bb31b70",
   "metadata": {},
   "outputs": [],
   "source": [
    "def cleanOutliers(X,Y,pred,m=2):\n",
    "    dist = np.abs(Y - pred)\n",
    "    mean = np.mean(dist)\n",
    "    std = np.std(dist)\n",
    "    \n",
    "    Xclean = []\n",
    "    Yclean = []\n",
    "    for i in range(len(Y)):\n",
    "        if (float(dist[i]) <= float(float(mean) + m * float(std))):\n",
    "            Xclean.append(X[i])\n",
    "            Yclean.append(Y[i])\n",
    "            \n",
    "    quitados = (len(Y)-len(Yclean))\n",
    "    print(f\"Se han eliminado {quitados}/{len(Y)} outliers. Ahora tienes {len(Yclean)}/{len(Y)}.\")\n",
    "    return [np.asarray(Xclean),np.asarray(Yclean)]"
   ]
  },
  {
   "cell_type": "code",
   "execution_count": 11,
   "id": "671d151b",
   "metadata": {},
   "outputs": [],
   "source": [
    "def grafico(X,Y,pred,titulo,ejeX,ejeY,file):\n",
    "    plt.figure(titulo)\n",
    "    plt.title(titulo)\n",
    "    plt.plot(X, Y, \"o\", label=\"Datos de test\")\n",
    "    plt.plot(X, pred, \"-\", label=\"Ajuste\")\n",
    "    plt.grid()\n",
    "    plt.legend()\n",
    "    plt.xlabel(ejeX)\n",
    "    plt.ylabel(ejeY)\n",
    "    ruta = str(\"Imagenes/\"+file+\".png\")\n",
    "    plt.savefig(ruta)\n",
    "    plt.show()"
   ]
  },
  {
   "cell_type": "code",
   "execution_count": 12,
   "id": "834f3766",
   "metadata": {},
   "outputs": [],
   "source": [
    "def graficoConLim(X,Y,pred,titulo,ejeX,ejeY,file,minX,maxX,minY,maxY):\n",
    "    plt.figure(titulo)\n",
    "    plt.title(titulo)\n",
    "    plt.plot(X, Y, \"o\", label=\"Datos de test\")\n",
    "    plt.plot(X, pred, \"-\", label=\"Ajuste\")\n",
    "    plt.grid()\n",
    "    plt.legend()\n",
    "    plt.xlabel(ejeX)\n",
    "    plt.ylabel(ejeY)\n",
    "    plt.xlim(minX,maxX)\n",
    "    plt.ylim(minY,maxY)\n",
    "    ruta = str(\"Imagenes/\"+file+\".png\")\n",
    "    plt.savefig(ruta)\n",
    "    plt.show()"
   ]
  },
  {
   "cell_type": "markdown",
   "id": "bb1fbec0",
   "metadata": {},
   "source": [
    "# Experimento 1: precio vs metros totales"
   ]
  },
  {
   "cell_type": "markdown",
   "id": "11e31afb",
   "metadata": {},
   "source": [
    "##### Primero tomaremos una muestra de nuestros datos, esta no debe tener campos invalidos."
   ]
  },
  {
   "cell_type": "code",
   "execution_count": 13,
   "id": "f5bdf154",
   "metadata": {
    "scrolled": true
   },
   "outputs": [
    {
     "data": {
      "text/html": [
       "<div>\n",
       "<style scoped>\n",
       "    .dataframe tbody tr th:only-of-type {\n",
       "        vertical-align: middle;\n",
       "    }\n",
       "\n",
       "    .dataframe tbody tr th {\n",
       "        vertical-align: top;\n",
       "    }\n",
       "\n",
       "    .dataframe thead th {\n",
       "        text-align: right;\n",
       "    }\n",
       "</style>\n",
       "<table border=\"1\" class=\"dataframe\">\n",
       "  <thead>\n",
       "    <tr style=\"text-align: right;\">\n",
       "      <th></th>\n",
       "      <th>id</th>\n",
       "      <th>metrostotales</th>\n",
       "      <th>precio</th>\n",
       "    </tr>\n",
       "  </thead>\n",
       "  <tbody>\n",
       "    <tr>\n",
       "      <th>3</th>\n",
       "      <td>209067</td>\n",
       "      <td>67.0</td>\n",
       "      <td>650000.0</td>\n",
       "    </tr>\n",
       "    <tr>\n",
       "      <th>7</th>\n",
       "      <td>5013</td>\n",
       "      <td>293.0</td>\n",
       "      <td>4200000.0</td>\n",
       "    </tr>\n",
       "    <tr>\n",
       "      <th>12</th>\n",
       "      <td>47890</td>\n",
       "      <td>141.0</td>\n",
       "      <td>1500000.0</td>\n",
       "    </tr>\n",
       "    <tr>\n",
       "      <th>16</th>\n",
       "      <td>283945</td>\n",
       "      <td>275.0</td>\n",
       "      <td>2450000.0</td>\n",
       "    </tr>\n",
       "    <tr>\n",
       "      <th>31</th>\n",
       "      <td>118889</td>\n",
       "      <td>196.0</td>\n",
       "      <td>1450000.0</td>\n",
       "    </tr>\n",
       "    <tr>\n",
       "      <th>...</th>\n",
       "      <td>...</td>\n",
       "      <td>...</td>\n",
       "      <td>...</td>\n",
       "    </tr>\n",
       "    <tr>\n",
       "      <th>215989</th>\n",
       "      <td>203737</td>\n",
       "      <td>120.0</td>\n",
       "      <td>950000.0</td>\n",
       "    </tr>\n",
       "    <tr>\n",
       "      <th>215993</th>\n",
       "      <td>129024</td>\n",
       "      <td>134.0</td>\n",
       "      <td>880000.0</td>\n",
       "    </tr>\n",
       "    <tr>\n",
       "      <th>215995</th>\n",
       "      <td>142411</td>\n",
       "      <td>134.0</td>\n",
       "      <td>1475000.0</td>\n",
       "    </tr>\n",
       "    <tr>\n",
       "      <th>216017</th>\n",
       "      <td>218131</td>\n",
       "      <td>128.0</td>\n",
       "      <td>1350000.0</td>\n",
       "    </tr>\n",
       "    <tr>\n",
       "      <th>216018</th>\n",
       "      <td>264704</td>\n",
       "      <td>195.0</td>\n",
       "      <td>450000.0</td>\n",
       "    </tr>\n",
       "  </tbody>\n",
       "</table>\n",
       "<p>29534 rows × 3 columns</p>\n",
       "</div>"
      ],
      "text/plain": [
       "            id  metrostotales     precio\n",
       "3       209067           67.0   650000.0\n",
       "7         5013          293.0  4200000.0\n",
       "12       47890          141.0  1500000.0\n",
       "16      283945          275.0  2450000.0\n",
       "31      118889          196.0  1450000.0\n",
       "...        ...            ...        ...\n",
       "215989  203737          120.0   950000.0\n",
       "215993  129024          134.0   880000.0\n",
       "215995  142411          134.0  1475000.0\n",
       "216017  218131          128.0  1350000.0\n",
       "216018  264704          195.0   450000.0\n",
       "\n",
       "[29534 rows x 3 columns]"
      ]
     },
     "metadata": {},
     "output_type": "display_data"
    },
    {
     "data": {
      "text/html": [
       "<div>\n",
       "<style scoped>\n",
       "    .dataframe tbody tr th:only-of-type {\n",
       "        vertical-align: middle;\n",
       "    }\n",
       "\n",
       "    .dataframe tbody tr th {\n",
       "        vertical-align: top;\n",
       "    }\n",
       "\n",
       "    .dataframe thead th {\n",
       "        text-align: right;\n",
       "    }\n",
       "</style>\n",
       "<table border=\"1\" class=\"dataframe\">\n",
       "  <thead>\n",
       "    <tr style=\"text-align: right;\">\n",
       "      <th></th>\n",
       "      <th>id</th>\n",
       "      <th>metrostotales</th>\n",
       "      <th>precio</th>\n",
       "    </tr>\n",
       "  </thead>\n",
       "  <tbody>\n",
       "    <tr>\n",
       "      <th>216031</th>\n",
       "      <td>40640</td>\n",
       "      <td>148.0</td>\n",
       "      <td>3600000.0</td>\n",
       "    </tr>\n",
       "    <tr>\n",
       "      <th>216058</th>\n",
       "      <td>94957</td>\n",
       "      <td>305.0</td>\n",
       "      <td>4250000.0</td>\n",
       "    </tr>\n",
       "    <tr>\n",
       "      <th>216062</th>\n",
       "      <td>47650</td>\n",
       "      <td>140.0</td>\n",
       "      <td>2250000.0</td>\n",
       "    </tr>\n",
       "    <tr>\n",
       "      <th>216068</th>\n",
       "      <td>260515</td>\n",
       "      <td>120.0</td>\n",
       "      <td>2738000.0</td>\n",
       "    </tr>\n",
       "    <tr>\n",
       "      <th>216072</th>\n",
       "      <td>187996</td>\n",
       "      <td>197.0</td>\n",
       "      <td>1200000.0</td>\n",
       "    </tr>\n",
       "    <tr>\n",
       "      <th>...</th>\n",
       "      <td>...</td>\n",
       "      <td>...</td>\n",
       "      <td>...</td>\n",
       "    </tr>\n",
       "    <tr>\n",
       "      <th>239989</th>\n",
       "      <td>175203</td>\n",
       "      <td>404.0</td>\n",
       "      <td>3850000.0</td>\n",
       "    </tr>\n",
       "    <tr>\n",
       "      <th>239993</th>\n",
       "      <td>207892</td>\n",
       "      <td>150.0</td>\n",
       "      <td>1650000.0</td>\n",
       "    </tr>\n",
       "    <tr>\n",
       "      <th>239994</th>\n",
       "      <td>110268</td>\n",
       "      <td>90.0</td>\n",
       "      <td>1350000.0</td>\n",
       "    </tr>\n",
       "    <tr>\n",
       "      <th>239996</th>\n",
       "      <td>259178</td>\n",
       "      <td>250.0</td>\n",
       "      <td>1940000.0</td>\n",
       "    </tr>\n",
       "    <tr>\n",
       "      <th>239998</th>\n",
       "      <td>146867</td>\n",
       "      <td>137.0</td>\n",
       "      <td>2890000.0</td>\n",
       "    </tr>\n",
       "  </tbody>\n",
       "</table>\n",
       "<p>3282 rows × 3 columns</p>\n",
       "</div>"
      ],
      "text/plain": [
       "            id  metrostotales     precio\n",
       "216031   40640          148.0  3600000.0\n",
       "216058   94957          305.0  4250000.0\n",
       "216062   47650          140.0  2250000.0\n",
       "216068  260515          120.0  2738000.0\n",
       "216072  187996          197.0  1200000.0\n",
       "...        ...            ...        ...\n",
       "239989  175203          404.0  3850000.0\n",
       "239993  207892          150.0  1650000.0\n",
       "239994  110268           90.0  1350000.0\n",
       "239996  259178          250.0  1940000.0\n",
       "239998  146867          137.0  2890000.0\n",
       "\n",
       "[3282 rows x 3 columns]"
      ]
     },
     "metadata": {},
     "output_type": "display_data"
    }
   ],
   "source": [
    "#con la seed vamos a siempre tener la misma muestra y con dropna quitamos los elementos invalidos.\n",
    "# muestra = set_original.sample(random_state=np.random.seed(9), frac=1).dropna() \n",
    "muestra = set_original.dropna() #quedan 49881 luego del dropna\n",
    "muestra = muestra[muestra[\"tipodepropiedad\"] == \"Casa\"]\n",
    "#armamos los dos casos\n",
    "cantidadparatrain = int(len(muestra) - len(muestra)/10)\n",
    "train = muestra.iloc[:cantidadparatrain, :]\n",
    "test = muestra.iloc[cantidadparatrain:, :]\n",
    "\n",
    "#guardamos las columnas que nos interesan para experimentar\n",
    "Xtrain, Xtest = train[\"metrostotales\"].values, test[\"metrostotales\"].values\n",
    "Ytrain, Ytest = train[\"precio\"].values, test[\"precio\"].values\n",
    "\n",
    "display(train[[\"id\", \"metrostotales\", \"precio\"]])\n",
    "display(test[[\"id\", \"metrostotales\", \"precio\"]])"
   ]
  },
  {
   "cell_type": "code",
   "execution_count": 14,
   "id": "8e03fc4f",
   "metadata": {},
   "outputs": [
    {
     "data": {
      "text/plain": [
       "32816"
      ]
     },
     "execution_count": 14,
     "metadata": {},
     "output_type": "execute_result"
    }
   ],
   "source": [
    "29534 + 3282"
   ]
  },
  {
   "cell_type": "markdown",
   "id": "9e84bf41",
   "metadata": {},
   "source": [
    "## Aplicacion algoritmo"
   ]
  },
  {
   "cell_type": "markdown",
   "id": "972b2ff0",
   "metadata": {},
   "source": [
    "### $\\underline{Caso 1 :}$ Sin quitar Outtliers"
   ]
  },
  {
   "cell_type": "markdown",
   "id": "b7903a26",
   "metadata": {},
   "source": [
    "### sin usar kfold"
   ]
  },
  {
   "cell_type": "code",
   "execution_count": 15,
   "id": "8d19eb7a",
   "metadata": {},
   "outputs": [],
   "source": [
    "#Con Xtrain, e Ytrain entrenamos al algoritmo\n",
    "regresion = metnum.LinearRegression()\n",
    "regresion.fit(Xtrain, Ytrain)\n",
    "#Ahora predeciremos Ytest en pred, usando Xtest\n",
    "pred = regresion.predict(Xtest)\n",
    "pred = pred.reshape(pred.shape[0])"
   ]
  },
  {
   "cell_type": "code",
   "execution_count": 16,
   "id": "df4a2b1a",
   "metadata": {
    "scrolled": true
   },
   "outputs": [
    {
     "data": {
      "image/png": "[encoded data removed]",
      "text/plain": [
       "<Figure size 432x288 with 1 Axes>"
      ]
     },
     "metadata": {
      "needs_background": "light"
     },
     "output_type": "display_data"
    }
   ],
   "source": [
    "grafico(Xtest,Ytest,pred,\"Precio vs. Metros Totales (con outs.)\",\"Metros Totales($\\mathrm{m}^2$)\",\"Precio (MXN$)\",\"metros-precio-simple\")"
   ]
  },
  {
   "cell_type": "code",
   "execution_count": 17,
   "id": "e44c7d61",
   "metadata": {
    "scrolled": true
   },
   "outputs": [
    {
     "name": "stdout",
     "output_type": "stream",
     "text": [
      "RMSE = 1301134.7906495698\n",
      "RMSLE = 0.6068250898136552\n"
     ]
    }
   ],
   "source": [
    "metricas(Ytest,pred)"
   ]
  },
  {
   "cell_type": "markdown",
   "id": "41842835",
   "metadata": {},
   "source": [
    "### con kfold"
   ]
  },
  {
   "cell_type": "code",
   "execution_count": 18,
   "id": "52ced09a",
   "metadata": {
    "scrolled": false
   },
   "outputs": [
    {
     "name": "stdout",
     "output_type": "stream",
     "text": [
      "Corte 1, \n",
      "Corte 2, \n",
      "Corte 3, \n",
      "Corte 4, \n",
      "Corte 5, \n",
      "Corte 6, \n",
      "Corte 7, \n",
      "Corte 8, \n",
      "Corte 9, \n",
      "Corte 10, \n",
      "fin.\n"
     ]
    }
   ],
   "source": [
    "rms = CML_KFold(10, Xtrain, Ytrain)"
   ]
  },
  {
   "cell_type": "code",
   "execution_count": 19,
   "id": "28607d94",
   "metadata": {
    "scrolled": false
   },
   "outputs": [
    {
     "name": "stdout",
     "output_type": "stream",
     "text": [
      "RMSE = (1279189.6567109574, 45614.55903407656)\n",
      "RMSLE = (0.6016758506009482, 0.009560525290965662)\n"
     ]
    }
   ],
   "source": [
    "metricasProm(rms)"
   ]
  },
  {
   "cell_type": "markdown",
   "id": "a58a670e",
   "metadata": {},
   "source": [
    "### $\\underline{Caso 2 :}$  Quitando outtliers"
   ]
  },
  {
   "cell_type": "markdown",
   "id": "992f3445",
   "metadata": {},
   "source": [
    "### preparamos los datos"
   ]
  },
  {
   "cell_type": "code",
   "execution_count": 20,
   "id": "e7885035",
   "metadata": {
    "scrolled": true
   },
   "outputs": [
    {
     "name": "stdout",
     "output_type": "stream",
     "text": [
      "Se han eliminado 1315/29534 outliers. Ahora tienes 28219/29534.\n"
     ]
    },
    {
     "data": {
      "text/plain": [
       "28219"
      ]
     },
     "execution_count": 20,
     "metadata": {},
     "output_type": "execute_result"
    }
   ],
   "source": [
    "# Limpiamos los train\n",
    "Ytrain_pred = regresion.predict(Xtrain)\n",
    "Ytrain_pred = Ytrain_pred.reshape(Ytrain_pred.shape[0])\n",
    "\n",
    "trainCleaned = cleanOutliers(Xtrain,Ytrain,Ytrain_pred,m=2)\n",
    "len(trainCleaned[0])"
   ]
  },
  {
   "cell_type": "code",
   "execution_count": 21,
   "id": "2399e25e",
   "metadata": {},
   "outputs": [
    {
     "name": "stdout",
     "output_type": "stream",
     "text": [
      "Se han eliminado 138/3282 outliers. Ahora tienes 3144/3282.\n"
     ]
    },
    {
     "data": {
      "text/plain": [
       "3144"
      ]
     },
     "execution_count": 21,
     "metadata": {},
     "output_type": "execute_result"
    }
   ],
   "source": [
    "# limpiamos los test\n",
    "testCleaned = cleanOutliers(Xtest,Ytest,pred,m=2)\n",
    "len(testCleaned[0])"
   ]
  },
  {
   "cell_type": "code",
   "execution_count": 22,
   "id": "876ba077",
   "metadata": {},
   "outputs": [],
   "source": [
    "XtestClean = testCleaned[0]\n",
    "YtestClean = testCleaned[1]\n",
    "\n",
    "XtrainClean = trainCleaned[0]\n",
    "YtrainClean = trainCleaned[1]"
   ]
  },
  {
   "cell_type": "markdown",
   "id": "b13b7635",
   "metadata": {},
   "source": [
    "### sin kfold"
   ]
  },
  {
   "cell_type": "code",
   "execution_count": 23,
   "id": "a578fd16",
   "metadata": {},
   "outputs": [],
   "source": [
    "#Con XtrainClean, e YtrainClean entrenamos al algoritmo\n",
    "regresionClean = metnum.LinearRegression()\n",
    "regresionClean.fit(XtrainClean, YtrainClean)\n",
    "#Ahora predeciremos Ytest en pred, usando Xtest\n",
    "predClean = regresion.predict(XtestClean)\n",
    "predClean = predClean.reshape(predClean.shape[0])"
   ]
  },
  {
   "cell_type": "code",
   "execution_count": 24,
   "id": "54deb507",
   "metadata": {
    "scrolled": true
   },
   "outputs": [
    {
     "data": {
      "image/png": "[encoded data removed]",
      "text/plain": [
       "<Figure size 432x288 with 1 Axes>"
      ]
     },
     "metadata": {
      "needs_background": "light"
     },
     "output_type": "display_data"
    }
   ],
   "source": [
    "grafico(XtestClean,YtestClean,predClean,\"Precio vs. Metros Totales (sin outs.)\",\"Metros Totales($\\mathrm{m}^2$)\",\"Precio (MXN$)\",\"metros-precio-sinout\")"
   ]
  },
  {
   "cell_type": "code",
   "execution_count": 25,
   "id": "117ff5e8",
   "metadata": {},
   "outputs": [
    {
     "name": "stdout",
     "output_type": "stream",
     "text": [
      "RMSE = 924414.4889555972\n",
      "RMSLE = 0.5685569310023197\n"
     ]
    }
   ],
   "source": [
    "metricas(YtestClean,predClean)"
   ]
  },
  {
   "cell_type": "markdown",
   "id": "928475b2",
   "metadata": {},
   "source": [
    "### con kfold "
   ]
  },
  {
   "cell_type": "code",
   "execution_count": 26,
   "id": "16ac78b0",
   "metadata": {
    "scrolled": true
   },
   "outputs": [
    {
     "name": "stdout",
     "output_type": "stream",
     "text": [
      "Corte 1, \n",
      "Corte 2, \n",
      "Corte 3, \n",
      "Corte 4, \n",
      "Corte 5, \n",
      "Corte 6, \n",
      "Corte 7, \n",
      "Corte 8, \n",
      "Corte 9, \n",
      "Corte 10, \n",
      "fin.\n"
     ]
    }
   ],
   "source": [
    "\n",
    "rmsCleaned = CML_KFold(10, XtrainClean, YtrainClean)"
   ]
  },
  {
   "cell_type": "code",
   "execution_count": 27,
   "id": "6af60ecc",
   "metadata": {
    "scrolled": false
   },
   "outputs": [
    {
     "name": "stdout",
     "output_type": "stream",
     "text": [
      "RMSE = (910139.4845997716, 18072.725394473353)\n",
      "RMSLE = (0.5416628390495711, 0.009397952259912782)\n"
     ]
    }
   ],
   "source": [
    "metricasProm(rmsCleaned)"
   ]
  },
  {
   "cell_type": "markdown",
   "id": "16939ee7",
   "metadata": {},
   "source": [
    "## Comparando Resultados finales"
   ]
  },
  {
   "cell_type": "code",
   "execution_count": 28,
   "id": "40c394bf",
   "metadata": {},
   "outputs": [
    {
     "name": "stdout",
     "output_type": "stream",
     "text": [
      "RMSE = 1301134.7906495698\n",
      "RMSLE = 0.6068250898136552\n"
     ]
    }
   ],
   "source": [
    "metricas(Ytest,pred) # sin K-fold sin quitar outs"
   ]
  },
  {
   "cell_type": "code",
   "execution_count": 29,
   "id": "df2fb970",
   "metadata": {},
   "outputs": [
    {
     "name": "stdout",
     "output_type": "stream",
     "text": [
      "RMSE = (1279189.6567109574, 45614.55903407656)\n",
      "RMSLE = (0.6016758506009482, 0.009560525290965662)\n"
     ]
    }
   ],
   "source": [
    "metricasProm(rms) # con K-fold sin quitar outs"
   ]
  },
  {
   "cell_type": "code",
   "execution_count": 30,
   "id": "ca1dc41f",
   "metadata": {},
   "outputs": [
    {
     "name": "stdout",
     "output_type": "stream",
     "text": [
      "RMSE = 924414.4889555972\n",
      "RMSLE = 0.5685569310023197\n"
     ]
    }
   ],
   "source": [
    "metricas(YtestClean,predClean) # sin K-fold quitando outs"
   ]
  },
  {
   "cell_type": "code",
   "execution_count": 31,
   "id": "47123d8e",
   "metadata": {
    "scrolled": true
   },
   "outputs": [
    {
     "name": "stdout",
     "output_type": "stream",
     "text": [
      "RMSE = (910139.4845997716, 18072.725394473353)\n",
      "RMSLE = (0.5416628390495711, 0.009397952259912782)\n"
     ]
    }
   ],
   "source": [
    "metricasProm(rmsCleaned) # con K-fold quitando outs "
   ]
  },
  {
   "cell_type": "markdown",
   "id": "424814d7",
   "metadata": {},
   "source": [
    "# Comencemos a segmentar los datos"
   ]
  },
  {
   "cell_type": "markdown",
   "id": "2f47bc71",
   "metadata": {},
   "source": [
    "# Queretaro:"
   ]
  },
  {
   "cell_type": "code",
   "execution_count": 32,
   "id": "59bd9858",
   "metadata": {
    "scrolled": false
   },
   "outputs": [
    {
     "data": {
      "text/html": [
       "<div>\n",
       "<style scoped>\n",
       "    .dataframe tbody tr th:only-of-type {\n",
       "        vertical-align: middle;\n",
       "    }\n",
       "\n",
       "    .dataframe tbody tr th {\n",
       "        vertical-align: top;\n",
       "    }\n",
       "\n",
       "    .dataframe thead th {\n",
       "        text-align: right;\n",
       "    }\n",
       "</style>\n",
       "<table border=\"1\" class=\"dataframe\">\n",
       "  <thead>\n",
       "    <tr style=\"text-align: right;\">\n",
       "      <th></th>\n",
       "      <th>id</th>\n",
       "      <th>metrostotales</th>\n",
       "      <th>precio</th>\n",
       "    </tr>\n",
       "  </thead>\n",
       "  <tbody>\n",
       "    <tr>\n",
       "      <th>12</th>\n",
       "      <td>47890</td>\n",
       "      <td>141.0</td>\n",
       "      <td>1500000.0</td>\n",
       "    </tr>\n",
       "    <tr>\n",
       "      <th>16</th>\n",
       "      <td>283945</td>\n",
       "      <td>275.0</td>\n",
       "      <td>2450000.0</td>\n",
       "    </tr>\n",
       "    <tr>\n",
       "      <th>19</th>\n",
       "      <td>87655</td>\n",
       "      <td>184.0</td>\n",
       "      <td>1850000.0</td>\n",
       "    </tr>\n",
       "    <tr>\n",
       "      <th>48</th>\n",
       "      <td>157857</td>\n",
       "      <td>128.0</td>\n",
       "      <td>1375000.0</td>\n",
       "    </tr>\n",
       "    <tr>\n",
       "      <th>61</th>\n",
       "      <td>286113</td>\n",
       "      <td>435.0</td>\n",
       "      <td>6500000.0</td>\n",
       "    </tr>\n",
       "    <tr>\n",
       "      <th>...</th>\n",
       "      <td>...</td>\n",
       "      <td>...</td>\n",
       "      <td>...</td>\n",
       "    </tr>\n",
       "    <tr>\n",
       "      <th>215724</th>\n",
       "      <td>101277</td>\n",
       "      <td>105.0</td>\n",
       "      <td>1200000.0</td>\n",
       "    </tr>\n",
       "    <tr>\n",
       "      <th>215760</th>\n",
       "      <td>128138</td>\n",
       "      <td>169.0</td>\n",
       "      <td>1600000.0</td>\n",
       "    </tr>\n",
       "    <tr>\n",
       "      <th>215791</th>\n",
       "      <td>113021</td>\n",
       "      <td>90.0</td>\n",
       "      <td>550000.0</td>\n",
       "    </tr>\n",
       "    <tr>\n",
       "      <th>215812</th>\n",
       "      <td>274637</td>\n",
       "      <td>270.0</td>\n",
       "      <td>3900000.0</td>\n",
       "    </tr>\n",
       "    <tr>\n",
       "      <th>215831</th>\n",
       "      <td>83780</td>\n",
       "      <td>170.0</td>\n",
       "      <td>1690000.0</td>\n",
       "    </tr>\n",
       "  </tbody>\n",
       "</table>\n",
       "<p>6721 rows × 3 columns</p>\n",
       "</div>"
      ],
      "text/plain": [
       "            id  metrostotales     precio\n",
       "12       47890          141.0  1500000.0\n",
       "16      283945          275.0  2450000.0\n",
       "19       87655          184.0  1850000.0\n",
       "48      157857          128.0  1375000.0\n",
       "61      286113          435.0  6500000.0\n",
       "...        ...            ...        ...\n",
       "215724  101277          105.0  1200000.0\n",
       "215760  128138          169.0  1600000.0\n",
       "215791  113021           90.0   550000.0\n",
       "215812  274637          270.0  3900000.0\n",
       "215831   83780          170.0  1690000.0\n",
       "\n",
       "[6721 rows x 3 columns]"
      ]
     },
     "metadata": {},
     "output_type": "display_data"
    },
    {
     "data": {
      "text/html": [
       "<div>\n",
       "<style scoped>\n",
       "    .dataframe tbody tr th:only-of-type {\n",
       "        vertical-align: middle;\n",
       "    }\n",
       "\n",
       "    .dataframe tbody tr th {\n",
       "        vertical-align: top;\n",
       "    }\n",
       "\n",
       "    .dataframe thead th {\n",
       "        text-align: right;\n",
       "    }\n",
       "</style>\n",
       "<table border=\"1\" class=\"dataframe\">\n",
       "  <thead>\n",
       "    <tr style=\"text-align: right;\">\n",
       "      <th></th>\n",
       "      <th>id</th>\n",
       "      <th>metrostotales</th>\n",
       "      <th>precio</th>\n",
       "    </tr>\n",
       "  </thead>\n",
       "  <tbody>\n",
       "    <tr>\n",
       "      <th>215836</th>\n",
       "      <td>188622</td>\n",
       "      <td>275.0</td>\n",
       "      <td>2600000.0</td>\n",
       "    </tr>\n",
       "    <tr>\n",
       "      <th>215903</th>\n",
       "      <td>216852</td>\n",
       "      <td>160.0</td>\n",
       "      <td>1400000.0</td>\n",
       "    </tr>\n",
       "    <tr>\n",
       "      <th>215920</th>\n",
       "      <td>155451</td>\n",
       "      <td>80.0</td>\n",
       "      <td>565000.0</td>\n",
       "    </tr>\n",
       "    <tr>\n",
       "      <th>215927</th>\n",
       "      <td>115718</td>\n",
       "      <td>206.0</td>\n",
       "      <td>2330000.0</td>\n",
       "    </tr>\n",
       "    <tr>\n",
       "      <th>215986</th>\n",
       "      <td>238720</td>\n",
       "      <td>128.0</td>\n",
       "      <td>900000.0</td>\n",
       "    </tr>\n",
       "    <tr>\n",
       "      <th>...</th>\n",
       "      <td>...</td>\n",
       "      <td>...</td>\n",
       "      <td>...</td>\n",
       "    </tr>\n",
       "    <tr>\n",
       "      <th>239784</th>\n",
       "      <td>284062</td>\n",
       "      <td>181.0</td>\n",
       "      <td>1890000.0</td>\n",
       "    </tr>\n",
       "    <tr>\n",
       "      <th>239872</th>\n",
       "      <td>110687</td>\n",
       "      <td>110.0</td>\n",
       "      <td>1480000.0</td>\n",
       "    </tr>\n",
       "    <tr>\n",
       "      <th>239913</th>\n",
       "      <td>133767</td>\n",
       "      <td>114.0</td>\n",
       "      <td>1350000.0</td>\n",
       "    </tr>\n",
       "    <tr>\n",
       "      <th>239975</th>\n",
       "      <td>258795</td>\n",
       "      <td>128.0</td>\n",
       "      <td>1275000.0</td>\n",
       "    </tr>\n",
       "    <tr>\n",
       "      <th>239989</th>\n",
       "      <td>175203</td>\n",
       "      <td>404.0</td>\n",
       "      <td>3850000.0</td>\n",
       "    </tr>\n",
       "  </tbody>\n",
       "</table>\n",
       "<p>744 rows × 3 columns</p>\n",
       "</div>"
      ],
      "text/plain": [
       "            id  metrostotales     precio\n",
       "215836  188622          275.0  2600000.0\n",
       "215903  216852          160.0  1400000.0\n",
       "215920  155451           80.0   565000.0\n",
       "215927  115718          206.0  2330000.0\n",
       "215986  238720          128.0   900000.0\n",
       "...        ...            ...        ...\n",
       "239784  284062          181.0  1890000.0\n",
       "239872  110687          110.0  1480000.0\n",
       "239913  133767          114.0  1350000.0\n",
       "239975  258795          128.0  1275000.0\n",
       "239989  175203          404.0  3850000.0\n",
       "\n",
       "[744 rows x 3 columns]"
      ]
     },
     "metadata": {},
     "output_type": "display_data"
    }
   ],
   "source": [
    "muestra = set_original\n",
    "muestra = muestra[muestra[\"ciudad\"] == \"Querétaro\"]\n",
    "muestra = muestra[muestra[\"tipodepropiedad\"] == \"Casa\"]\n",
    "#armamos los dos casos\n",
    "cantidadparatrain = int(len(muestra) - len(muestra)/10)\n",
    "train = muestra.iloc[:cantidadparatrain, :]\n",
    "test = muestra.iloc[cantidadparatrain:, :]\n",
    "tipo = 'metrostotales'\n",
    "#guardamos las columnas que nos interesan para experimentar\n",
    "train = train[[\"id\", tipo, \"precio\"]].dropna()\n",
    "test = test[[\"id\", tipo, \"precio\"]].dropna()\n",
    "\n",
    "Xtrain, Xtest = train[tipo].values, test[tipo].values\n",
    "Ytrain, Ytest = train[\"precio\"].values, test[\"precio\"].values\n",
    "\n",
    "display(train[[\"id\", tipo, \"precio\"]])\n",
    "display(test[[\"id\", tipo, \"precio\"]])\n"
   ]
  },
  {
   "cell_type": "code",
   "execution_count": 33,
   "id": "92794583",
   "metadata": {
    "scrolled": false
   },
   "outputs": [
    {
     "data": {
      "text/plain": [
       "250.0    407\n",
       "300.0    402\n",
       "128.0    323\n",
       "90.0     242\n",
       "180.0    239\n",
       "        ... \n",
       "426.0      1\n",
       "378.0      1\n",
       "37.0       1\n",
       "434.0      1\n",
       "382.0      1\n",
       "Name: metrostotales, Length: 373, dtype: int64"
      ]
     },
     "execution_count": 33,
     "metadata": {},
     "output_type": "execute_result"
    }
   ],
   "source": [
    "muestra[\"metrostotales\"].value_counts()"
   ]
  },
  {
   "cell_type": "code",
   "execution_count": 34,
   "id": "3b07761b",
   "metadata": {
    "scrolled": true
   },
   "outputs": [
    {
     "data": {
      "text/plain": [
       "<AxesSubplot:>"
      ]
     },
     "execution_count": 34,
     "metadata": {},
     "output_type": "execute_result"
    },
    {
     "data": {
      "image/png": "[encoded data removed]",
      "text/plain": [
       "<Figure size 432x288 with 1 Axes>"
      ]
     },
     "metadata": {
      "needs_background": "light"
     },
     "output_type": "display_data"
    }
   ],
   "source": [
    "muestra[\"metrostotales\"].hist()"
   ]
  },
  {
   "cell_type": "markdown",
   "id": "5044b3b3",
   "metadata": {},
   "source": [
    "### preparamos los datos"
   ]
  },
  {
   "cell_type": "markdown",
   "id": "82419584",
   "metadata": {},
   "source": [
    "### $\\underline{Caso 1 :}$ Sin quitar Outtliers"
   ]
  },
  {
   "cell_type": "code",
   "execution_count": 35,
   "id": "471d354c",
   "metadata": {},
   "outputs": [],
   "source": [
    "#Con Xtrain, e Ytrain entrenamos al algoritmo\n",
    "regresion = metnum.LinearRegression()\n",
    "regresion.fit(Xtrain, Ytrain)\n",
    "#Ahora predeciremos Ytest en pred, usando Xtest\n",
    "pred = regresion.predict(Xtest)\n",
    "pred = pred.reshape(pred.shape[0])"
   ]
  },
  {
   "cell_type": "code",
   "execution_count": 36,
   "id": "89c1f6e4",
   "metadata": {
    "scrolled": true
   },
   "outputs": [
    {
     "data": {
      "image/png": "[encoded data removed]",
      "text/plain": [
       "<Figure size 432x288 with 1 Axes>"
      ]
     },
     "metadata": {
      "needs_background": "light"
     },
     "output_type": "display_data"
    }
   ],
   "source": [
    "grafico(Xtest,Ytest,pred,\"Precio vs. Metros Totales (con outs.)\",\"Metros Totales($\\mathrm{m}^2$)\",\"Precio (MXN$)\",\"metros-precio-quereta-simple\")"
   ]
  },
  {
   "cell_type": "code",
   "execution_count": 37,
   "id": "161891e4",
   "metadata": {
    "scrolled": true
   },
   "outputs": [
    {
     "name": "stdout",
     "output_type": "stream",
     "text": [
      "RMSE = 681475.9598441432\n",
      "RMSLE = 0.31984728703033904\n"
     ]
    }
   ],
   "source": [
    "metricas(Ytest,pred)"
   ]
  },
  {
   "cell_type": "markdown",
   "id": "4df3d4a3",
   "metadata": {},
   "source": [
    "### con kfold"
   ]
  },
  {
   "cell_type": "code",
   "execution_count": 38,
   "id": "ed63d78f",
   "metadata": {
    "scrolled": false
   },
   "outputs": [
    {
     "name": "stdout",
     "output_type": "stream",
     "text": [
      "Corte 1, \n",
      "Corte 2, \n",
      "Corte 3, \n",
      "Corte 4, \n",
      "Corte 5, \n",
      "Corte 6, \n",
      "Corte 7, \n",
      "Corte 8, \n",
      "Corte 9, \n",
      "Corte 10, \n",
      "fin.\n"
     ]
    }
   ],
   "source": [
    "rms = CML_KFold(10, Xtrain, Ytrain)"
   ]
  },
  {
   "cell_type": "code",
   "execution_count": 39,
   "id": "cf52c56d",
   "metadata": {
    "scrolled": true
   },
   "outputs": [
    {
     "name": "stdout",
     "output_type": "stream",
     "text": [
      "RMSE = (744336.722823071, 43316.678669348665)\n",
      "RMSLE = (0.3382320132720499, 0.01258036886382603)\n"
     ]
    }
   ],
   "source": [
    "metricasProm(rms)"
   ]
  },
  {
   "cell_type": "markdown",
   "id": "f749b3bc",
   "metadata": {},
   "source": [
    "## $\\underline{Caso 2 :}$ Quitando Outtliers"
   ]
  },
  {
   "cell_type": "code",
   "execution_count": 40,
   "id": "7dcdb5ff",
   "metadata": {
    "scrolled": true
   },
   "outputs": [
    {
     "name": "stdout",
     "output_type": "stream",
     "text": [
      "Se han eliminado 259/6721 outliers. Ahora tienes 6462/6721.\n"
     ]
    },
    {
     "data": {
      "text/plain": [
       "6462"
      ]
     },
     "execution_count": 40,
     "metadata": {},
     "output_type": "execute_result"
    }
   ],
   "source": [
    "# Limpiamos los train\n",
    "Ytrain_pred = regresion.predict(Xtrain)\n",
    "Ytrain_pred = Ytrain_pred.reshape(Ytrain_pred.shape[0])\n",
    "\n",
    "trainCleaned = cleanOutliers(Xtrain,Ytrain,Ytrain_pred,m=2)\n",
    "len(trainCleaned[0])"
   ]
  },
  {
   "cell_type": "code",
   "execution_count": 41,
   "id": "ee6edda6",
   "metadata": {},
   "outputs": [
    {
     "name": "stdout",
     "output_type": "stream",
     "text": [
      "Se han eliminado 31/744 outliers. Ahora tienes 713/744.\n"
     ]
    },
    {
     "data": {
      "text/plain": [
       "713"
      ]
     },
     "execution_count": 41,
     "metadata": {},
     "output_type": "execute_result"
    }
   ],
   "source": [
    "# limpiamos los test\n",
    "testCleaned = cleanOutliers(Xtest,Ytest,pred,m=2)\n",
    "len(testCleaned[0])"
   ]
  },
  {
   "cell_type": "code",
   "execution_count": 42,
   "id": "87db74b7",
   "metadata": {},
   "outputs": [],
   "source": [
    "XtestClean = testCleaned[0]\n",
    "YtestClean = testCleaned[1]\n",
    "\n",
    "XtrainClean = trainCleaned[0]\n",
    "YtrainClean = trainCleaned[1]"
   ]
  },
  {
   "cell_type": "code",
   "execution_count": 43,
   "id": "e06e3355",
   "metadata": {},
   "outputs": [],
   "source": [
    "#Con XtrainClean, e YtrainClean entrenamos al algoritmo\n",
    "regresionClean = metnum.LinearRegression()\n",
    "regresionClean.fit(XtrainClean, YtrainClean)\n",
    "#Ahora predeciremos Ytest en pred, usando Xtest\n",
    "predClean = regresion.predict(XtestClean)\n",
    "predClean = predClean.reshape(predClean.shape[0])"
   ]
  },
  {
   "cell_type": "code",
   "execution_count": 44,
   "id": "773b6b74",
   "metadata": {
    "scrolled": false
   },
   "outputs": [
    {
     "data": {
      "image/png": "[encoded data removed]",
      "text/plain": [
       "<Figure size 432x288 with 1 Axes>"
      ]
     },
     "metadata": {
      "needs_background": "light"
     },
     "output_type": "display_data"
    }
   ],
   "source": [
    "graficoConLim(XtestClean,YtestClean,predClean,\"Precio vs. Metros Totales (sin outs.)\",\"Metros Totales($\\mathrm{m}^2$)\",\"Precio (MXN$)\",\"metros-precio-sinout-Querétaro\",0,450,0,7000000)"
   ]
  },
  {
   "cell_type": "code",
   "execution_count": 45,
   "id": "9274fc75",
   "metadata": {
    "scrolled": true
   },
   "outputs": [
    {
     "name": "stdout",
     "output_type": "stream",
     "text": [
      "RMSE = 531698.4000697965\n",
      "RMSLE = 0.29424382738746596\n"
     ]
    }
   ],
   "source": [
    "metricas(YtestClean,predClean)"
   ]
  },
  {
   "cell_type": "markdown",
   "id": "c17b23a7",
   "metadata": {},
   "source": [
    "### con Kfold"
   ]
  },
  {
   "cell_type": "code",
   "execution_count": 46,
   "id": "7b7decca",
   "metadata": {
    "scrolled": true
   },
   "outputs": [
    {
     "name": "stdout",
     "output_type": "stream",
     "text": [
      "Corte 1, \n",
      "Corte 2, \n",
      "Corte 3, \n",
      "Corte 4, \n",
      "Corte 5, \n",
      "Corte 6, \n",
      "Corte 7, \n",
      "Corte 8, \n",
      "Corte 9, \n",
      "Corte 10, \n",
      "fin.\n"
     ]
    }
   ],
   "source": [
    "\n",
    "rmsCleaned = CML_KFold(10, XtrainClean, YtrainClean) "
   ]
  },
  {
   "cell_type": "code",
   "execution_count": 47,
   "id": "b42b931a",
   "metadata": {
    "scrolled": true
   },
   "outputs": [
    {
     "name": "stdout",
     "output_type": "stream",
     "text": [
      "RMSE = (553162.2334014225, 14652.395892354663)\n",
      "RMSLE = (0.3052436100882179, 0.012409308798182759)\n"
     ]
    }
   ],
   "source": [
    "metricasProm(rmsCleaned)"
   ]
  },
  {
   "cell_type": "markdown",
   "id": "31c6fac9",
   "metadata": {},
   "source": [
    "### Veremos agregando un feature"
   ]
  },
  {
   "cell_type": "markdown",
   "id": "b4bc0a02",
   "metadata": {},
   "source": [
    "#### Agregaremos 'habitaciones' con la idea de mejorar nuestras predicciones"
   ]
  },
  {
   "cell_type": "code",
   "execution_count": 48,
   "id": "60237427",
   "metadata": {},
   "outputs": [
    {
     "data": {
      "text/plain": [
       "['id',\n",
       " 'titulo',\n",
       " 'descripcion',\n",
       " 'tipodepropiedad',\n",
       " 'direccion',\n",
       " 'ciudad',\n",
       " 'provincia',\n",
       " 'antiguedad',\n",
       " 'habitaciones',\n",
       " 'garages',\n",
       " 'banos',\n",
       " 'metroscubiertos',\n",
       " 'metrostotales',\n",
       " 'idzona',\n",
       " 'lat',\n",
       " 'lng',\n",
       " 'fecha',\n",
       " 'gimnasio',\n",
       " 'usosmultiples',\n",
       " 'piscina',\n",
       " 'escuelascercanas',\n",
       " 'centroscomercialescercanos',\n",
       " 'precio']"
      ]
     },
     "execution_count": 48,
     "metadata": {},
     "output_type": "execute_result"
    }
   ],
   "source": [
    "list(set_original.columns)"
   ]
  },
  {
   "cell_type": "code",
   "execution_count": 185,
   "id": "4145b50a",
   "metadata": {
    "scrolled": false
   },
   "outputs": [
    {
     "data": {
      "text/html": [
       "<div>\n",
       "<style scoped>\n",
       "    .dataframe tbody tr th:only-of-type {\n",
       "        vertical-align: middle;\n",
       "    }\n",
       "\n",
       "    .dataframe tbody tr th {\n",
       "        vertical-align: top;\n",
       "    }\n",
       "\n",
       "    .dataframe thead th {\n",
       "        text-align: right;\n",
       "    }\n",
       "</style>\n",
       "<table border=\"1\" class=\"dataframe\">\n",
       "  <thead>\n",
       "    <tr style=\"text-align: right;\">\n",
       "      <th></th>\n",
       "      <th>id</th>\n",
       "      <th>metrostotales-metroscubiertos</th>\n",
       "      <th>precio</th>\n",
       "    </tr>\n",
       "  </thead>\n",
       "  <tbody>\n",
       "    <tr>\n",
       "      <th>238272</th>\n",
       "      <td>53551</td>\n",
       "      <td>281.0</td>\n",
       "      <td>1500000.0</td>\n",
       "    </tr>\n",
       "    <tr>\n",
       "      <th>203547</th>\n",
       "      <td>35691</td>\n",
       "      <td>411.0</td>\n",
       "      <td>2265000.0</td>\n",
       "    </tr>\n",
       "    <tr>\n",
       "      <th>60101</th>\n",
       "      <td>263607</td>\n",
       "      <td>600.0</td>\n",
       "      <td>3050000.0</td>\n",
       "    </tr>\n",
       "    <tr>\n",
       "      <th>107581</th>\n",
       "      <td>24668</td>\n",
       "      <td>174.0</td>\n",
       "      <td>550000.0</td>\n",
       "    </tr>\n",
       "    <tr>\n",
       "      <th>135793</th>\n",
       "      <td>41879</td>\n",
       "      <td>245.0</td>\n",
       "      <td>800000.0</td>\n",
       "    </tr>\n",
       "    <tr>\n",
       "      <th>...</th>\n",
       "      <td>...</td>\n",
       "      <td>...</td>\n",
       "      <td>...</td>\n",
       "    </tr>\n",
       "    <tr>\n",
       "      <th>191411</th>\n",
       "      <td>148679</td>\n",
       "      <td>694.0</td>\n",
       "      <td>4500000.0</td>\n",
       "    </tr>\n",
       "    <tr>\n",
       "      <th>181968</th>\n",
       "      <td>19228</td>\n",
       "      <td>335.0</td>\n",
       "      <td>1450000.0</td>\n",
       "    </tr>\n",
       "    <tr>\n",
       "      <th>144736</th>\n",
       "      <td>19197</td>\n",
       "      <td>404.0</td>\n",
       "      <td>2850000.0</td>\n",
       "    </tr>\n",
       "    <tr>\n",
       "      <th>25250</th>\n",
       "      <td>122983</td>\n",
       "      <td>388.0</td>\n",
       "      <td>4300000.0</td>\n",
       "    </tr>\n",
       "    <tr>\n",
       "      <th>162207</th>\n",
       "      <td>59299</td>\n",
       "      <td>250.0</td>\n",
       "      <td>1140000.0</td>\n",
       "    </tr>\n",
       "  </tbody>\n",
       "</table>\n",
       "<p>6480 rows × 3 columns</p>\n",
       "</div>"
      ],
      "text/plain": [
       "            id  metrostotales-metroscubiertos     precio\n",
       "238272   53551                          281.0  1500000.0\n",
       "203547   35691                          411.0  2265000.0\n",
       "60101   263607                          600.0  3050000.0\n",
       "107581   24668                          174.0   550000.0\n",
       "135793   41879                          245.0   800000.0\n",
       "...        ...                            ...        ...\n",
       "191411  148679                          694.0  4500000.0\n",
       "181968   19228                          335.0  1450000.0\n",
       "144736   19197                          404.0  2850000.0\n",
       "25250   122983                          388.0  4300000.0\n",
       "162207   59299                          250.0  1140000.0\n",
       "\n",
       "[6480 rows x 3 columns]"
      ]
     },
     "metadata": {},
     "output_type": "display_data"
    },
    {
     "data": {
      "text/html": [
       "<div>\n",
       "<style scoped>\n",
       "    .dataframe tbody tr th:only-of-type {\n",
       "        vertical-align: middle;\n",
       "    }\n",
       "\n",
       "    .dataframe tbody tr th {\n",
       "        vertical-align: top;\n",
       "    }\n",
       "\n",
       "    .dataframe thead th {\n",
       "        text-align: right;\n",
       "    }\n",
       "</style>\n",
       "<table border=\"1\" class=\"dataframe\">\n",
       "  <thead>\n",
       "    <tr style=\"text-align: right;\">\n",
       "      <th></th>\n",
       "      <th>id</th>\n",
       "      <th>metrostotales-metroscubiertos</th>\n",
       "      <th>precio</th>\n",
       "    </tr>\n",
       "  </thead>\n",
       "  <tbody>\n",
       "    <tr>\n",
       "      <th>155006</th>\n",
       "      <td>147122</td>\n",
       "      <td>180.0</td>\n",
       "      <td>500000.0</td>\n",
       "    </tr>\n",
       "    <tr>\n",
       "      <th>174592</th>\n",
       "      <td>72709</td>\n",
       "      <td>338.0</td>\n",
       "      <td>1575000.0</td>\n",
       "    </tr>\n",
       "    <tr>\n",
       "      <th>217500</th>\n",
       "      <td>154342</td>\n",
       "      <td>703.0</td>\n",
       "      <td>5500000.0</td>\n",
       "    </tr>\n",
       "    <tr>\n",
       "      <th>155839</th>\n",
       "      <td>220908</td>\n",
       "      <td>463.0</td>\n",
       "      <td>2600000.0</td>\n",
       "    </tr>\n",
       "    <tr>\n",
       "      <th>165491</th>\n",
       "      <td>190116</td>\n",
       "      <td>515.0</td>\n",
       "      <td>2500000.0</td>\n",
       "    </tr>\n",
       "    <tr>\n",
       "      <th>...</th>\n",
       "      <td>...</td>\n",
       "      <td>...</td>\n",
       "      <td>...</td>\n",
       "    </tr>\n",
       "    <tr>\n",
       "      <th>29770</th>\n",
       "      <td>76079</td>\n",
       "      <td>440.0</td>\n",
       "      <td>2450000.0</td>\n",
       "    </tr>\n",
       "    <tr>\n",
       "      <th>173737</th>\n",
       "      <td>167770</td>\n",
       "      <td>128.0</td>\n",
       "      <td>615000.0</td>\n",
       "    </tr>\n",
       "    <tr>\n",
       "      <th>132838</th>\n",
       "      <td>151722</td>\n",
       "      <td>296.0</td>\n",
       "      <td>1830000.0</td>\n",
       "    </tr>\n",
       "    <tr>\n",
       "      <th>7745</th>\n",
       "      <td>147600</td>\n",
       "      <td>556.0</td>\n",
       "      <td>3380000.0</td>\n",
       "    </tr>\n",
       "    <tr>\n",
       "      <th>172725</th>\n",
       "      <td>162371</td>\n",
       "      <td>231.0</td>\n",
       "      <td>890000.0</td>\n",
       "    </tr>\n",
       "  </tbody>\n",
       "</table>\n",
       "<p>721 rows × 3 columns</p>\n",
       "</div>"
      ],
      "text/plain": [
       "            id  metrostotales-metroscubiertos     precio\n",
       "155006  147122                          180.0   500000.0\n",
       "174592   72709                          338.0  1575000.0\n",
       "217500  154342                          703.0  5500000.0\n",
       "155839  220908                          463.0  2600000.0\n",
       "165491  190116                          515.0  2500000.0\n",
       "...        ...                            ...        ...\n",
       "29770    76079                          440.0  2450000.0\n",
       "173737  167770                          128.0   615000.0\n",
       "132838  151722                          296.0  1830000.0\n",
       "7745    147600                          556.0  3380000.0\n",
       "172725  162371                          231.0   890000.0\n",
       "\n",
       "[721 rows x 3 columns]"
      ]
     },
     "metadata": {},
     "output_type": "display_data"
    }
   ],
   "source": [
    "muestra = set_original\n",
    "muestra = muestra[muestra[\"ciudad\"] == \"Querétaro\"]\n",
    "\n",
    "muestra = muestra[muestra[\"tipodepropiedad\"] == \"Casa\"]\n",
    "#armamos los dos casos\n",
    "\n",
    "\n",
    "tipo1 = 'metrostotales'\n",
    "tipo2 = 'metroscubiertos'\n",
    "\n",
    "\n",
    "#armamos nuevo data frame\n",
    "nuevaMuestra = pd.DataFrame()\n",
    "#armamos los dos casos\n",
    "\n",
    "nuevaMuestra[\"id\"] = muestra[\"id\"]\n",
    "nuevaMuestra[tipo1+\"-\"+tipo2] = (muestra[tipo1]) + muestra[tipo2] \n",
    "nuevaMuestra[\"precio\"] = muestra[\"precio\"]\n",
    "             \n",
    "muestra = nuevaMuestra.dropna()\n",
    "cantidadparatrain = int(len(muestra)- len(muestra)/10)\n",
    "from sklearn.utils import shuffle\n",
    "muestra = shuffle(muestra, random_state=1)\n",
    "train = muestra.iloc[:cantidadparatrain, :]\n",
    "test = muestra.iloc[cantidadparatrain:, :]\n",
    "\n",
    "\n",
    "#guardamos las columnas que nos interesan para experimentar\n",
    "train = train[[\"id\",tipo1+\"-\"+tipo2, \"precio\"]]\n",
    "test = test[[\"id\", tipo1+\"-\"+tipo2, \"precio\"]]\n",
    "\n",
    "\n",
    "             \n",
    "\n",
    "Xtrain, Xtest = train[tipo1+\"-\"+tipo2].values, test[tipo1+\"-\"+tipo2].values\n",
    "Ytrain, Ytest = train[\"precio\"].values, test[\"precio\"].values\n",
    "\n",
    "display(train[[\"id\", tipo1+\"-\"+tipo2, \"precio\"]])\n",
    "display(test[[\"id\", tipo1+\"-\"+tipo2, \"precio\"]])\n"
   ]
  },
  {
   "cell_type": "code",
   "execution_count": 186,
   "id": "1b155813",
   "metadata": {
    "scrolled": false
   },
   "outputs": [
    {
     "data": {
      "text/plain": [
       "500.0    74\n",
       "360.0    68\n",
       "340.0    64\n",
       "570.0    58\n",
       "400.0    51\n",
       "         ..\n",
       "762.0     1\n",
       "661.0     1\n",
       "742.0     1\n",
       "48.0      1\n",
       "836.0     1\n",
       "Name: metrostotales-metroscubiertos, Length: 672, dtype: int64"
      ]
     },
     "execution_count": 186,
     "metadata": {},
     "output_type": "execute_result"
    }
   ],
   "source": [
    "muestra[tipo1+\"-\"+tipo2].value_counts()"
   ]
  },
  {
   "cell_type": "code",
   "execution_count": 187,
   "id": "40764b16",
   "metadata": {
    "scrolled": false
   },
   "outputs": [
    {
     "data": {
      "text/plain": [
       "<AxesSubplot:>"
      ]
     },
     "execution_count": 187,
     "metadata": {},
     "output_type": "execute_result"
    },
    {
     "data": {
      "image/png": "[encoded data removed]",
      "text/plain": [
       "<Figure size 432x288 with 1 Axes>"
      ]
     },
     "metadata": {
      "needs_background": "light"
     },
     "output_type": "display_data"
    }
   ],
   "source": [
    "muestra[tipo1+\"-\"+tipo2].hist()"
   ]
  },
  {
   "cell_type": "markdown",
   "id": "84ac398e",
   "metadata": {},
   "source": [
    "### preparamos los datos"
   ]
  },
  {
   "cell_type": "markdown",
   "id": "15dfe8e0",
   "metadata": {},
   "source": [
    "### $\\underline{Caso 1 :}$ Sin quitar Outtliers"
   ]
  },
  {
   "cell_type": "code",
   "execution_count": 188,
   "id": "2bb81da4",
   "metadata": {},
   "outputs": [],
   "source": [
    "#Con Xtrain, e Ytrain entrenamos al algoritmo\n",
    "regresion = metnum.LinearRegression()\n",
    "regresion.fit(Xtrain, Ytrain)\n",
    "#Ahora predeciremos Ytest en pred, usando Xtest\n",
    "pred = regresion.predict(Xtest)\n",
    "pred = pred.reshape(pred.shape[0])"
   ]
  },
  {
   "cell_type": "code",
   "execution_count": 190,
   "id": "a70c27dc",
   "metadata": {
    "scrolled": true
   },
   "outputs": [
    {
     "data": {
      "image/png": "[encoded data removed]",
      "text/plain": [
       "<Figure size 432x288 with 1 Axes>"
      ]
     },
     "metadata": {
      "needs_background": "light"
     },
     "output_type": "display_data"
    }
   ],
   "source": [
    "# grafico(Xtest,Ytest,pred,\"Precio vs. Metros Totales - Habitaciones (con outs.)\",\"Metros Totales($\\mathrm{m}^2$)\",\"Precio (MXN$)\",\"metros-hab-precio-quereta-simple\")\n",
    "graficoConLim(Xtest,Ytest,pred,\"Precio vs. Metros Totales + Metros Cubiertos (con outs.)\",\"Metros Totales+ Metros Cubiertos($\\mathrm{m}^2$)\",\"Precio (MXN$)\",\"metros-cub-precio-conout-Querétaro\",0,850,0,8*(10**6))"
   ]
  },
  {
   "cell_type": "code",
   "execution_count": 54,
   "id": "1055008d",
   "metadata": {
    "scrolled": true
   },
   "outputs": [
    {
     "name": "stdout",
     "output_type": "stream",
     "text": [
      "RMSE = 487696.56033492234\n",
      "RMSLE = 0.2664363414036497\n"
     ]
    }
   ],
   "source": [
    "metricas(Ytest,pred)"
   ]
  },
  {
   "cell_type": "markdown",
   "id": "13e43c52",
   "metadata": {},
   "source": [
    "### con kfold"
   ]
  },
  {
   "cell_type": "code",
   "execution_count": 55,
   "id": "14623cca",
   "metadata": {
    "scrolled": false
   },
   "outputs": [
    {
     "name": "stdout",
     "output_type": "stream",
     "text": [
      "Corte 1, \n",
      "Corte 2, \n",
      "Corte 3, \n",
      "Corte 4, \n",
      "Corte 5, \n",
      "Corte 6, \n",
      "Corte 7, \n",
      "Corte 8, \n",
      "Corte 9, \n",
      "Corte 10, \n",
      "fin.\n"
     ]
    }
   ],
   "source": [
    "rms = CML_KFold(10, Xtrain, Ytrain)"
   ]
  },
  {
   "cell_type": "code",
   "execution_count": 56,
   "id": "7463ebd5",
   "metadata": {
    "scrolled": true
   },
   "outputs": [
    {
     "name": "stdout",
     "output_type": "stream",
     "text": [
      "RMSE = (527477.8576118132, 42578.537608618586)\n",
      "RMSLE = (0.23450053217240585, 0.016765517110720118)\n"
     ]
    }
   ],
   "source": [
    "metricasProm(rms)"
   ]
  },
  {
   "cell_type": "markdown",
   "id": "1f634a2b",
   "metadata": {},
   "source": [
    "## $\\underline{Caso 2 :}$ Quitando Outtliers"
   ]
  },
  {
   "cell_type": "code",
   "execution_count": 57,
   "id": "c0bb91d6",
   "metadata": {
    "scrolled": true
   },
   "outputs": [
    {
     "name": "stdout",
     "output_type": "stream",
     "text": [
      "Se han eliminado 233/6480 outliers. Ahora tienes 6247/6480.\n"
     ]
    },
    {
     "data": {
      "text/plain": [
       "6247"
      ]
     },
     "execution_count": 57,
     "metadata": {},
     "output_type": "execute_result"
    }
   ],
   "source": [
    "# Limpiamos los train\n",
    "Ytrain_pred = regresion.predict(Xtrain)\n",
    "Ytrain_pred = Ytrain_pred.reshape(Ytrain_pred.shape[0])\n",
    "\n",
    "trainCleaned = cleanOutliers(Xtrain,Ytrain,Ytrain_pred,m=2)\n",
    "len(trainCleaned[0])"
   ]
  },
  {
   "cell_type": "code",
   "execution_count": 58,
   "id": "c7315b0c",
   "metadata": {},
   "outputs": [
    {
     "name": "stdout",
     "output_type": "stream",
     "text": [
      "Se han eliminado 30/721 outliers. Ahora tienes 691/721.\n"
     ]
    },
    {
     "data": {
      "text/plain": [
       "691"
      ]
     },
     "execution_count": 58,
     "metadata": {},
     "output_type": "execute_result"
    }
   ],
   "source": [
    "# limpiamos los test\n",
    "testCleaned = cleanOutliers(Xtest,Ytest,pred,m=2)\n",
    "len(testCleaned[0])"
   ]
  },
  {
   "cell_type": "code",
   "execution_count": 59,
   "id": "83a7f13a",
   "metadata": {},
   "outputs": [],
   "source": [
    "XtestClean = testCleaned[0]\n",
    "YtestClean = testCleaned[1]\n",
    "\n",
    "XtrainClean = trainCleaned[0]\n",
    "YtrainClean = trainCleaned[1]"
   ]
  },
  {
   "cell_type": "code",
   "execution_count": 60,
   "id": "f3cf6e10",
   "metadata": {},
   "outputs": [],
   "source": [
    "#Con XtrainClean, e YtrainClean entrenamos al algoritmo\n",
    "regresionClean = metnum.LinearRegression()\n",
    "regresionClean.fit(XtrainClean, YtrainClean)\n",
    "#Ahora predeciremos Ytest en pred, usando Xtest\n",
    "predClean = regresion.predict(XtestClean)\n",
    "predClean = predClean.reshape(predClean.shape[0])"
   ]
  },
  {
   "cell_type": "code",
   "execution_count": 61,
   "id": "e7cd241b",
   "metadata": {
    "scrolled": false
   },
   "outputs": [
    {
     "data": {
      "image/png": "[encoded data removed]",
      "text/plain": [
       "<Figure size 432x288 with 1 Axes>"
      ]
     },
     "metadata": {
      "needs_background": "light"
     },
     "output_type": "display_data"
    }
   ],
   "source": [
    "graficoConLim(XtestClean,YtestClean,predClean,\"Precio vs. Metros Totales + Metros Cubiertos (sin outs.)\",\"Metros Totales + Metros Totales + Metros Cubiertos($\\mathrm{m}^2$)\",\"Precio (MXN$)\",\"metros-cub-precio-sinout-Querétaro\",0,800,0,7*(10**6))"
   ]
  },
  {
   "cell_type": "code",
   "execution_count": 62,
   "id": "e21af40b",
   "metadata": {
    "scrolled": true
   },
   "outputs": [
    {
     "name": "stdout",
     "output_type": "stream",
     "text": [
      "RMSE = 362044.165096109\n",
      "RMSLE = 0.2519459426537217\n"
     ]
    }
   ],
   "source": [
    "metricas(YtestClean,predClean)"
   ]
  },
  {
   "cell_type": "markdown",
   "id": "9a5411f0",
   "metadata": {},
   "source": [
    "### con Kfold"
   ]
  },
  {
   "cell_type": "code",
   "execution_count": 63,
   "id": "25cbed8f",
   "metadata": {
    "scrolled": true
   },
   "outputs": [
    {
     "name": "stdout",
     "output_type": "stream",
     "text": [
      "Corte 1, \n",
      "Corte 2, \n",
      "Corte 3, \n",
      "Corte 4, \n",
      "Corte 5, \n",
      "Corte 6, \n",
      "Corte 7, \n",
      "Corte 8, \n",
      "Corte 9, \n",
      "Corte 10, \n",
      "fin.\n"
     ]
    }
   ],
   "source": [
    "\n",
    "rmsCleaned = CML_KFold(10, XtrainClean, YtrainClean) "
   ]
  },
  {
   "cell_type": "code",
   "execution_count": 64,
   "id": "11e9cbf8",
   "metadata": {
    "scrolled": false
   },
   "outputs": [
    {
     "name": "stdout",
     "output_type": "stream",
     "text": [
      "RMSE = (383604.10662268486, 10616.048395457445)\n",
      "RMSLE = (0.2058521019357435, 0.010001009510621169)\n"
     ]
    }
   ],
   "source": [
    "metricasProm(rmsCleaned)"
   ]
  },
  {
   "cell_type": "markdown",
   "id": "f23dbb2c",
   "metadata": {},
   "source": [
    "# Zapopan"
   ]
  },
  {
   "cell_type": "code",
   "execution_count": 65,
   "id": "9e9e3c83",
   "metadata": {},
   "outputs": [
    {
     "data": {
      "text/plain": [
       "Querétaro             12646\n",
       "Benito Juárez         11014\n",
       "Zapopan               10360\n",
       "San Luis Potosí        7925\n",
       "Mérida                 7162\n",
       "                      ...  \n",
       "Batopilas                 1\n",
       "Aramberri                 1\n",
       "Palizada                  1\n",
       "Villa Purificación        1\n",
       "Ahuazotepec               1\n",
       "Name: ciudad, Length: 875, dtype: int64"
      ]
     },
     "execution_count": 65,
     "metadata": {},
     "output_type": "execute_result"
    }
   ],
   "source": [
    "set_original[\"ciudad\"].value_counts()"
   ]
  },
  {
   "cell_type": "code",
   "execution_count": 179,
   "id": "f101cae6",
   "metadata": {
    "scrolled": false
   },
   "outputs": [
    {
     "data": {
      "text/html": [
       "<div>\n",
       "<style scoped>\n",
       "    .dataframe tbody tr th:only-of-type {\n",
       "        vertical-align: middle;\n",
       "    }\n",
       "\n",
       "    .dataframe tbody tr th {\n",
       "        vertical-align: top;\n",
       "    }\n",
       "\n",
       "    .dataframe thead th {\n",
       "        text-align: right;\n",
       "    }\n",
       "</style>\n",
       "<table border=\"1\" class=\"dataframe\">\n",
       "  <thead>\n",
       "    <tr style=\"text-align: right;\">\n",
       "      <th></th>\n",
       "      <th>id</th>\n",
       "      <th>metrostotales</th>\n",
       "      <th>precio</th>\n",
       "    </tr>\n",
       "  </thead>\n",
       "  <tbody>\n",
       "    <tr>\n",
       "      <th>120</th>\n",
       "      <td>68608</td>\n",
       "      <td>85.0</td>\n",
       "      <td>990000.0</td>\n",
       "    </tr>\n",
       "    <tr>\n",
       "      <th>203</th>\n",
       "      <td>144952</td>\n",
       "      <td>90.0</td>\n",
       "      <td>623000.0</td>\n",
       "    </tr>\n",
       "    <tr>\n",
       "      <th>234</th>\n",
       "      <td>184145</td>\n",
       "      <td>105.0</td>\n",
       "      <td>1740000.0</td>\n",
       "    </tr>\n",
       "    <tr>\n",
       "      <th>298</th>\n",
       "      <td>59017</td>\n",
       "      <td>119.0</td>\n",
       "      <td>2200000.0</td>\n",
       "    </tr>\n",
       "    <tr>\n",
       "      <th>361</th>\n",
       "      <td>167542</td>\n",
       "      <td>200.0</td>\n",
       "      <td>2670000.0</td>\n",
       "    </tr>\n",
       "    <tr>\n",
       "      <th>...</th>\n",
       "      <td>...</td>\n",
       "      <td>...</td>\n",
       "      <td>...</td>\n",
       "    </tr>\n",
       "    <tr>\n",
       "      <th>215983</th>\n",
       "      <td>130196</td>\n",
       "      <td>90.0</td>\n",
       "      <td>1550000.0</td>\n",
       "    </tr>\n",
       "    <tr>\n",
       "      <th>216031</th>\n",
       "      <td>40640</td>\n",
       "      <td>148.0</td>\n",
       "      <td>3600000.0</td>\n",
       "    </tr>\n",
       "    <tr>\n",
       "      <th>216088</th>\n",
       "      <td>289394</td>\n",
       "      <td>250.0</td>\n",
       "      <td>3290000.0</td>\n",
       "    </tr>\n",
       "    <tr>\n",
       "      <th>216093</th>\n",
       "      <td>219864</td>\n",
       "      <td>149.0</td>\n",
       "      <td>2000000.0</td>\n",
       "    </tr>\n",
       "    <tr>\n",
       "      <th>216225</th>\n",
       "      <td>56436</td>\n",
       "      <td>125.0</td>\n",
       "      <td>1365000.0</td>\n",
       "    </tr>\n",
       "  </tbody>\n",
       "</table>\n",
       "<p>2395 rows × 3 columns</p>\n",
       "</div>"
      ],
      "text/plain": [
       "            id  metrostotales     precio\n",
       "120      68608           85.0   990000.0\n",
       "203     144952           90.0   623000.0\n",
       "234     184145          105.0  1740000.0\n",
       "298      59017          119.0  2200000.0\n",
       "361     167542          200.0  2670000.0\n",
       "...        ...            ...        ...\n",
       "215983  130196           90.0  1550000.0\n",
       "216031   40640          148.0  3600000.0\n",
       "216088  289394          250.0  3290000.0\n",
       "216093  219864          149.0  2000000.0\n",
       "216225   56436          125.0  1365000.0\n",
       "\n",
       "[2395 rows x 3 columns]"
      ]
     },
     "metadata": {},
     "output_type": "display_data"
    },
    {
     "data": {
      "text/html": [
       "<div>\n",
       "<style scoped>\n",
       "    .dataframe tbody tr th:only-of-type {\n",
       "        vertical-align: middle;\n",
       "    }\n",
       "\n",
       "    .dataframe tbody tr th {\n",
       "        vertical-align: top;\n",
       "    }\n",
       "\n",
       "    .dataframe thead th {\n",
       "        text-align: right;\n",
       "    }\n",
       "</style>\n",
       "<table border=\"1\" class=\"dataframe\">\n",
       "  <thead>\n",
       "    <tr style=\"text-align: right;\">\n",
       "      <th></th>\n",
       "      <th>id</th>\n",
       "      <th>metrostotales</th>\n",
       "      <th>precio</th>\n",
       "    </tr>\n",
       "  </thead>\n",
       "  <tbody>\n",
       "    <tr>\n",
       "      <th>216380</th>\n",
       "      <td>152336</td>\n",
       "      <td>220.0</td>\n",
       "      <td>3990000.0</td>\n",
       "    </tr>\n",
       "    <tr>\n",
       "      <th>216713</th>\n",
       "      <td>75498</td>\n",
       "      <td>350.0</td>\n",
       "      <td>4950000.0</td>\n",
       "    </tr>\n",
       "    <tr>\n",
       "      <th>216733</th>\n",
       "      <td>263619</td>\n",
       "      <td>82.0</td>\n",
       "      <td>695000.0</td>\n",
       "    </tr>\n",
       "    <tr>\n",
       "      <th>216750</th>\n",
       "      <td>286031</td>\n",
       "      <td>134.0</td>\n",
       "      <td>1850000.0</td>\n",
       "    </tr>\n",
       "    <tr>\n",
       "      <th>216877</th>\n",
       "      <td>248024</td>\n",
       "      <td>140.0</td>\n",
       "      <td>2630000.0</td>\n",
       "    </tr>\n",
       "    <tr>\n",
       "      <th>...</th>\n",
       "      <td>...</td>\n",
       "      <td>...</td>\n",
       "      <td>...</td>\n",
       "    </tr>\n",
       "    <tr>\n",
       "      <th>239934</th>\n",
       "      <td>37065</td>\n",
       "      <td>250.0</td>\n",
       "      <td>1500000.0</td>\n",
       "    </tr>\n",
       "    <tr>\n",
       "      <th>239944</th>\n",
       "      <td>80077</td>\n",
       "      <td>162.0</td>\n",
       "      <td>1780000.0</td>\n",
       "    </tr>\n",
       "    <tr>\n",
       "      <th>239964</th>\n",
       "      <td>273538</td>\n",
       "      <td>140.0</td>\n",
       "      <td>2350000.0</td>\n",
       "    </tr>\n",
       "    <tr>\n",
       "      <th>239993</th>\n",
       "      <td>207892</td>\n",
       "      <td>150.0</td>\n",
       "      <td>1650000.0</td>\n",
       "    </tr>\n",
       "    <tr>\n",
       "      <th>239994</th>\n",
       "      <td>110268</td>\n",
       "      <td>90.0</td>\n",
       "      <td>1350000.0</td>\n",
       "    </tr>\n",
       "  </tbody>\n",
       "</table>\n",
       "<p>267 rows × 3 columns</p>\n",
       "</div>"
      ],
      "text/plain": [
       "            id  metrostotales     precio\n",
       "216380  152336          220.0  3990000.0\n",
       "216713   75498          350.0  4950000.0\n",
       "216733  263619           82.0   695000.0\n",
       "216750  286031          134.0  1850000.0\n",
       "216877  248024          140.0  2630000.0\n",
       "...        ...            ...        ...\n",
       "239934   37065          250.0  1500000.0\n",
       "239944   80077          162.0  1780000.0\n",
       "239964  273538          140.0  2350000.0\n",
       "239993  207892          150.0  1650000.0\n",
       "239994  110268           90.0  1350000.0\n",
       "\n",
       "[267 rows x 3 columns]"
      ]
     },
     "metadata": {},
     "output_type": "display_data"
    }
   ],
   "source": [
    "muestra = set_original.dropna() \n",
    "muestra = muestra[muestra[\"ciudad\"] == \"Zapopan\"]\n",
    "muestra = muestra[muestra[\"tipodepropiedad\"] == \"Casa\"]\n",
    "\n",
    "#armamos los dos casos\n",
    "cantidadparatrain = int(len(muestra) - len(muestra)/10)\n",
    "train = muestra.iloc[:cantidadparatrain, :]\n",
    "test = muestra.iloc[cantidadparatrain:, :]\n",
    "tipo = 'metrostotales'\n",
    "#guardamos las columnas que nos interesan para experimentar\n",
    "train = train[[\"id\", tipo, \"precio\"]].dropna()\n",
    "test = test[[\"id\", tipo, \"precio\"]].dropna()\n",
    "\n",
    "Xtrain, Xtest = train[tipo].values, test[tipo].values\n",
    "Ytrain, Ytest = train[\"precio\"].values, test[\"precio\"].values\n",
    "\n",
    "display(train[[\"id\", tipo, \"precio\"]])\n",
    "display(test[[\"id\", tipo, \"precio\"]])\n"
   ]
  },
  {
   "cell_type": "code",
   "execution_count": 180,
   "id": "924a14ce",
   "metadata": {
    "scrolled": true
   },
   "outputs": [
    {
     "data": {
      "text/plain": [
       "90.0     157\n",
       "140.0     89\n",
       "80.0      77\n",
       "200.0     71\n",
       "105.0     66\n",
       "        ... \n",
       "237.0      1\n",
       "271.0      1\n",
       "344.0      1\n",
       "317.0      1\n",
       "428.0      1\n",
       "Name: metrostotales, Length: 308, dtype: int64"
      ]
     },
     "execution_count": 180,
     "metadata": {},
     "output_type": "execute_result"
    }
   ],
   "source": [
    "muestra[\"metrostotales\"].value_counts()"
   ]
  },
  {
   "cell_type": "code",
   "execution_count": 181,
   "id": "6706f76d",
   "metadata": {},
   "outputs": [
    {
     "data": {
      "text/plain": [
       "<AxesSubplot:>"
      ]
     },
     "execution_count": 181,
     "metadata": {},
     "output_type": "execute_result"
    },
    {
     "data": {
      "image/png": "[encoded data removed]",
      "text/plain": [
       "<Figure size 432x288 with 1 Axes>"
      ]
     },
     "metadata": {
      "needs_background": "light"
     },
     "output_type": "display_data"
    }
   ],
   "source": [
    "muestra[\"metrostotales\"].hist()"
   ]
  },
  {
   "cell_type": "markdown",
   "id": "e8082fd6",
   "metadata": {},
   "source": [
    "### $\\underline{Caso 1 :}$ Sin quitar Outtliers"
   ]
  },
  {
   "cell_type": "markdown",
   "id": "8c0046d4",
   "metadata": {},
   "source": [
    "### preparamos los datos"
   ]
  },
  {
   "cell_type": "code",
   "execution_count": 182,
   "id": "6a55f0ac",
   "metadata": {},
   "outputs": [],
   "source": [
    "#Con Xtrain, e Ytrain entrenamos al algoritmo\n",
    "regresion = metnum.LinearRegression()\n",
    "regresion.fit(Xtrain, Ytrain)\n",
    "#Ahora predeciremos Ytest en pred, usando Xtest\n",
    "pred = regresion.predict(Xtest)\n",
    "pred = pred.reshape(pred.shape[0])"
   ]
  },
  {
   "cell_type": "code",
   "execution_count": 183,
   "id": "9a1bf9a7",
   "metadata": {
    "scrolled": true
   },
   "outputs": [
    {
     "data": {
      "image/png": "[encoded data removed]",
      "text/plain": [
       "<Figure size 432x288 with 1 Axes>"
      ]
     },
     "metadata": {
      "needs_background": "light"
     },
     "output_type": "display_data"
    }
   ],
   "source": [
    "graficoConLim(Xtest,Ytest,pred,\"Precio vs. Metros Totales (con outs.)\",\"Metros Totales($\\mathrm{m}^2$)\",\"Precio (MXN$)\",\"metros-precio-guada-simple\", 0, 450,0,1.2*10**7)"
   ]
  },
  {
   "cell_type": "code",
   "execution_count": 71,
   "id": "0cd8d378",
   "metadata": {
    "scrolled": true
   },
   "outputs": [
    {
     "name": "stdout",
     "output_type": "stream",
     "text": [
      "RMSE = 894860.0741076745\n",
      "RMSLE = 0.40315123348607773\n"
     ]
    }
   ],
   "source": [
    "metricas(Ytest,pred)"
   ]
  },
  {
   "cell_type": "markdown",
   "id": "ab5d848d",
   "metadata": {},
   "source": [
    "### con kfold"
   ]
  },
  {
   "cell_type": "code",
   "execution_count": 72,
   "id": "f7347433",
   "metadata": {
    "scrolled": false
   },
   "outputs": [
    {
     "name": "stdout",
     "output_type": "stream",
     "text": [
      "Corte 1, \n",
      "Corte 2, \n",
      "Corte 3, \n",
      "Corte 4, \n",
      "Corte 5, \n",
      "Corte 6, \n",
      "Corte 7, \n",
      "Corte 8, \n",
      "Corte 9, \n",
      "Corte 10, \n",
      "fin.\n"
     ]
    }
   ],
   "source": [
    "rms = CML_KFold(10, Xtrain, Ytrain)"
   ]
  },
  {
   "cell_type": "code",
   "execution_count": 73,
   "id": "25b59f09",
   "metadata": {
    "scrolled": true
   },
   "outputs": [
    {
     "name": "stdout",
     "output_type": "stream",
     "text": [
      "RMSE = (929740.6714603693, 131114.8786390534)\n",
      "RMSLE = (0.40457299904619354, 0.03181572598931187)\n"
     ]
    }
   ],
   "source": [
    "metricasProm(rms)"
   ]
  },
  {
   "cell_type": "markdown",
   "id": "2219209a",
   "metadata": {},
   "source": [
    "## $\\underline{Caso 2 :}$ Quitando Outtliers"
   ]
  },
  {
   "cell_type": "code",
   "execution_count": 74,
   "id": "2a2b9498",
   "metadata": {
    "scrolled": true
   },
   "outputs": [
    {
     "name": "stdout",
     "output_type": "stream",
     "text": [
      "Se han eliminado 113/2395 outliers. Ahora tienes 2282/2395.\n"
     ]
    },
    {
     "data": {
      "text/plain": [
       "2282"
      ]
     },
     "execution_count": 74,
     "metadata": {},
     "output_type": "execute_result"
    }
   ],
   "source": [
    "# Limpiamos los train\n",
    "Ytrain_pred = regresion.predict(Xtrain)\n",
    "Ytrain_pred = Ytrain_pred.reshape(Ytrain_pred.shape[0])\n",
    "\n",
    "trainCleaned = cleanOutliers(Xtrain,Ytrain,Ytrain_pred,m=2)\n",
    "len(trainCleaned[0])"
   ]
  },
  {
   "cell_type": "code",
   "execution_count": 75,
   "id": "7de09e88",
   "metadata": {
    "scrolled": true
   },
   "outputs": [
    {
     "name": "stdout",
     "output_type": "stream",
     "text": [
      "Se han eliminado 14/267 outliers. Ahora tienes 253/267.\n"
     ]
    },
    {
     "data": {
      "text/plain": [
       "253"
      ]
     },
     "execution_count": 75,
     "metadata": {},
     "output_type": "execute_result"
    }
   ],
   "source": [
    "# limpiamos los test\n",
    "testCleaned = cleanOutliers(Xtest,Ytest,pred,m=2)\n",
    "len(testCleaned[0])"
   ]
  },
  {
   "cell_type": "code",
   "execution_count": 76,
   "id": "3fed8701",
   "metadata": {},
   "outputs": [],
   "source": [
    "XtestClean = testCleaned[0]\n",
    "YtestClean = testCleaned[1]\n",
    "\n",
    "XtrainClean = trainCleaned[0]\n",
    "YtrainClean = trainCleaned[1]"
   ]
  },
  {
   "cell_type": "markdown",
   "id": "f75e6160",
   "metadata": {},
   "source": [
    "### sin kfold"
   ]
  },
  {
   "cell_type": "code",
   "execution_count": 77,
   "id": "dff2f2a7",
   "metadata": {},
   "outputs": [],
   "source": [
    "#Con XtrainClean, e YtrainClean entrenamos al algoritmo\n",
    "regresionClean = metnum.LinearRegression()\n",
    "regresionClean.fit(XtrainClean, YtrainClean)\n",
    "#Ahora predeciremos Ytest en pred, usando Xtest\n",
    "predClean = regresion.predict(XtestClean)\n",
    "predClean = predClean.reshape(predClean.shape[0])"
   ]
  },
  {
   "cell_type": "code",
   "execution_count": 78,
   "id": "b76ff85f",
   "metadata": {
    "scrolled": false
   },
   "outputs": [
    {
     "data": {
      "image/png": "[encoded data removed]",
      "text/plain": [
       "<Figure size 432x288 with 1 Axes>"
      ]
     },
     "metadata": {
      "needs_background": "light"
     },
     "output_type": "display_data"
    }
   ],
   "source": [
    "graficoConLim(XtestClean,YtestClean,predClean,\"Precio vs. Metros Totales (sin outs.)\",\"Metros Totales($\\mathrm{m}^2$)\",\"Precio (MXN$)\",\"metros-precio-guada-sinout\",0,450,0,7000000)"
   ]
  },
  {
   "cell_type": "code",
   "execution_count": 79,
   "id": "89439499",
   "metadata": {
    "scrolled": false
   },
   "outputs": [
    {
     "name": "stdout",
     "output_type": "stream",
     "text": [
      "RMSE = 660677.5877770792\n",
      "RMSLE = 0.37871007333024276\n"
     ]
    }
   ],
   "source": [
    "metricas(YtestClean,predClean)"
   ]
  },
  {
   "cell_type": "code",
   "execution_count": 80,
   "id": "9b0aab2a",
   "metadata": {
    "scrolled": false
   },
   "outputs": [
    {
     "name": "stdout",
     "output_type": "stream",
     "text": [
      "Corte 1, \n",
      "Corte 2, \n",
      "Corte 3, \n",
      "Corte 4, \n",
      "Corte 5, \n",
      "Corte 6, \n",
      "Corte 7, \n",
      "Corte 8, \n",
      "Corte 9, \n",
      "Corte 10, \n",
      "fin.\n"
     ]
    }
   ],
   "source": [
    "\n",
    "rmsCleaned = CML_KFold(10, XtrainClean, YtrainClean) "
   ]
  },
  {
   "cell_type": "code",
   "execution_count": 81,
   "id": "f6bfd43f",
   "metadata": {
    "scrolled": false
   },
   "outputs": [
    {
     "name": "stdout",
     "output_type": "stream",
     "text": [
      "RMSE = (677457.3468540313, 37456.2405461008)\n",
      "RMSLE = (0.366633015091652, 0.02761864808494033)\n"
     ]
    }
   ],
   "source": [
    "metricasProm(rmsCleaned)"
   ]
  },
  {
   "cell_type": "markdown",
   "id": "fe42f4e7",
   "metadata": {},
   "source": [
    "### Veremos agregando un feature"
   ]
  },
  {
   "cell_type": "markdown",
   "id": "4610c978",
   "metadata": {},
   "source": [
    "#### Agregaremos 'habitaciones' con la idea de mejorar nuestras predicciones"
   ]
  },
  {
   "cell_type": "code",
   "execution_count": 82,
   "id": "3bab3763",
   "metadata": {},
   "outputs": [
    {
     "data": {
      "text/plain": [
       "['id',\n",
       " 'titulo',\n",
       " 'descripcion',\n",
       " 'tipodepropiedad',\n",
       " 'direccion',\n",
       " 'ciudad',\n",
       " 'provincia',\n",
       " 'antiguedad',\n",
       " 'habitaciones',\n",
       " 'garages',\n",
       " 'banos',\n",
       " 'metroscubiertos',\n",
       " 'metrostotales',\n",
       " 'idzona',\n",
       " 'lat',\n",
       " 'lng',\n",
       " 'fecha',\n",
       " 'gimnasio',\n",
       " 'usosmultiples',\n",
       " 'piscina',\n",
       " 'escuelascercanas',\n",
       " 'centroscomercialescercanos',\n",
       " 'precio']"
      ]
     },
     "execution_count": 82,
     "metadata": {},
     "output_type": "execute_result"
    }
   ],
   "source": [
    "list(set_original.columns)"
   ]
  },
  {
   "cell_type": "code",
   "execution_count": 83,
   "id": "a52610cc",
   "metadata": {
    "scrolled": false
   },
   "outputs": [
    {
     "data": {
      "text/html": [
       "<div>\n",
       "<style scoped>\n",
       "    .dataframe tbody tr th:only-of-type {\n",
       "        vertical-align: middle;\n",
       "    }\n",
       "\n",
       "    .dataframe tbody tr th {\n",
       "        vertical-align: top;\n",
       "    }\n",
       "\n",
       "    .dataframe thead th {\n",
       "        text-align: right;\n",
       "    }\n",
       "</style>\n",
       "<table border=\"1\" class=\"dataframe\">\n",
       "  <thead>\n",
       "    <tr style=\"text-align: right;\">\n",
       "      <th></th>\n",
       "      <th>id</th>\n",
       "      <th>metrostotales-metroscubiertos</th>\n",
       "      <th>precio</th>\n",
       "    </tr>\n",
       "  </thead>\n",
       "  <tbody>\n",
       "    <tr>\n",
       "      <th>148011</th>\n",
       "      <td>296506</td>\n",
       "      <td>560.0</td>\n",
       "      <td>1840000.0</td>\n",
       "    </tr>\n",
       "    <tr>\n",
       "      <th>25660</th>\n",
       "      <td>69388</td>\n",
       "      <td>230.0</td>\n",
       "      <td>1160000.0</td>\n",
       "    </tr>\n",
       "    <tr>\n",
       "      <th>95040</th>\n",
       "      <td>234020</td>\n",
       "      <td>420.0</td>\n",
       "      <td>2950000.0</td>\n",
       "    </tr>\n",
       "    <tr>\n",
       "      <th>57204</th>\n",
       "      <td>51972</td>\n",
       "      <td>247.0</td>\n",
       "      <td>1450000.0</td>\n",
       "    </tr>\n",
       "    <tr>\n",
       "      <th>28659</th>\n",
       "      <td>107877</td>\n",
       "      <td>199.0</td>\n",
       "      <td>1200000.0</td>\n",
       "    </tr>\n",
       "    <tr>\n",
       "      <th>...</th>\n",
       "      <td>...</td>\n",
       "      <td>...</td>\n",
       "      <td>...</td>\n",
       "    </tr>\n",
       "    <tr>\n",
       "      <th>237882</th>\n",
       "      <td>39071</td>\n",
       "      <td>800.0</td>\n",
       "      <td>4200000.0</td>\n",
       "    </tr>\n",
       "    <tr>\n",
       "      <th>150986</th>\n",
       "      <td>153452</td>\n",
       "      <td>395.0</td>\n",
       "      <td>3950000.0</td>\n",
       "    </tr>\n",
       "    <tr>\n",
       "      <th>237596</th>\n",
       "      <td>143891</td>\n",
       "      <td>525.0</td>\n",
       "      <td>3800000.0</td>\n",
       "    </tr>\n",
       "    <tr>\n",
       "      <th>53070</th>\n",
       "      <td>208562</td>\n",
       "      <td>318.0</td>\n",
       "      <td>3210000.0</td>\n",
       "    </tr>\n",
       "    <tr>\n",
       "      <th>35349</th>\n",
       "      <td>36867</td>\n",
       "      <td>331.0</td>\n",
       "      <td>2800000.0</td>\n",
       "    </tr>\n",
       "  </tbody>\n",
       "</table>\n",
       "<p>5531 rows × 3 columns</p>\n",
       "</div>"
      ],
      "text/plain": [
       "            id  metrostotales-metroscubiertos     precio\n",
       "148011  296506                          560.0  1840000.0\n",
       "25660    69388                          230.0  1160000.0\n",
       "95040   234020                          420.0  2950000.0\n",
       "57204    51972                          247.0  1450000.0\n",
       "28659   107877                          199.0  1200000.0\n",
       "...        ...                            ...        ...\n",
       "237882   39071                          800.0  4200000.0\n",
       "150986  153452                          395.0  3950000.0\n",
       "237596  143891                          525.0  3800000.0\n",
       "53070   208562                          318.0  3210000.0\n",
       "35349    36867                          331.0  2800000.0\n",
       "\n",
       "[5531 rows x 3 columns]"
      ]
     },
     "metadata": {},
     "output_type": "display_data"
    },
    {
     "data": {
      "text/html": [
       "<div>\n",
       "<style scoped>\n",
       "    .dataframe tbody tr th:only-of-type {\n",
       "        vertical-align: middle;\n",
       "    }\n",
       "\n",
       "    .dataframe tbody tr th {\n",
       "        vertical-align: top;\n",
       "    }\n",
       "\n",
       "    .dataframe thead th {\n",
       "        text-align: right;\n",
       "    }\n",
       "</style>\n",
       "<table border=\"1\" class=\"dataframe\">\n",
       "  <thead>\n",
       "    <tr style=\"text-align: right;\">\n",
       "      <th></th>\n",
       "      <th>id</th>\n",
       "      <th>metrostotales-metroscubiertos</th>\n",
       "      <th>precio</th>\n",
       "    </tr>\n",
       "  </thead>\n",
       "  <tbody>\n",
       "    <tr>\n",
       "      <th>36444</th>\n",
       "      <td>186135</td>\n",
       "      <td>172.0</td>\n",
       "      <td>830000.0</td>\n",
       "    </tr>\n",
       "    <tr>\n",
       "      <th>186964</th>\n",
       "      <td>257370</td>\n",
       "      <td>141.0</td>\n",
       "      <td>460000.0</td>\n",
       "    </tr>\n",
       "    <tr>\n",
       "      <th>437</th>\n",
       "      <td>38212</td>\n",
       "      <td>335.0</td>\n",
       "      <td>2860000.0</td>\n",
       "    </tr>\n",
       "    <tr>\n",
       "      <th>100062</th>\n",
       "      <td>268151</td>\n",
       "      <td>290.0</td>\n",
       "      <td>1680000.0</td>\n",
       "    </tr>\n",
       "    <tr>\n",
       "      <th>37986</th>\n",
       "      <td>245450</td>\n",
       "      <td>195.0</td>\n",
       "      <td>985000.0</td>\n",
       "    </tr>\n",
       "    <tr>\n",
       "      <th>...</th>\n",
       "      <td>...</td>\n",
       "      <td>...</td>\n",
       "      <td>...</td>\n",
       "    </tr>\n",
       "    <tr>\n",
       "      <th>35604</th>\n",
       "      <td>202711</td>\n",
       "      <td>167.0</td>\n",
       "      <td>1150000.0</td>\n",
       "    </tr>\n",
       "    <tr>\n",
       "      <th>203197</th>\n",
       "      <td>120241</td>\n",
       "      <td>120.0</td>\n",
       "      <td>525000.0</td>\n",
       "    </tr>\n",
       "    <tr>\n",
       "      <th>155100</th>\n",
       "      <td>8513</td>\n",
       "      <td>669.0</td>\n",
       "      <td>3900000.0</td>\n",
       "    </tr>\n",
       "    <tr>\n",
       "      <th>8493</th>\n",
       "      <td>180405</td>\n",
       "      <td>646.0</td>\n",
       "      <td>5950000.0</td>\n",
       "    </tr>\n",
       "    <tr>\n",
       "      <th>201936</th>\n",
       "      <td>66115</td>\n",
       "      <td>170.0</td>\n",
       "      <td>590000.0</td>\n",
       "    </tr>\n",
       "  </tbody>\n",
       "</table>\n",
       "<p>615 rows × 3 columns</p>\n",
       "</div>"
      ],
      "text/plain": [
       "            id  metrostotales-metroscubiertos     precio\n",
       "36444   186135                          172.0   830000.0\n",
       "186964  257370                          141.0   460000.0\n",
       "437      38212                          335.0  2860000.0\n",
       "100062  268151                          290.0  1680000.0\n",
       "37986   245450                          195.0   985000.0\n",
       "...        ...                            ...        ...\n",
       "35604   202711                          167.0  1150000.0\n",
       "203197  120241                          120.0   525000.0\n",
       "155100    8513                          669.0  3900000.0\n",
       "8493    180405                          646.0  5950000.0\n",
       "201936   66115                          170.0   590000.0\n",
       "\n",
       "[615 rows x 3 columns]"
      ]
     },
     "metadata": {},
     "output_type": "display_data"
    }
   ],
   "source": [
    "muestra = set_original\n",
    "muestra = muestra[muestra[\"ciudad\"] == \"Zapopan\"]\n",
    "\n",
    "muestra = muestra[muestra[\"tipodepropiedad\"] == \"Casa\"]\n",
    "#armamos los dos casos\n",
    "\n",
    "\n",
    "tipo1 = 'metrostotales'\n",
    "tipo2 = 'metroscubiertos'\n",
    "\n",
    "\n",
    "#armamos nuevo data frame\n",
    "nuevaMuestra = pd.DataFrame()\n",
    "#armamos los dos casos\n",
    "\n",
    "nuevaMuestra[\"id\"] = muestra[\"id\"]\n",
    "nuevaMuestra[tipo1+\"-\"+tipo2] = (muestra[tipo1]) + muestra[tipo2] \n",
    "nuevaMuestra[\"precio\"] = muestra[\"precio\"]\n",
    "             \n",
    "muestra = nuevaMuestra.dropna()\n",
    "cantidadparatrain = int(len(muestra)- len(muestra)/10)\n",
    "from sklearn.utils import shuffle\n",
    "muestra = shuffle(muestra, random_state=1)\n",
    "train = muestra.iloc[:cantidadparatrain, :]\n",
    "test = muestra.iloc[cantidadparatrain:, :]\n",
    "\n",
    "\n",
    "#guardamos las columnas que nos interesan para experimentar\n",
    "train = train[[\"id\",tipo1+\"-\"+tipo2, \"precio\"]]\n",
    "test = test[[\"id\", tipo1+\"-\"+tipo2, \"precio\"]]\n",
    "\n",
    "\n",
    "             \n",
    "\n",
    "Xtrain, Xtest = train[tipo1+\"-\"+tipo2].values, test[tipo1+\"-\"+tipo2].values\n",
    "Ytrain, Ytest = train[\"precio\"].values, test[\"precio\"].values\n",
    "\n",
    "display(train[[\"id\", tipo1+\"-\"+tipo2, \"precio\"]])\n",
    "display(test[[\"id\", tipo1+\"-\"+tipo2, \"precio\"]])\n"
   ]
  },
  {
   "cell_type": "code",
   "execution_count": 84,
   "id": "977fa6a5",
   "metadata": {
    "scrolled": false
   },
   "outputs": [
    {
     "data": {
      "text/plain": [
       "170.0    61\n",
       "180.0    59\n",
       "210.0    49\n",
       "200.0    46\n",
       "230.0    44\n",
       "         ..\n",
       "78.0      1\n",
       "659.0     1\n",
       "546.0     1\n",
       "629.0     1\n",
       "54.0      1\n",
       "Name: metrostotales-metroscubiertos, Length: 702, dtype: int64"
      ]
     },
     "execution_count": 84,
     "metadata": {},
     "output_type": "execute_result"
    }
   ],
   "source": [
    "muestra[tipo1+\"-\"+tipo2].value_counts()"
   ]
  },
  {
   "cell_type": "code",
   "execution_count": 85,
   "id": "a24e8c9b",
   "metadata": {
    "scrolled": false
   },
   "outputs": [
    {
     "data": {
      "text/plain": [
       "<AxesSubplot:>"
      ]
     },
     "execution_count": 85,
     "metadata": {},
     "output_type": "execute_result"
    },
    {
     "data": {
      "image/png": "[encoded data removed]",
      "text/plain": [
       "<Figure size 432x288 with 1 Axes>"
      ]
     },
     "metadata": {
      "needs_background": "light"
     },
     "output_type": "display_data"
    }
   ],
   "source": [
    "muestra[tipo1+\"-\"+tipo2].hist()"
   ]
  },
  {
   "cell_type": "markdown",
   "id": "59d06a5f",
   "metadata": {},
   "source": [
    "### preparamos los datos"
   ]
  },
  {
   "cell_type": "markdown",
   "id": "fc47d916",
   "metadata": {},
   "source": [
    "### $\\underline{Caso 1 :}$ Sin quitar Outtliers"
   ]
  },
  {
   "cell_type": "code",
   "execution_count": 86,
   "id": "2698e225",
   "metadata": {},
   "outputs": [],
   "source": [
    "#Con Xtrain, e Ytrain entrenamos al algoritmo\n",
    "regresion = metnum.LinearRegression()\n",
    "regresion.fit(Xtrain, Ytrain)\n",
    "#Ahora predeciremos Ytest en pred, usando Xtest\n",
    "pred = regresion.predict(Xtest)\n",
    "pred = pred.reshape(pred.shape[0])"
   ]
  },
  {
   "cell_type": "code",
   "execution_count": 87,
   "id": "43b0ffc7",
   "metadata": {
    "scrolled": true
   },
   "outputs": [
    {
     "data": {
      "image/png": "[encoded data removed]",
      "text/plain": [
       "<Figure size 432x288 with 1 Axes>"
      ]
     },
     "metadata": {
      "needs_background": "light"
     },
     "output_type": "display_data"
    }
   ],
   "source": [
    "grafico(Xtest,Ytest,pred,\"Precio vs. Metros Totales + Metros Cubiertos (con outs.)\",\"Metros Totales+ Metros Cubiertos($\\mathrm{m}^2$)\",\"Precio (MXN$)\",\"metros-cub-precio-conout-guada\")"
   ]
  },
  {
   "cell_type": "code",
   "execution_count": 88,
   "id": "76800188",
   "metadata": {
    "scrolled": true
   },
   "outputs": [
    {
     "name": "stdout",
     "output_type": "stream",
     "text": [
      "RMSE = 897162.8048825095\n",
      "RMSLE = 0.31606783843136527\n"
     ]
    }
   ],
   "source": [
    "metricas(Ytest,pred)"
   ]
  },
  {
   "cell_type": "markdown",
   "id": "c75e748c",
   "metadata": {},
   "source": [
    "### con kfold"
   ]
  },
  {
   "cell_type": "code",
   "execution_count": 89,
   "id": "2ee87cb8",
   "metadata": {
    "scrolled": false
   },
   "outputs": [
    {
     "name": "stdout",
     "output_type": "stream",
     "text": [
      "Corte 1, \n",
      "Corte 2, \n",
      "Corte 3, \n",
      "Corte 4, \n",
      "Corte 5, \n",
      "Corte 6, \n",
      "Corte 7, \n",
      "Corte 8, \n",
      "Corte 9, \n",
      "Corte 10, \n",
      "fin.\n"
     ]
    }
   ],
   "source": [
    "rms = CML_KFold(10, Xtrain, Ytrain)"
   ]
  },
  {
   "cell_type": "code",
   "execution_count": 90,
   "id": "0e21be88",
   "metadata": {
    "scrolled": true
   },
   "outputs": [
    {
     "name": "stdout",
     "output_type": "stream",
     "text": [
      "RMSE = (919901.3763835784, 66548.67812610466)\n",
      "RMSLE = (0.3375413200232788, 0.013639317700282117)\n"
     ]
    }
   ],
   "source": [
    "metricasProm(rms)"
   ]
  },
  {
   "cell_type": "markdown",
   "id": "da796184",
   "metadata": {},
   "source": [
    "## $\\underline{Caso 2 :}$ Quitando Outtliers"
   ]
  },
  {
   "cell_type": "code",
   "execution_count": 91,
   "id": "d8ba0f7b",
   "metadata": {
    "scrolled": true
   },
   "outputs": [
    {
     "name": "stdout",
     "output_type": "stream",
     "text": [
      "Se han eliminado 290/5531 outliers. Ahora tienes 5241/5531.\n"
     ]
    },
    {
     "data": {
      "text/plain": [
       "5241"
      ]
     },
     "execution_count": 91,
     "metadata": {},
     "output_type": "execute_result"
    }
   ],
   "source": [
    "# Limpiamos los train\n",
    "Ytrain_pred = regresion.predict(Xtrain)\n",
    "Ytrain_pred = Ytrain_pred.reshape(Ytrain_pred.shape[0])\n",
    "\n",
    "trainCleaned = cleanOutliers(Xtrain,Ytrain,Ytrain_pred,m=2)\n",
    "len(trainCleaned[0])"
   ]
  },
  {
   "cell_type": "code",
   "execution_count": 92,
   "id": "6d2d698b",
   "metadata": {},
   "outputs": [
    {
     "name": "stdout",
     "output_type": "stream",
     "text": [
      "Se han eliminado 23/615 outliers. Ahora tienes 592/615.\n"
     ]
    },
    {
     "data": {
      "text/plain": [
       "592"
      ]
     },
     "execution_count": 92,
     "metadata": {},
     "output_type": "execute_result"
    }
   ],
   "source": [
    "# limpiamos los test\n",
    "testCleaned = cleanOutliers(Xtest,Ytest,pred,m=2)\n",
    "len(testCleaned[0])"
   ]
  },
  {
   "cell_type": "code",
   "execution_count": 93,
   "id": "6a554426",
   "metadata": {},
   "outputs": [],
   "source": [
    "XtestClean = testCleaned[0]\n",
    "YtestClean = testCleaned[1]\n",
    "\n",
    "XtrainClean = trainCleaned[0]\n",
    "YtrainClean = trainCleaned[1]"
   ]
  },
  {
   "cell_type": "code",
   "execution_count": 94,
   "id": "a4692316",
   "metadata": {},
   "outputs": [],
   "source": [
    "#Con XtrainClean, e YtrainClean entrenamos al algoritmo\n",
    "regresionClean = metnum.LinearRegression()\n",
    "regresionClean.fit(XtrainClean, YtrainClean)\n",
    "#Ahora predeciremos Ytest en pred, usando Xtest\n",
    "predClean = regresion.predict(XtestClean)\n",
    "predClean = predClean.reshape(predClean.shape[0])"
   ]
  },
  {
   "cell_type": "code",
   "execution_count": 95,
   "id": "a3c41c18",
   "metadata": {
    "scrolled": false
   },
   "outputs": [
    {
     "data": {
      "image/png": "[encoded data removed]",
      "text/plain": [
       "<Figure size 432x288 with 1 Axes>"
      ]
     },
     "metadata": {
      "needs_background": "light"
     },
     "output_type": "display_data"
    }
   ],
   "source": [
    "grafico(XtestClean,YtestClean,predClean,\"Precio vs. Metros Totales + Metros Cubiertos (sin outs.)\",\"Metros Totales + Metros Totales + Metros Cubiertos($\\mathrm{m}^2$)\",\"Precio (MXN$)\",\"metros-cub-precio-sinout-guada\")"
   ]
  },
  {
   "cell_type": "code",
   "execution_count": 96,
   "id": "dc20dfda",
   "metadata": {
    "scrolled": true
   },
   "outputs": [
    {
     "name": "stdout",
     "output_type": "stream",
     "text": [
      "RMSE = 666962.5856991066\n",
      "RMSLE = 0.2961965029820637\n"
     ]
    }
   ],
   "source": [
    "metricas(YtestClean,predClean)"
   ]
  },
  {
   "cell_type": "markdown",
   "id": "737c335b",
   "metadata": {},
   "source": [
    "### con Kfold"
   ]
  },
  {
   "cell_type": "code",
   "execution_count": 97,
   "id": "a4f87015",
   "metadata": {
    "scrolled": true
   },
   "outputs": [
    {
     "name": "stdout",
     "output_type": "stream",
     "text": [
      "Corte 1, \n",
      "Corte 2, \n",
      "Corte 3, \n",
      "Corte 4, \n",
      "Corte 5, \n",
      "Corte 6, \n",
      "Corte 7, \n",
      "Corte 8, \n",
      "Corte 9, \n",
      "Corte 10, \n",
      "fin.\n"
     ]
    }
   ],
   "source": [
    "\n",
    "rmsCleaned = CML_KFold(10, XtrainClean, YtrainClean) "
   ]
  },
  {
   "cell_type": "code",
   "execution_count": 98,
   "id": "d130a489",
   "metadata": {
    "scrolled": false
   },
   "outputs": [
    {
     "name": "stdout",
     "output_type": "stream",
     "text": [
      "RMSE = (659505.026088392, 16308.910310895924)\n",
      "RMSLE = (0.3022595873006662, 0.011665661426888654)\n"
     ]
    }
   ],
   "source": [
    "metricasProm(rmsCleaned)"
   ]
  },
  {
   "cell_type": "markdown",
   "id": "3fe7a25c",
   "metadata": {},
   "source": [
    "# Experimento con palabras\n"
   ]
  },
  {
   "cell_type": "code",
   "execution_count": 99,
   "id": "642064cf",
   "metadata": {},
   "outputs": [],
   "source": [
    "palabras_positivas = [\"confort\",\"terraza\",\"mercado\",\"tienda\",\"tiendas\",\"lujo\",\"playa\",\"lujoso\",\"premium\",\"verano\",\"buen\",\"hospital\",\"paisaje\",\"seguro\",\"seguridad\",\"vista\",\"excelente\",\"hospitales\",\"impecable\", \"grande\" ,\"plaza\", \"luminoso\", \"espaciado\" ,  \"espacioso\" , \"bonito\" , \"tranquilidad\" , \"preciosa\" , \"precioso\" ]\n",
    "#\n"
   ]
  },
  {
   "cell_type": "code",
   "execution_count": 100,
   "id": "402fb658",
   "metadata": {},
   "outputs": [],
   "source": [
    "def contadorPalabras(X):\n",
    "    dict = {}\n",
    "    columna_palabras = np.array([])\n",
    "    X = X.dropna()\n",
    "    for descripcion in (X[\"descripcion\"]):\n",
    "        cantidad = 0;\n",
    "        for palabra in palabras_positivas:\n",
    "            if(palabra in descripcion.lower()):\n",
    "                if not palabra in dict.keys():\n",
    "                    dict[palabra] = 0\n",
    "                dict[palabra] = dict[palabra] +1\n",
    "                cantidad += 1      \n",
    "        columna_palabras = np.append(columna_palabras,cantidad)\n",
    "    return columna_palabras, dict\n"
   ]
  },
  {
   "cell_type": "code",
   "execution_count": null,
   "id": "59d5bde1",
   "metadata": {},
   "outputs": [],
   "source": []
  },
  {
   "cell_type": "code",
   "execution_count": 101,
   "id": "f4f0fe0d",
   "metadata": {},
   "outputs": [
    {
     "data": {
      "text/html": [
       "<div>\n",
       "<style scoped>\n",
       "    .dataframe tbody tr th:only-of-type {\n",
       "        vertical-align: middle;\n",
       "    }\n",
       "\n",
       "    .dataframe tbody tr th {\n",
       "        vertical-align: top;\n",
       "    }\n",
       "\n",
       "    .dataframe thead th {\n",
       "        text-align: right;\n",
       "    }\n",
       "</style>\n",
       "<table border=\"1\" class=\"dataframe\">\n",
       "  <thead>\n",
       "    <tr style=\"text-align: right;\">\n",
       "      <th></th>\n",
       "      <th>id</th>\n",
       "      <th>positivas</th>\n",
       "      <th>precio</th>\n",
       "    </tr>\n",
       "  </thead>\n",
       "  <tbody>\n",
       "    <tr>\n",
       "      <th>31</th>\n",
       "      <td>118889</td>\n",
       "      <td>0.0</td>\n",
       "      <td>1450000.0</td>\n",
       "    </tr>\n",
       "    <tr>\n",
       "      <th>204</th>\n",
       "      <td>4609</td>\n",
       "      <td>0.0</td>\n",
       "      <td>340000.0</td>\n",
       "    </tr>\n",
       "    <tr>\n",
       "      <th>215</th>\n",
       "      <td>62730</td>\n",
       "      <td>2.0</td>\n",
       "      <td>550000.0</td>\n",
       "    </tr>\n",
       "    <tr>\n",
       "      <th>563</th>\n",
       "      <td>130927</td>\n",
       "      <td>0.0</td>\n",
       "      <td>1095000.0</td>\n",
       "    </tr>\n",
       "    <tr>\n",
       "      <th>919</th>\n",
       "      <td>171647</td>\n",
       "      <td>1.0</td>\n",
       "      <td>2100000.0</td>\n",
       "    </tr>\n",
       "    <tr>\n",
       "      <th>...</th>\n",
       "      <td>...</td>\n",
       "      <td>...</td>\n",
       "      <td>...</td>\n",
       "    </tr>\n",
       "    <tr>\n",
       "      <th>209783</th>\n",
       "      <td>188719</td>\n",
       "      <td>1.0</td>\n",
       "      <td>1850000.0</td>\n",
       "    </tr>\n",
       "    <tr>\n",
       "      <th>209998</th>\n",
       "      <td>229819</td>\n",
       "      <td>2.0</td>\n",
       "      <td>3500000.0</td>\n",
       "    </tr>\n",
       "    <tr>\n",
       "      <th>210087</th>\n",
       "      <td>14795</td>\n",
       "      <td>0.0</td>\n",
       "      <td>1190000.0</td>\n",
       "    </tr>\n",
       "    <tr>\n",
       "      <th>210487</th>\n",
       "      <td>242863</td>\n",
       "      <td>0.0</td>\n",
       "      <td>2150000.0</td>\n",
       "    </tr>\n",
       "    <tr>\n",
       "      <th>210592</th>\n",
       "      <td>271462</td>\n",
       "      <td>1.0</td>\n",
       "      <td>1109200.0</td>\n",
       "    </tr>\n",
       "  </tbody>\n",
       "</table>\n",
       "<p>1067 rows × 3 columns</p>\n",
       "</div>"
      ],
      "text/plain": [
       "            id  positivas     precio\n",
       "31      118889        0.0  1450000.0\n",
       "204       4609        0.0   340000.0\n",
       "215      62730        2.0   550000.0\n",
       "563     130927        0.0  1095000.0\n",
       "919     171647        1.0  2100000.0\n",
       "...        ...        ...        ...\n",
       "209783  188719        1.0  1850000.0\n",
       "209998  229819        2.0  3500000.0\n",
       "210087   14795        0.0  1190000.0\n",
       "210487  242863        0.0  2150000.0\n",
       "210592  271462        1.0  1109200.0\n",
       "\n",
       "[1067 rows x 3 columns]"
      ]
     },
     "metadata": {},
     "output_type": "display_data"
    },
    {
     "data": {
      "text/html": [
       "<div>\n",
       "<style scoped>\n",
       "    .dataframe tbody tr th:only-of-type {\n",
       "        vertical-align: middle;\n",
       "    }\n",
       "\n",
       "    .dataframe tbody tr th {\n",
       "        vertical-align: top;\n",
       "    }\n",
       "\n",
       "    .dataframe thead th {\n",
       "        text-align: right;\n",
       "    }\n",
       "</style>\n",
       "<table border=\"1\" class=\"dataframe\">\n",
       "  <thead>\n",
       "    <tr style=\"text-align: right;\">\n",
       "      <th></th>\n",
       "      <th>id</th>\n",
       "      <th>positivas</th>\n",
       "      <th>precio</th>\n",
       "    </tr>\n",
       "  </thead>\n",
       "  <tbody>\n",
       "    <tr>\n",
       "      <th>210892</th>\n",
       "      <td>151233</td>\n",
       "      <td>3.0</td>\n",
       "      <td>1700000.0</td>\n",
       "    </tr>\n",
       "    <tr>\n",
       "      <th>211244</th>\n",
       "      <td>240899</td>\n",
       "      <td>2.0</td>\n",
       "      <td>3200000.0</td>\n",
       "    </tr>\n",
       "    <tr>\n",
       "      <th>211425</th>\n",
       "      <td>255976</td>\n",
       "      <td>1.0</td>\n",
       "      <td>2258739.0</td>\n",
       "    </tr>\n",
       "    <tr>\n",
       "      <th>212316</th>\n",
       "      <td>107644</td>\n",
       "      <td>1.0</td>\n",
       "      <td>1730000.0</td>\n",
       "    </tr>\n",
       "    <tr>\n",
       "      <th>212537</th>\n",
       "      <td>50727</td>\n",
       "      <td>1.0</td>\n",
       "      <td>2300000.0</td>\n",
       "    </tr>\n",
       "    <tr>\n",
       "      <th>...</th>\n",
       "      <td>...</td>\n",
       "      <td>...</td>\n",
       "      <td>...</td>\n",
       "    </tr>\n",
       "    <tr>\n",
       "      <th>237799</th>\n",
       "      <td>117235</td>\n",
       "      <td>1.0</td>\n",
       "      <td>1250000.0</td>\n",
       "    </tr>\n",
       "    <tr>\n",
       "      <th>237873</th>\n",
       "      <td>89489</td>\n",
       "      <td>0.0</td>\n",
       "      <td>1600000.0</td>\n",
       "    </tr>\n",
       "    <tr>\n",
       "      <th>238443</th>\n",
       "      <td>196200</td>\n",
       "      <td>0.0</td>\n",
       "      <td>1000000.0</td>\n",
       "    </tr>\n",
       "    <tr>\n",
       "      <th>238752</th>\n",
       "      <td>221165</td>\n",
       "      <td>2.0</td>\n",
       "      <td>1650000.0</td>\n",
       "    </tr>\n",
       "    <tr>\n",
       "      <th>239355</th>\n",
       "      <td>38765</td>\n",
       "      <td>1.0</td>\n",
       "      <td>378300.0</td>\n",
       "    </tr>\n",
       "  </tbody>\n",
       "</table>\n",
       "<p>119 rows × 3 columns</p>\n",
       "</div>"
      ],
      "text/plain": [
       "            id  positivas     precio\n",
       "210892  151233        3.0  1700000.0\n",
       "211244  240899        2.0  3200000.0\n",
       "211425  255976        1.0  2258739.0\n",
       "212316  107644        1.0  1730000.0\n",
       "212537   50727        1.0  2300000.0\n",
       "...        ...        ...        ...\n",
       "237799  117235        1.0  1250000.0\n",
       "237873   89489        0.0  1600000.0\n",
       "238443  196200        0.0  1000000.0\n",
       "238752  221165        2.0  1650000.0\n",
       "239355   38765        1.0   378300.0\n",
       "\n",
       "[119 rows x 3 columns]"
      ]
     },
     "metadata": {},
     "output_type": "display_data"
    }
   ],
   "source": [
    "muestra = set_original.dropna()\n",
    "\n",
    "\n",
    "muestra = muestra[muestra[\"ciudad\"] == \"Puebla\"]\n",
    "columna_palabras, palabras = contadorPalabras(muestra)\n",
    "nuevaMuestra = pd.DataFrame()\n",
    "#armamos los dos casos\n",
    "nuevaMuestra[\"id\"] = muestra[\"id\"]\n",
    "nuevaMuestra[\"positivas\"] = columna_palabras\n",
    "nuevaMuestra[\"precio\"] = muestra[\"precio\"]\n",
    "             \n",
    "muestra = nuevaMuestra\n",
    "cantidadparatrain = int(len(muestra) - len(muestra)/10)\n",
    "train = muestra.iloc[:cantidadparatrain, :]\n",
    "test = muestra.iloc[cantidadparatrain:, :]\n",
    "\n",
    "#guardamos las columnas que nos interesan para experimentar\n",
    "tipo = 'positivas'\n",
    "Xtrain, Xtest = train[tipo].values, test[tipo].values\n",
    "Ytrain, Ytest = train[\"precio\"].values, test[\"precio\"].values\n",
    "\n",
    "display(train[[\"id\", tipo, \"precio\"]])\n",
    "display(test[[\"id\", tipo, \"precio\"]])"
   ]
  },
  {
   "cell_type": "code",
   "execution_count": 102,
   "id": "8fded463",
   "metadata": {
    "scrolled": true
   },
   "outputs": [
    {
     "name": "stdout",
     "output_type": "stream",
     "text": [
      "{'buen': 101, 'excelente': 275, 'terraza': 124, 'plaza': 109, 'tienda': 43, 'tiendas': 41, 'seguridad': 43, 'vista': 76, 'hospital': 17, 'lujo': 42, 'seguro': 9, 'grande': 53, 'bonito': 32, 'mercado': 31, 'preciosa': 40, 'tranquilidad': 6, 'impecable': 9, 'precioso': 7, 'paisaje': 1, 'lujoso': 4, 'hospitales': 11, 'espacioso': 2, 'confort': 3}\n"
     ]
    },
    {
     "data": {
      "text/html": [
       "<div>\n",
       "<style scoped>\n",
       "    .dataframe tbody tr th:only-of-type {\n",
       "        vertical-align: middle;\n",
       "    }\n",
       "\n",
       "    .dataframe tbody tr th {\n",
       "        vertical-align: top;\n",
       "    }\n",
       "\n",
       "    .dataframe thead th {\n",
       "        text-align: right;\n",
       "    }\n",
       "</style>\n",
       "<table border=\"1\" class=\"dataframe\">\n",
       "  <thead>\n",
       "    <tr style=\"text-align: right;\">\n",
       "      <th></th>\n",
       "      <th>palabras</th>\n",
       "      <th>apariciones</th>\n",
       "    </tr>\n",
       "  </thead>\n",
       "  <tbody>\n",
       "    <tr>\n",
       "      <th>1</th>\n",
       "      <td>excelente</td>\n",
       "      <td>275</td>\n",
       "    </tr>\n",
       "    <tr>\n",
       "      <th>2</th>\n",
       "      <td>terraza</td>\n",
       "      <td>124</td>\n",
       "    </tr>\n",
       "    <tr>\n",
       "      <th>3</th>\n",
       "      <td>plaza</td>\n",
       "      <td>109</td>\n",
       "    </tr>\n",
       "    <tr>\n",
       "      <th>0</th>\n",
       "      <td>buen</td>\n",
       "      <td>101</td>\n",
       "    </tr>\n",
       "    <tr>\n",
       "      <th>7</th>\n",
       "      <td>vista</td>\n",
       "      <td>76</td>\n",
       "    </tr>\n",
       "    <tr>\n",
       "      <th>11</th>\n",
       "      <td>grande</td>\n",
       "      <td>53</td>\n",
       "    </tr>\n",
       "    <tr>\n",
       "      <th>6</th>\n",
       "      <td>seguridad</td>\n",
       "      <td>43</td>\n",
       "    </tr>\n",
       "    <tr>\n",
       "      <th>4</th>\n",
       "      <td>tienda</td>\n",
       "      <td>43</td>\n",
       "    </tr>\n",
       "    <tr>\n",
       "      <th>9</th>\n",
       "      <td>lujo</td>\n",
       "      <td>42</td>\n",
       "    </tr>\n",
       "    <tr>\n",
       "      <th>5</th>\n",
       "      <td>tiendas</td>\n",
       "      <td>41</td>\n",
       "    </tr>\n",
       "    <tr>\n",
       "      <th>14</th>\n",
       "      <td>preciosa</td>\n",
       "      <td>40</td>\n",
       "    </tr>\n",
       "    <tr>\n",
       "      <th>12</th>\n",
       "      <td>bonito</td>\n",
       "      <td>32</td>\n",
       "    </tr>\n",
       "    <tr>\n",
       "      <th>13</th>\n",
       "      <td>mercado</td>\n",
       "      <td>31</td>\n",
       "    </tr>\n",
       "    <tr>\n",
       "      <th>8</th>\n",
       "      <td>hospital</td>\n",
       "      <td>17</td>\n",
       "    </tr>\n",
       "    <tr>\n",
       "      <th>20</th>\n",
       "      <td>hospitales</td>\n",
       "      <td>11</td>\n",
       "    </tr>\n",
       "    <tr>\n",
       "      <th>10</th>\n",
       "      <td>seguro</td>\n",
       "      <td>9</td>\n",
       "    </tr>\n",
       "    <tr>\n",
       "      <th>16</th>\n",
       "      <td>impecable</td>\n",
       "      <td>9</td>\n",
       "    </tr>\n",
       "    <tr>\n",
       "      <th>17</th>\n",
       "      <td>precioso</td>\n",
       "      <td>7</td>\n",
       "    </tr>\n",
       "    <tr>\n",
       "      <th>15</th>\n",
       "      <td>tranquilidad</td>\n",
       "      <td>6</td>\n",
       "    </tr>\n",
       "    <tr>\n",
       "      <th>19</th>\n",
       "      <td>lujoso</td>\n",
       "      <td>4</td>\n",
       "    </tr>\n",
       "    <tr>\n",
       "      <th>22</th>\n",
       "      <td>confort</td>\n",
       "      <td>3</td>\n",
       "    </tr>\n",
       "    <tr>\n",
       "      <th>21</th>\n",
       "      <td>espacioso</td>\n",
       "      <td>2</td>\n",
       "    </tr>\n",
       "    <tr>\n",
       "      <th>18</th>\n",
       "      <td>paisaje</td>\n",
       "      <td>1</td>\n",
       "    </tr>\n",
       "  </tbody>\n",
       "</table>\n",
       "</div>"
      ],
      "text/plain": [
       "        palabras  apariciones\n",
       "1      excelente          275\n",
       "2        terraza          124\n",
       "3          plaza          109\n",
       "0           buen          101\n",
       "7          vista           76\n",
       "11        grande           53\n",
       "6      seguridad           43\n",
       "4         tienda           43\n",
       "9           lujo           42\n",
       "5        tiendas           41\n",
       "14      preciosa           40\n",
       "12        bonito           32\n",
       "13       mercado           31\n",
       "8       hospital           17\n",
       "20    hospitales           11\n",
       "10        seguro            9\n",
       "16     impecable            9\n",
       "17      precioso            7\n",
       "15  tranquilidad            6\n",
       "19        lujoso            4\n",
       "22       confort            3\n",
       "21     espacioso            2\n",
       "18       paisaje            1"
      ]
     },
     "metadata": {},
     "output_type": "display_data"
    }
   ],
   "source": [
    "print(palabras)\n",
    "palabras_ordenadas = pd.DataFrame(list(palabras.items()),columns = ['palabras','apariciones']).sort_values('apariciones',ascending=False)\n",
    "\n",
    "display(palabras_ordenadas)\n"
   ]
  },
  {
   "cell_type": "markdown",
   "id": "737356cb",
   "metadata": {},
   "source": [
    "### preparamos los datos"
   ]
  },
  {
   "cell_type": "markdown",
   "id": "57810da4",
   "metadata": {},
   "source": [
    "### $\\underline{Caso 1 :}$ Sin quitar Outtliers"
   ]
  },
  {
   "cell_type": "markdown",
   "id": "9c0b6b54",
   "metadata": {},
   "source": [
    "### preparamos los datos"
   ]
  },
  {
   "cell_type": "code",
   "execution_count": 103,
   "id": "2361e858",
   "metadata": {},
   "outputs": [],
   "source": [
    "#Con Xtrain, e Ytrain entrenamos al algoritmo\n",
    "regresion = metnum.LinearRegression()\n",
    "regresion.fit(Xtrain, Ytrain)\n",
    "#Ahora predeciremos Ytest en pred, usando Xtest\n",
    "pred = regresion.predict(Xtest)\n",
    "pred = pred.reshape(pred.shape[0])"
   ]
  },
  {
   "cell_type": "code",
   "execution_count": 104,
   "id": "9d79f673",
   "metadata": {
    "scrolled": false
   },
   "outputs": [
    {
     "data": {
      "image/png": "[encoded data removed]",
      "text/plain": [
       "<Figure size 432x288 with 1 Axes>"
      ]
     },
     "metadata": {
      "needs_background": "light"
     },
     "output_type": "display_data"
    }
   ],
   "source": [
    "grafico(Xtest,Ytest,pred,\"Precio vs. Palabras (con outs.)\",\"Cantidad de Palabras Positivas\",\"Precio (MXN$)\",\"palabras-precio-puebla-simple\")"
   ]
  },
  {
   "cell_type": "code",
   "execution_count": 105,
   "id": "5d06ebb7",
   "metadata": {
    "scrolled": true
   },
   "outputs": [
    {
     "name": "stdout",
     "output_type": "stream",
     "text": [
      "RMSE = 816186.2878628155\n",
      "RMSLE = 0.7311133079991825\n"
     ]
    }
   ],
   "source": [
    "metricas(Ytest,pred)"
   ]
  },
  {
   "cell_type": "markdown",
   "id": "5903bb3d",
   "metadata": {},
   "source": [
    "### con kfold"
   ]
  },
  {
   "cell_type": "code",
   "execution_count": 106,
   "id": "41077a58",
   "metadata": {
    "scrolled": false
   },
   "outputs": [
    {
     "name": "stdout",
     "output_type": "stream",
     "text": [
      "Corte 1, \n",
      "Corte 2, \n",
      "Corte 3, \n",
      "Corte 4, \n",
      "Corte 5, \n",
      "Corte 6, \n",
      "Corte 7, \n",
      "Corte 8, \n",
      "Corte 9, \n",
      "Corte 10, \n",
      "fin.\n"
     ]
    }
   ],
   "source": [
    "rms = CML_KFold(10, Xtrain, Ytrain)"
   ]
  },
  {
   "cell_type": "code",
   "execution_count": 107,
   "id": "946a59ac",
   "metadata": {
    "scrolled": true
   },
   "outputs": [
    {
     "name": "stdout",
     "output_type": "stream",
     "text": [
      "RMSE = (1012166.9547837919, 119383.90022711472)\n",
      "RMSLE = (0.7314794032498071, 0.03937603787704287)\n"
     ]
    }
   ],
   "source": [
    "metricasProm(rms)"
   ]
  },
  {
   "cell_type": "markdown",
   "id": "913a541f",
   "metadata": {},
   "source": [
    "## $\\underline{Caso 2 :}$ Quitando Outtliers"
   ]
  },
  {
   "cell_type": "code",
   "execution_count": 108,
   "id": "ae0b1f8d",
   "metadata": {
    "scrolled": true
   },
   "outputs": [
    {
     "name": "stdout",
     "output_type": "stream",
     "text": [
      "Se han eliminado 39/1067 outliers. Ahora tienes 1028/1067.\n"
     ]
    },
    {
     "data": {
      "text/plain": [
       "1028"
      ]
     },
     "execution_count": 108,
     "metadata": {},
     "output_type": "execute_result"
    }
   ],
   "source": [
    "# Limpiamos los train\n",
    "Ytrain_pred = regresion.predict(Xtrain)\n",
    "Ytrain_pred = Ytrain_pred.reshape(Ytrain_pred.shape[0])\n",
    "\n",
    "trainCleaned = cleanOutliers(Xtrain,Ytrain,Ytrain_pred,m=2)\n",
    "len(trainCleaned[0])"
   ]
  },
  {
   "cell_type": "code",
   "execution_count": 109,
   "id": "edad835b",
   "metadata": {
    "scrolled": true
   },
   "outputs": [
    {
     "name": "stdout",
     "output_type": "stream",
     "text": [
      "Se han eliminado 5/119 outliers. Ahora tienes 114/119.\n"
     ]
    },
    {
     "data": {
      "text/plain": [
       "114"
      ]
     },
     "execution_count": 109,
     "metadata": {},
     "output_type": "execute_result"
    }
   ],
   "source": [
    "# limpiamos los test\n",
    "testCleaned = cleanOutliers(Xtest,Ytest,pred,m=2)\n",
    "len(testCleaned[0])"
   ]
  },
  {
   "cell_type": "code",
   "execution_count": 110,
   "id": "5395f121",
   "metadata": {},
   "outputs": [],
   "source": [
    "XtestClean = testCleaned[0]\n",
    "YtestClean = testCleaned[1]\n",
    "\n",
    "XtrainClean = trainCleaned[0]\n",
    "YtrainClean = trainCleaned[1]"
   ]
  },
  {
   "cell_type": "markdown",
   "id": "e979edd3",
   "metadata": {},
   "source": [
    "### sin kfold"
   ]
  },
  {
   "cell_type": "code",
   "execution_count": 111,
   "id": "a3b34bed",
   "metadata": {},
   "outputs": [],
   "source": [
    "#Con XtrainClean, e YtrainClean entrenamos al algoritmo\n",
    "regresionClean = metnum.LinearRegression()\n",
    "regresionClean.fit(XtrainClean, YtrainClean)\n",
    "#Ahora predeciremos Ytest en pred, usando Xtest\n",
    "predClean = regresion.predict(XtestClean)\n",
    "predClean = predClean.reshape(predClean.shape[0])"
   ]
  },
  {
   "cell_type": "code",
   "execution_count": 112,
   "id": "dba9ddd8",
   "metadata": {
    "scrolled": true
   },
   "outputs": [
    {
     "data": {
      "image/png": "[encoded data removed]",
      "text/plain": [
       "<Figure size 432x288 with 1 Axes>"
      ]
     },
     "metadata": {
      "needs_background": "light"
     },
     "output_type": "display_data"
    }
   ],
   "source": [
    "grafico(XtestClean,YtestClean,predClean,\"Precio vs. Palabras Positivas (sin outs.)\",\"Cantidad de Palabras Positivas\",\"Precio (MXN$)\",\"metros-palabras-puebla-sinout\")"
   ]
  },
  {
   "cell_type": "code",
   "execution_count": 113,
   "id": "b9eedacd",
   "metadata": {
    "scrolled": false
   },
   "outputs": [
    {
     "name": "stdout",
     "output_type": "stream",
     "text": [
      "RMSE = 734831.876595433\n",
      "RMSLE = 0.7274226518855399\n"
     ]
    }
   ],
   "source": [
    "metricas(YtestClean,predClean)"
   ]
  },
  {
   "cell_type": "code",
   "execution_count": 114,
   "id": "3804fa7a",
   "metadata": {
    "scrolled": false
   },
   "outputs": [
    {
     "name": "stdout",
     "output_type": "stream",
     "text": [
      "Corte 1, \n",
      "Corte 2, \n",
      "Corte 3, \n",
      "Corte 4, \n",
      "Corte 5, \n",
      "Corte 6, \n",
      "Corte 7, \n",
      "Corte 8, \n",
      "Corte 9, \n",
      "Corte 10, \n",
      "fin.\n"
     ]
    }
   ],
   "source": [
    "\n",
    "rmsCleaned = CML_KFold(10, XtrainClean, YtrainClean)"
   ]
  },
  {
   "cell_type": "code",
   "execution_count": 115,
   "id": "7e555955",
   "metadata": {
    "scrolled": false
   },
   "outputs": [
    {
     "name": "stdout",
     "output_type": "stream",
     "text": [
      "RMSE = (769036.8895191393, 38047.52819839262)\n",
      "RMSLE = (0.67358875722516, 0.04046470158636131)\n"
     ]
    }
   ],
   "source": [
    "metricasProm(rmsCleaned)"
   ]
  },
  {
   "cell_type": "markdown",
   "id": "41e73b9b",
   "metadata": {},
   "source": [
    "###  No llegamos a anda muy significativo con este experimento :("
   ]
  },
  {
   "cell_type": "markdown",
   "id": "699135cd",
   "metadata": {},
   "source": [
    "# Experimento cercania a playa vs precio"
   ]
  },
  {
   "cell_type": "markdown",
   "id": "ce29f233",
   "metadata": {},
   "source": [
    "### Explicacion:"
   ]
  },
  {
   "cell_type": "markdown",
   "id": "ae5f5214",
   "metadata": {},
   "source": [
    "#### Cercania a playa:\n",
    "Esta variable es creada al usar la latitud y longitud en el mapa. \n",
    "Dentro de un segmento acotado, veremos la distancia de las casas a una linea sobre la costa. A esta linea la llamaremos \"linea de playa\" y esta sobre el eje y (es decir es vertical). \n",
    "\n",
    "#### Objetivo:\n",
    "Ver si hay relacion entre la distancia a la playa y el precio de las viviendas.\n",
    "\n",
    "#### Segmento\n",
    "Acotaremos nuestro set a un conjunto dentro cuatro coordenadas : \n",
    "Dentro de este cuadrado estan las casas a analizar.\n",
    "\n",
    "#### Datos Externos: \n",
    "Para este experimento utilizaremos la herramienta Google Maps con el fin de obtener las coordenadas para acotar donde se localizan nuestras viviendas como para elegir la linea de playa.\n",
    "\n",
    "#### Combinacion de features:\n",
    "En este experimento combinaremos latitud con longitud para segmentar. \n",
    "Luego usaremos solo longitud para aproximarnos a la linea de playa (que es vertical)"
   ]
  },
  {
   "cell_type": "code",
   "execution_count": 116,
   "id": "4dcad09a",
   "metadata": {},
   "outputs": [
    {
     "data": {
      "text/html": [
       "<div>\n",
       "<style scoped>\n",
       "    .dataframe tbody tr th:only-of-type {\n",
       "        vertical-align: middle;\n",
       "    }\n",
       "\n",
       "    .dataframe tbody tr th {\n",
       "        vertical-align: top;\n",
       "    }\n",
       "\n",
       "    .dataframe thead th {\n",
       "        text-align: right;\n",
       "    }\n",
       "</style>\n",
       "<table border=\"1\" class=\"dataframe\">\n",
       "  <thead>\n",
       "    <tr style=\"text-align: right;\">\n",
       "      <th></th>\n",
       "      <th>id</th>\n",
       "      <th>playaDist</th>\n",
       "      <th>precio</th>\n",
       "    </tr>\n",
       "  </thead>\n",
       "  <tbody>\n",
       "    <tr>\n",
       "      <th>87</th>\n",
       "      <td>166800</td>\n",
       "      <td>0.055982</td>\n",
       "      <td>580000.0</td>\n",
       "    </tr>\n",
       "    <tr>\n",
       "      <th>464</th>\n",
       "      <td>261333</td>\n",
       "      <td>0.060407</td>\n",
       "      <td>740000.0</td>\n",
       "    </tr>\n",
       "    <tr>\n",
       "      <th>506</th>\n",
       "      <td>219982</td>\n",
       "      <td>0.015024</td>\n",
       "      <td>2350000.0</td>\n",
       "    </tr>\n",
       "    <tr>\n",
       "      <th>525</th>\n",
       "      <td>83002</td>\n",
       "      <td>0.070209</td>\n",
       "      <td>580000.0</td>\n",
       "    </tr>\n",
       "    <tr>\n",
       "      <th>712</th>\n",
       "      <td>203064</td>\n",
       "      <td>0.007490</td>\n",
       "      <td>3800000.0</td>\n",
       "    </tr>\n",
       "    <tr>\n",
       "      <th>...</th>\n",
       "      <td>...</td>\n",
       "      <td>...</td>\n",
       "      <td>...</td>\n",
       "    </tr>\n",
       "    <tr>\n",
       "      <th>215602</th>\n",
       "      <td>249964</td>\n",
       "      <td>0.017316</td>\n",
       "      <td>1000000.0</td>\n",
       "    </tr>\n",
       "    <tr>\n",
       "      <th>215721</th>\n",
       "      <td>2292</td>\n",
       "      <td>0.019920</td>\n",
       "      <td>3400000.0</td>\n",
       "    </tr>\n",
       "    <tr>\n",
       "      <th>215828</th>\n",
       "      <td>179121</td>\n",
       "      <td>0.036010</td>\n",
       "      <td>1650000.0</td>\n",
       "    </tr>\n",
       "    <tr>\n",
       "      <th>216006</th>\n",
       "      <td>288904</td>\n",
       "      <td>0.047429</td>\n",
       "      <td>1500000.0</td>\n",
       "    </tr>\n",
       "    <tr>\n",
       "      <th>216293</th>\n",
       "      <td>188749</td>\n",
       "      <td>0.023242</td>\n",
       "      <td>1600000.0</td>\n",
       "    </tr>\n",
       "  </tbody>\n",
       "</table>\n",
       "<p>1220 rows × 3 columns</p>\n",
       "</div>"
      ],
      "text/plain": [
       "            id  playaDist     precio\n",
       "87      166800   0.055982   580000.0\n",
       "464     261333   0.060407   740000.0\n",
       "506     219982   0.015024  2350000.0\n",
       "525      83002   0.070209   580000.0\n",
       "712     203064   0.007490  3800000.0\n",
       "...        ...        ...        ...\n",
       "215602  249964   0.017316  1000000.0\n",
       "215721    2292   0.019920  3400000.0\n",
       "215828  179121   0.036010  1650000.0\n",
       "216006  288904   0.047429  1500000.0\n",
       "216293  188749   0.023242  1600000.0\n",
       "\n",
       "[1220 rows x 3 columns]"
      ]
     },
     "metadata": {},
     "output_type": "display_data"
    },
    {
     "data": {
      "text/html": [
       "<div>\n",
       "<style scoped>\n",
       "    .dataframe tbody tr th:only-of-type {\n",
       "        vertical-align: middle;\n",
       "    }\n",
       "\n",
       "    .dataframe tbody tr th {\n",
       "        vertical-align: top;\n",
       "    }\n",
       "\n",
       "    .dataframe thead th {\n",
       "        text-align: right;\n",
       "    }\n",
       "</style>\n",
       "<table border=\"1\" class=\"dataframe\">\n",
       "  <thead>\n",
       "    <tr style=\"text-align: right;\">\n",
       "      <th></th>\n",
       "      <th>id</th>\n",
       "      <th>playaDist</th>\n",
       "      <th>precio</th>\n",
       "    </tr>\n",
       "  </thead>\n",
       "  <tbody>\n",
       "    <tr>\n",
       "      <th>216295</th>\n",
       "      <td>229735</td>\n",
       "      <td>0.053530</td>\n",
       "      <td>1859000.0</td>\n",
       "    </tr>\n",
       "    <tr>\n",
       "      <th>216313</th>\n",
       "      <td>34096</td>\n",
       "      <td>0.011869</td>\n",
       "      <td>1200000.0</td>\n",
       "    </tr>\n",
       "    <tr>\n",
       "      <th>216517</th>\n",
       "      <td>71466</td>\n",
       "      <td>0.013463</td>\n",
       "      <td>3900000.0</td>\n",
       "    </tr>\n",
       "    <tr>\n",
       "      <th>216805</th>\n",
       "      <td>38438</td>\n",
       "      <td>0.017301</td>\n",
       "      <td>1500000.0</td>\n",
       "    </tr>\n",
       "    <tr>\n",
       "      <th>216977</th>\n",
       "      <td>161313</td>\n",
       "      <td>0.008136</td>\n",
       "      <td>800000.0</td>\n",
       "    </tr>\n",
       "    <tr>\n",
       "      <th>...</th>\n",
       "      <td>...</td>\n",
       "      <td>...</td>\n",
       "      <td>...</td>\n",
       "    </tr>\n",
       "    <tr>\n",
       "      <th>239130</th>\n",
       "      <td>39711</td>\n",
       "      <td>0.015309</td>\n",
       "      <td>850000.0</td>\n",
       "    </tr>\n",
       "    <tr>\n",
       "      <th>239241</th>\n",
       "      <td>95462</td>\n",
       "      <td>0.035090</td>\n",
       "      <td>1350000.0</td>\n",
       "    </tr>\n",
       "    <tr>\n",
       "      <th>239424</th>\n",
       "      <td>275987</td>\n",
       "      <td>0.004095</td>\n",
       "      <td>1150000.0</td>\n",
       "    </tr>\n",
       "    <tr>\n",
       "      <th>239571</th>\n",
       "      <td>191962</td>\n",
       "      <td>0.027469</td>\n",
       "      <td>1450000.0</td>\n",
       "    </tr>\n",
       "    <tr>\n",
       "      <th>239889</th>\n",
       "      <td>184064</td>\n",
       "      <td>0.020807</td>\n",
       "      <td>1100000.0</td>\n",
       "    </tr>\n",
       "  </tbody>\n",
       "</table>\n",
       "<p>136 rows × 3 columns</p>\n",
       "</div>"
      ],
      "text/plain": [
       "            id  playaDist     precio\n",
       "216295  229735   0.053530  1859000.0\n",
       "216313   34096   0.011869  1200000.0\n",
       "216517   71466   0.013463  3900000.0\n",
       "216805   38438   0.017301  1500000.0\n",
       "216977  161313   0.008136   800000.0\n",
       "...        ...        ...        ...\n",
       "239130   39711   0.015309   850000.0\n",
       "239241   95462   0.035090  1350000.0\n",
       "239424  275987   0.004095  1150000.0\n",
       "239571  191962   0.027469  1450000.0\n",
       "239889  184064   0.020807  1100000.0\n",
       "\n",
       "[136 rows x 3 columns]"
      ]
     },
     "metadata": {},
     "output_type": "display_data"
    }
   ],
   "source": [
    "muestra = set_original\n",
    "\n",
    "outliers = list(set(muestra.index[muestra[\"lng\"] > -86.814884].tolist() +\n",
    "                    muestra.index[muestra[\"lng\"] < -86.931090].tolist() +\n",
    "                    muestra.index[muestra[\"lat\"] > 21.215653].tolist() +\n",
    "                    muestra.index[muestra[\"lat\"] < 21.123066].tolist()))\n",
    "muestra = muestra.drop(labels=outliers, axis=0)\n",
    "lineaDePlaya = -86.814884\n",
    "\n",
    "nuevaMuestra = pd.DataFrame()\n",
    "#armamos los dos casos\n",
    "nuevaMuestra[\"id\"] = muestra[\"id\"]\n",
    "nuevaMuestra[\"playaDist\"] = abs(muestra[\"lng\"] - lineaDePlaya) \n",
    "nuevaMuestra[\"precio\"] = muestra[\"precio\"]\n",
    "             \n",
    "muestra = nuevaMuestra.dropna()\n",
    "cantidadparatrain = int(len(muestra) - len(muestra)/10)\n",
    "train = muestra.iloc[:cantidadparatrain, :]\n",
    "test = muestra.iloc[cantidadparatrain:, :]\n",
    "\n",
    "#guardamos las columnas que nos interesan para experimentar\n",
    "tipo = 'playaDist'\n",
    "# train = train[[\"id\", tipo, \"precio\"]].dropna()\n",
    "# test = test[[\"id\", tipo, \"precio\"]].dropna()\n",
    "\n",
    "Xtrain, Xtest = train[tipo].values, test[tipo].values\n",
    "Ytrain, Ytest = (train[\"precio\"].values), (test[\"precio\"].values)\n",
    "\n",
    "\n",
    "display(train[[\"id\", tipo, \"precio\"]])\n",
    "display(test[[\"id\", tipo, \"precio\"]])\n"
   ]
  },
  {
   "cell_type": "markdown",
   "id": "1f692548",
   "metadata": {},
   "source": [
    "### $\\underline{Caso 1 :}$ Sin quitar Outtliers"
   ]
  },
  {
   "cell_type": "markdown",
   "id": "55740772",
   "metadata": {},
   "source": [
    "### preparamos los datos"
   ]
  },
  {
   "cell_type": "code",
   "execution_count": 117,
   "id": "f25fb4bf",
   "metadata": {},
   "outputs": [],
   "source": [
    "#Con Xtrain, e Ytrain entrenamos al algoritmo\n",
    "regresion = metnum.LinearRegression()\n",
    "regresion.fit(Xtrain, Ytrain)\n",
    "#Ahora predeciremos Ytest en pred, usando Xtest\n",
    "pred = regresion.predict(Xtest)\n",
    "pred = pred.reshape(pred.shape[0])"
   ]
  },
  {
   "cell_type": "code",
   "execution_count": 118,
   "id": "3c5bd564",
   "metadata": {
    "scrolled": true
   },
   "outputs": [
    {
     "data": {
      "image/png": "[encoded data removed]",
      "text/plain": [
       "<Figure size 432x288 with 1 Axes>"
      ]
     },
     "metadata": {
      "needs_background": "light"
     },
     "output_type": "display_data"
    }
   ],
   "source": [
    "\n",
    "grafico(Xtest,Ytest,pred,\"Precio vs. Distancia a Playa (con outs.)\",\"Distancia a Playa en Grados de Longitud\",\"Precio (MXN$)\",\"dist-playa-conouts\")\n"
   ]
  },
  {
   "cell_type": "code",
   "execution_count": 119,
   "id": "720008db",
   "metadata": {
    "scrolled": true
   },
   "outputs": [
    {
     "name": "stdout",
     "output_type": "stream",
     "text": [
      "RMSE = 1496368.532855049\n",
      "RMSLE = 0.6917912581121234\n"
     ]
    }
   ],
   "source": [
    "metricas(Ytest,pred)"
   ]
  },
  {
   "cell_type": "markdown",
   "id": "bae457cf",
   "metadata": {},
   "source": [
    "### con kfold"
   ]
  },
  {
   "cell_type": "code",
   "execution_count": 120,
   "id": "828b1473",
   "metadata": {
    "scrolled": false
   },
   "outputs": [
    {
     "name": "stdout",
     "output_type": "stream",
     "text": [
      "Corte 1, \n",
      "Corte 2, \n",
      "Corte 3, \n",
      "Corte 4, \n",
      "Corte 5, \n",
      "Corte 6, \n",
      "Corte 7, \n",
      "Corte 8, \n",
      "Corte 9, \n",
      "Corte 10, \n",
      "fin.\n"
     ]
    }
   ],
   "source": [
    "rms = CML_KFold(10, Xtrain, Ytrain)"
   ]
  },
  {
   "cell_type": "code",
   "execution_count": 121,
   "id": "5e21892f",
   "metadata": {
    "scrolled": true
   },
   "outputs": [
    {
     "name": "stdout",
     "output_type": "stream",
     "text": [
      "RMSE = (1447568.5756035305, 151716.09232506412)\n",
      "RMSLE = (0.6860170951548163, 0.05526041279004948)\n"
     ]
    }
   ],
   "source": [
    "metricasProm(rms)"
   ]
  },
  {
   "cell_type": "markdown",
   "id": "639b2472",
   "metadata": {},
   "source": [
    "## $\\underline{Caso 2 :}$ Quitando Outtliers"
   ]
  },
  {
   "cell_type": "code",
   "execution_count": 122,
   "id": "40c7f82d",
   "metadata": {
    "scrolled": true
   },
   "outputs": [
    {
     "name": "stdout",
     "output_type": "stream",
     "text": [
      "Se han eliminado 48/1220 outliers. Ahora tienes 1172/1220.\n"
     ]
    },
    {
     "data": {
      "text/plain": [
       "1172"
      ]
     },
     "execution_count": 122,
     "metadata": {},
     "output_type": "execute_result"
    }
   ],
   "source": [
    "# Limpiamos los train\n",
    "Ytrain_pred = regresion.predict(Xtrain)\n",
    "Ytrain_pred = Ytrain_pred.reshape(Ytrain_pred.shape[0])\n",
    "\n",
    "trainCleaned = cleanOutliers(Xtrain,Ytrain,Ytrain_pred,m=2)\n",
    "len(trainCleaned[0])"
   ]
  },
  {
   "cell_type": "code",
   "execution_count": 123,
   "id": "60c8a3b6",
   "metadata": {
    "scrolled": true
   },
   "outputs": [
    {
     "name": "stdout",
     "output_type": "stream",
     "text": [
      "Se han eliminado 7/136 outliers. Ahora tienes 129/136.\n"
     ]
    },
    {
     "data": {
      "text/plain": [
       "129"
      ]
     },
     "execution_count": 123,
     "metadata": {},
     "output_type": "execute_result"
    }
   ],
   "source": [
    "# limpiamos los test\n",
    "testCleaned = cleanOutliers(Xtest,Ytest,pred,m=2)\n",
    "len(testCleaned[0])"
   ]
  },
  {
   "cell_type": "code",
   "execution_count": 124,
   "id": "5ac2aa0c",
   "metadata": {},
   "outputs": [],
   "source": [
    "XtestClean = testCleaned[0]\n",
    "YtestClean = testCleaned[1]\n",
    "\n",
    "XtrainClean = trainCleaned[0]\n",
    "YtrainClean = trainCleaned[1]"
   ]
  },
  {
   "cell_type": "markdown",
   "id": "bfc839be",
   "metadata": {},
   "source": [
    "### sin kfold"
   ]
  },
  {
   "cell_type": "code",
   "execution_count": 125,
   "id": "8bd6dac6",
   "metadata": {},
   "outputs": [],
   "source": [
    "#Con XtrainClean, e YtrainClean entrenamos al algoritmo\n",
    "regresionClean = metnum.LinearRegression()\n",
    "regresionClean.fit(XtrainClean, YtrainClean)\n",
    "#Ahora predeciremos Ytest en pred, usando Xtest\n",
    "predClean = regresion.predict(XtestClean)\n",
    "predClean = predClean.reshape(predClean.shape[0])"
   ]
  },
  {
   "cell_type": "code",
   "execution_count": 126,
   "id": "bb6dbd1d",
   "metadata": {
    "scrolled": true
   },
   "outputs": [
    {
     "data": {
      "image/png": "[encoded data removed]",
      "text/plain": [
       "<Figure size 432x288 with 1 Axes>"
      ]
     },
     "metadata": {
      "needs_background": "light"
     },
     "output_type": "display_data"
    }
   ],
   "source": [
    "# graficoConLim(XtestClean,YtestClean,predClean,\"Precio vs. Distancia a Playa (sin outs.)\",\"Distancia a Playa en Grados de Longitud\",\"Precio (MXN$)\",\"dist-playa-sinouts\",0,0.0775,0,7.25*(10**6))\n",
    "\n",
    "grafico(XtestClean,YtestClean,predClean,\"Precio vs. Distancia a Playa (sin outs.)\",\"Distancia a Playa en Grados de Longitud\",\"Precio (MXN$)\",\"dist-playa-sinouts\")"
   ]
  },
  {
   "cell_type": "code",
   "execution_count": 127,
   "id": "852566be",
   "metadata": {
    "scrolled": false
   },
   "outputs": [
    {
     "name": "stdout",
     "output_type": "stream",
     "text": [
      "RMSE = 1070341.0224434528\n",
      "RMSLE = 0.6570010793704215\n"
     ]
    }
   ],
   "source": [
    "metricas(YtestClean,predClean)"
   ]
  },
  {
   "cell_type": "code",
   "execution_count": 128,
   "id": "a560921e",
   "metadata": {
    "scrolled": false
   },
   "outputs": [
    {
     "name": "stdout",
     "output_type": "stream",
     "text": [
      "Corte 1, \n",
      "Corte 2, \n",
      "Corte 3, \n",
      "Corte 4, \n",
      "Corte 5, \n",
      "Corte 6, \n",
      "Corte 7, \n",
      "Corte 8, \n",
      "Corte 9, \n",
      "Corte 10, \n",
      "fin.\n"
     ]
    }
   ],
   "source": [
    "\n",
    "rmsCleaned = CML_KFold(10, XtrainClean, YtrainClean) "
   ]
  },
  {
   "cell_type": "code",
   "execution_count": 129,
   "id": "788614b2",
   "metadata": {
    "scrolled": false
   },
   "outputs": [
    {
     "name": "stdout",
     "output_type": "stream",
     "text": [
      "RMSE = (1021144.2670817323, 64859.58315360529)\n",
      "RMSLE = (0.60818885724032, 0.051253327564300934)\n"
     ]
    }
   ],
   "source": [
    "metricasProm(rmsCleaned)"
   ]
  },
  {
   "cell_type": "markdown",
   "id": "2e3da51d",
   "metadata": {},
   "source": [
    "# Ahora en el conjunto de ciudades"
   ]
  },
  {
   "cell_type": "code",
   "execution_count": 131,
   "id": "16ef8d6e",
   "metadata": {},
   "outputs": [
    {
     "name": "stderr",
     "output_type": "stream",
     "text": [
      "/tmp/ipykernel_155027/2821581340.py:39: SettingWithCopyWarning: \n",
      "A value is trying to be set on a copy of a slice from a DataFrame.\n",
      "Try using .loc[row_indexer,col_indexer] = value instead\n",
      "\n",
      "See the caveats in the documentation: https://pandas.pydata.org/pandas-docs/stable/user_guide/indexing.html#returning-a-view-versus-a-copy\n",
      "  muestra[tipo] = np.asarray(columna)\n"
     ]
    },
    {
     "data": {
      "text/html": [
       "<div>\n",
       "<style scoped>\n",
       "    .dataframe tbody tr th:only-of-type {\n",
       "        vertical-align: middle;\n",
       "    }\n",
       "\n",
       "    .dataframe tbody tr th {\n",
       "        vertical-align: top;\n",
       "    }\n",
       "\n",
       "    .dataframe thead th {\n",
       "        text-align: right;\n",
       "    }\n",
       "</style>\n",
       "<table border=\"1\" class=\"dataframe\">\n",
       "  <thead>\n",
       "    <tr style=\"text-align: right;\">\n",
       "      <th></th>\n",
       "      <th>id</th>\n",
       "      <th>playaDist</th>\n",
       "      <th>precio</th>\n",
       "    </tr>\n",
       "  </thead>\n",
       "  <tbody>\n",
       "    <tr>\n",
       "      <th>22</th>\n",
       "      <td>129818</td>\n",
       "      <td>52.309679</td>\n",
       "      <td>1340000.0</td>\n",
       "    </tr>\n",
       "    <tr>\n",
       "      <th>37</th>\n",
       "      <td>1127</td>\n",
       "      <td>52.259156</td>\n",
       "      <td>1280000.0</td>\n",
       "    </tr>\n",
       "    <tr>\n",
       "      <th>832</th>\n",
       "      <td>195765</td>\n",
       "      <td>52.323690</td>\n",
       "      <td>1250000.0</td>\n",
       "    </tr>\n",
       "    <tr>\n",
       "      <th>853</th>\n",
       "      <td>142112</td>\n",
       "      <td>52.336420</td>\n",
       "      <td>500000.0</td>\n",
       "    </tr>\n",
       "    <tr>\n",
       "      <th>1088</th>\n",
       "      <td>280003</td>\n",
       "      <td>52.364643</td>\n",
       "      <td>570000.0</td>\n",
       "    </tr>\n",
       "    <tr>\n",
       "      <th>...</th>\n",
       "      <td>...</td>\n",
       "      <td>...</td>\n",
       "      <td>...</td>\n",
       "    </tr>\n",
       "    <tr>\n",
       "      <th>217656</th>\n",
       "      <td>212848</td>\n",
       "      <td>52.298194</td>\n",
       "      <td>680000.0</td>\n",
       "    </tr>\n",
       "    <tr>\n",
       "      <th>217698</th>\n",
       "      <td>189441</td>\n",
       "      <td>52.260948</td>\n",
       "      <td>640000.0</td>\n",
       "    </tr>\n",
       "    <tr>\n",
       "      <th>218013</th>\n",
       "      <td>38488</td>\n",
       "      <td>52.294885</td>\n",
       "      <td>1400000.0</td>\n",
       "    </tr>\n",
       "    <tr>\n",
       "      <th>218136</th>\n",
       "      <td>254423</td>\n",
       "      <td>52.381046</td>\n",
       "      <td>500000.0</td>\n",
       "    </tr>\n",
       "    <tr>\n",
       "      <th>218334</th>\n",
       "      <td>116382</td>\n",
       "      <td>52.297317</td>\n",
       "      <td>5300000.0</td>\n",
       "    </tr>\n",
       "  </tbody>\n",
       "</table>\n",
       "<p>606 rows × 3 columns</p>\n",
       "</div>"
      ],
      "text/plain": [
       "            id  playaDist     precio\n",
       "22      129818  52.309679  1340000.0\n",
       "37        1127  52.259156  1280000.0\n",
       "832     195765  52.323690  1250000.0\n",
       "853     142112  52.336420   500000.0\n",
       "1088    280003  52.364643   570000.0\n",
       "...        ...        ...        ...\n",
       "217656  212848  52.298194   680000.0\n",
       "217698  189441  52.260948   640000.0\n",
       "218013   38488  52.294885  1400000.0\n",
       "218136  254423  52.381046   500000.0\n",
       "218334  116382  52.297317  5300000.0\n",
       "\n",
       "[606 rows x 3 columns]"
      ]
     },
     "metadata": {},
     "output_type": "display_data"
    },
    {
     "data": {
      "text/html": [
       "<div>\n",
       "<style scoped>\n",
       "    .dataframe tbody tr th:only-of-type {\n",
       "        vertical-align: middle;\n",
       "    }\n",
       "\n",
       "    .dataframe tbody tr th {\n",
       "        vertical-align: top;\n",
       "    }\n",
       "\n",
       "    .dataframe thead th {\n",
       "        text-align: right;\n",
       "    }\n",
       "</style>\n",
       "<table border=\"1\" class=\"dataframe\">\n",
       "  <thead>\n",
       "    <tr style=\"text-align: right;\">\n",
       "      <th></th>\n",
       "      <th>id</th>\n",
       "      <th>playaDist</th>\n",
       "      <th>precio</th>\n",
       "    </tr>\n",
       "  </thead>\n",
       "  <tbody>\n",
       "    <tr>\n",
       "      <th>218618</th>\n",
       "      <td>40615</td>\n",
       "      <td>52.370205</td>\n",
       "      <td>5500000.0</td>\n",
       "    </tr>\n",
       "    <tr>\n",
       "      <th>218852</th>\n",
       "      <td>97585</td>\n",
       "      <td>52.289412</td>\n",
       "      <td>4000000.0</td>\n",
       "    </tr>\n",
       "    <tr>\n",
       "      <th>219802</th>\n",
       "      <td>159162</td>\n",
       "      <td>52.292784</td>\n",
       "      <td>1300000.0</td>\n",
       "    </tr>\n",
       "    <tr>\n",
       "      <th>219846</th>\n",
       "      <td>143723</td>\n",
       "      <td>52.306572</td>\n",
       "      <td>4200000.0</td>\n",
       "    </tr>\n",
       "    <tr>\n",
       "      <th>219969</th>\n",
       "      <td>11282</td>\n",
       "      <td>52.357278</td>\n",
       "      <td>4600000.0</td>\n",
       "    </tr>\n",
       "    <tr>\n",
       "      <th>...</th>\n",
       "      <td>...</td>\n",
       "      <td>...</td>\n",
       "      <td>...</td>\n",
       "    </tr>\n",
       "    <tr>\n",
       "      <th>239254</th>\n",
       "      <td>38638</td>\n",
       "      <td>52.348172</td>\n",
       "      <td>1100000.0</td>\n",
       "    </tr>\n",
       "    <tr>\n",
       "      <th>239276</th>\n",
       "      <td>259127</td>\n",
       "      <td>52.289683</td>\n",
       "      <td>920000.0</td>\n",
       "    </tr>\n",
       "    <tr>\n",
       "      <th>239344</th>\n",
       "      <td>163121</td>\n",
       "      <td>52.312902</td>\n",
       "      <td>3000000.0</td>\n",
       "    </tr>\n",
       "    <tr>\n",
       "      <th>239462</th>\n",
       "      <td>19870</td>\n",
       "      <td>52.301057</td>\n",
       "      <td>4900000.0</td>\n",
       "    </tr>\n",
       "    <tr>\n",
       "      <th>239496</th>\n",
       "      <td>152617</td>\n",
       "      <td>52.321037</td>\n",
       "      <td>800000.0</td>\n",
       "    </tr>\n",
       "  </tbody>\n",
       "</table>\n",
       "<p>68 rows × 3 columns</p>\n",
       "</div>"
      ],
      "text/plain": [
       "            id  playaDist     precio\n",
       "218618   40615  52.370205  5500000.0\n",
       "218852   97585  52.289412  4000000.0\n",
       "219802  159162  52.292784  1300000.0\n",
       "219846  143723  52.306572  4200000.0\n",
       "219969   11282  52.357278  4600000.0\n",
       "...        ...        ...        ...\n",
       "239254   38638  52.348172  1100000.0\n",
       "239276  259127  52.289683   920000.0\n",
       "239344  163121  52.312902  3000000.0\n",
       "239462   19870  52.301057  4900000.0\n",
       "239496  152617  52.321037   800000.0\n",
       "\n",
       "[68 rows x 3 columns]"
      ]
     },
     "metadata": {},
     "output_type": "display_data"
    }
   ],
   "source": [
    "\n",
    "\n",
    "muestra = set_original\n",
    "outliers = list(set(muestra.index[muestra[\"lng\"] > -97.739773].tolist() +\n",
    "                    muestra.index[muestra[\"lng\"] < -97.957474].tolist() +\n",
    "                    muestra.index[muestra[\"lat\"] > 22.428249].tolist() +\n",
    "                    muestra.index[muestra[\"lat\"] < 22.182782].tolist()))\n",
    "muestra = muestra.drop(labels=outliers, axis=0)\n",
    "\n",
    "\n",
    "\n",
    "nuevaMuestra = pd.DataFrame()\n",
    "\n",
    "#armamos los dos casos\n",
    "nuevaMuestra[\"id\"] = muestra[\"id\"]\n",
    "\n",
    "nuevaMuestra[\"lng\"] = muestra[\"lng\"]\n",
    "\n",
    "nuevaMuestra[\"lat\"] = muestra[\"lat\"]\n",
    "\n",
    "nuevaMuestra[\"precio\"] = muestra[\"precio\"]\n",
    "             \n",
    "\n",
    "muestra = nuevaMuestra.dropna()\n",
    "\n",
    "\n",
    "columna = []\n",
    "for row in muestra.itertuples():\n",
    "    x = row.lng\n",
    "    y = row.lat\n",
    "    \n",
    "    \n",
    "    dist = distance_to_line(x,y, 22.426650,-97.873558, 22.268221,-97.792669)\n",
    "    columna.append(dist)\n",
    "    \n",
    "\n",
    "cantidadparatrain = int(len(muestra) - len(muestra)/10)\n",
    "\n",
    "#guardamos las columnas que nos interesan para experimentar\n",
    "tipo = 'playaDist'\n",
    "muestra[tipo] = np.asarray(columna)\n",
    "train = muestra.iloc[:cantidadparatrain, :]\n",
    "test = muestra.iloc[cantidadparatrain:, :]\n",
    "\n",
    "\n",
    "Xtrain, Xtest = train[tipo].values, test[tipo].values\n",
    "Ytrain, Ytest = train[\"precio\"].values, test[\"precio\"].values\n",
    "\n",
    "\n",
    "display(train[[\"id\", tipo, \"precio\"]])\n",
    "display(test[[\"id\", tipo, \"precio\"]])"
   ]
  },
  {
   "cell_type": "markdown",
   "id": "4a66cd08",
   "metadata": {},
   "source": [
    "### $\\underline{Caso 1 :}$ Sin quitar Outtliers"
   ]
  },
  {
   "cell_type": "code",
   "execution_count": 132,
   "id": "e875b564",
   "metadata": {},
   "outputs": [],
   "source": [
    "#Con Xtrain, e Ytrain entrenamos al algoritmo\n",
    "regresion = metnum.LinearRegression()\n",
    "regresion.fit(Xtrain, Ytrain)\n",
    "#Ahora predeciremos Ytest en pred, usando Xtest\n",
    "pred = regresion.predict(Xtest)\n",
    "pred = pred.reshape(pred.shape[0])"
   ]
  },
  {
   "cell_type": "code",
   "execution_count": 133,
   "id": "2c85af85",
   "metadata": {
    "scrolled": true
   },
   "outputs": [
    {
     "data": {
      "image/png": "[encoded data removed]",
      "text/plain": [
       "<Figure size 432x288 with 1 Axes>"
      ]
     },
     "metadata": {
      "needs_background": "light"
     },
     "output_type": "display_data"
    }
   ],
   "source": [
    "\n",
    "grafico(Xtest,Ytest,pred,\"Precio vs. Distancia a Playa (con outs.)\",\"Distancia a Playa en Grados de Longitud\",\"Precio (MXN$)\",\"dist-playa-conouts-ciudades-log\")\n"
   ]
  },
  {
   "cell_type": "code",
   "execution_count": 134,
   "id": "2bc5357e",
   "metadata": {
    "scrolled": false
   },
   "outputs": [
    {
     "name": "stdout",
     "output_type": "stream",
     "text": [
      "Corte 1, \n",
      "Corte 2, \n",
      "Corte 3, \n",
      "Corte 4, \n",
      "Corte 5, \n",
      "Corte 6, \n",
      "Corte 7, \n",
      "Corte 8, \n",
      "Corte 9, \n",
      "Corte 10, \n",
      "fin.\n"
     ]
    }
   ],
   "source": [
    "rms = CML_KFold(10, Xtrain, Ytrain)"
   ]
  },
  {
   "cell_type": "code",
   "execution_count": 135,
   "id": "b039c59a",
   "metadata": {
    "scrolled": true
   },
   "outputs": [
    {
     "name": "stdout",
     "output_type": "stream",
     "text": [
      "RMSE = (1204916.256149088, 189924.45521741372)\n",
      "RMSLE = (0.7254819527224753, 0.043881540601693414)\n"
     ]
    }
   ],
   "source": [
    "metricasProm(rms)"
   ]
  },
  {
   "cell_type": "markdown",
   "id": "466a20e7",
   "metadata": {},
   "source": [
    "## $\\underline{Caso 2 :}$ Quitando Outtliers"
   ]
  },
  {
   "cell_type": "code",
   "execution_count": 136,
   "id": "3b81b752",
   "metadata": {
    "scrolled": true
   },
   "outputs": [
    {
     "name": "stdout",
     "output_type": "stream",
     "text": [
      "Se han eliminado 28/606 outliers. Ahora tienes 578/606.\n"
     ]
    },
    {
     "data": {
      "text/plain": [
       "578"
      ]
     },
     "execution_count": 136,
     "metadata": {},
     "output_type": "execute_result"
    }
   ],
   "source": [
    "# Limpiamos los train\n",
    "Ytrain_pred = regresion.predict(Xtrain)\n",
    "Ytrain_pred = Ytrain_pred.reshape(Ytrain_pred.shape[0])\n",
    "\n",
    "trainCleaned = cleanOutliers(Xtrain,Ytrain,Ytrain_pred,m=2)\n",
    "len(trainCleaned[0])"
   ]
  },
  {
   "cell_type": "code",
   "execution_count": 137,
   "id": "e1e78cde",
   "metadata": {
    "scrolled": true
   },
   "outputs": [
    {
     "name": "stdout",
     "output_type": "stream",
     "text": [
      "Se han eliminado 5/68 outliers. Ahora tienes 63/68.\n"
     ]
    },
    {
     "data": {
      "text/plain": [
       "63"
      ]
     },
     "execution_count": 137,
     "metadata": {},
     "output_type": "execute_result"
    }
   ],
   "source": [
    "# limpiamos los test\n",
    "testCleaned = cleanOutliers(Xtest,Ytest,pred,m=2)\n",
    "len(testCleaned[0])"
   ]
  },
  {
   "cell_type": "code",
   "execution_count": 138,
   "id": "cdba4f23",
   "metadata": {},
   "outputs": [],
   "source": [
    "XtestClean = testCleaned[0]\n",
    "YtestClean = testCleaned[1]\n",
    "\n",
    "XtrainClean = trainCleaned[0]\n",
    "YtrainClean = trainCleaned[1]"
   ]
  },
  {
   "cell_type": "code",
   "execution_count": 139,
   "id": "7ca901ff",
   "metadata": {},
   "outputs": [],
   "source": [
    "#Con XtrainClean, e YtrainClean entrenamos al algoritmo\n",
    "regresionClean = metnum.LinearRegression()\n",
    "regresionClean.fit(XtrainClean, YtrainClean)\n",
    "#Ahora predeciremos Ytest en pred, usando Xtest\n",
    "predClean = regresion.predict(XtestClean)\n",
    "predClean = predClean.reshape(predClean.shape[0])"
   ]
  },
  {
   "cell_type": "code",
   "execution_count": 140,
   "id": "de19f8bd",
   "metadata": {
    "scrolled": true
   },
   "outputs": [
    {
     "data": {
      "image/png": "[encoded data removed]",
      "text/plain": [
       "<Figure size 432x288 with 1 Axes>"
      ]
     },
     "metadata": {
      "needs_background": "light"
     },
     "output_type": "display_data"
    }
   ],
   "source": [
    "# graficoConLim(XtestClean,YtestClean,predClean,\"Precio vs. Distancia a Playa (sin outs.)\",\"Distancia a Playa en Grados de Longitud\",\"Precio (MXN$)\",\"dist-playa-sinouts\",0,0.0775,0,7.25*(10**6))\n",
    "\n",
    "grafico(XtestClean,YtestClean,predClean,\"Precio vs. Distancia a Playa (sin outs.)\",\"Distancia a Playa en Grados de Longitud\",\"Precio (MXN$)\",\"dist-playa-sinouts-ciudades-log\")"
   ]
  },
  {
   "cell_type": "code",
   "execution_count": 141,
   "id": "b02c33a3",
   "metadata": {
    "scrolled": false
   },
   "outputs": [
    {
     "name": "stdout",
     "output_type": "stream",
     "text": [
      "Corte 1, \n",
      "Corte 2, \n",
      "Corte 3, \n",
      "Corte 4, \n",
      "Corte 5, \n",
      "Corte 6, \n",
      "Corte 7, \n",
      "Corte 8, \n",
      "Corte 9, \n",
      "Corte 10, \n",
      "fin.\n"
     ]
    }
   ],
   "source": [
    "\n",
    "rmsCleaned = CML_KFold(10, XtrainClean, YtrainClean) "
   ]
  },
  {
   "cell_type": "code",
   "execution_count": 142,
   "id": "6af75b5f",
   "metadata": {
    "scrolled": true
   },
   "outputs": [
    {
     "name": "stdout",
     "output_type": "stream",
     "text": [
      "RMSE = (851099.7679847965, 65448.93782787707)\n",
      "RMSLE = (0.6458216716523001, 0.03332443527569289)\n"
     ]
    }
   ],
   "source": [
    "metricasProm(rmsCleaned)"
   ]
  },
  {
   "cell_type": "markdown",
   "id": "6d8bd162",
   "metadata": {},
   "source": [
    "# EXPERIMENTO HAB GAR BA\n",
    "#### En este experimento buscamos predecir los metros cubiertos a partir de la combinacion de tres variables: habitaciones, garages,banos.\n"
   ]
  },
  {
   "cell_type": "code",
   "execution_count": 143,
   "id": "d4c7bf4c",
   "metadata": {
    "scrolled": false
   },
   "outputs": [
    {
     "data": {
      "text/html": [
       "<div>\n",
       "<style scoped>\n",
       "    .dataframe tbody tr th:only-of-type {\n",
       "        vertical-align: middle;\n",
       "    }\n",
       "\n",
       "    .dataframe tbody tr th {\n",
       "        vertical-align: top;\n",
       "    }\n",
       "\n",
       "    .dataframe thead th {\n",
       "        text-align: right;\n",
       "    }\n",
       "</style>\n",
       "<table border=\"1\" class=\"dataframe\">\n",
       "  <thead>\n",
       "    <tr style=\"text-align: right;\">\n",
       "      <th></th>\n",
       "      <th>id</th>\n",
       "      <th>habitaciones-garages-banos</th>\n",
       "      <th>metroscubiertos</th>\n",
       "    </tr>\n",
       "  </thead>\n",
       "  <tbody>\n",
       "    <tr>\n",
       "      <th>140196</th>\n",
       "      <td>68520</td>\n",
       "      <td>8.0</td>\n",
       "      <td>185.0</td>\n",
       "    </tr>\n",
       "    <tr>\n",
       "      <th>214524</th>\n",
       "      <td>139563</td>\n",
       "      <td>7.0</td>\n",
       "      <td>124.0</td>\n",
       "    </tr>\n",
       "    <tr>\n",
       "      <th>85507</th>\n",
       "      <td>192567</td>\n",
       "      <td>5.0</td>\n",
       "      <td>59.0</td>\n",
       "    </tr>\n",
       "    <tr>\n",
       "      <th>15795</th>\n",
       "      <td>72261</td>\n",
       "      <td>7.0</td>\n",
       "      <td>167.0</td>\n",
       "    </tr>\n",
       "    <tr>\n",
       "      <th>183367</th>\n",
       "      <td>43224</td>\n",
       "      <td>9.0</td>\n",
       "      <td>188.0</td>\n",
       "    </tr>\n",
       "    <tr>\n",
       "      <th>...</th>\n",
       "      <td>...</td>\n",
       "      <td>...</td>\n",
       "      <td>...</td>\n",
       "    </tr>\n",
       "    <tr>\n",
       "      <th>21425</th>\n",
       "      <td>94688</td>\n",
       "      <td>10.0</td>\n",
       "      <td>300.0</td>\n",
       "    </tr>\n",
       "    <tr>\n",
       "      <th>211090</th>\n",
       "      <td>72207</td>\n",
       "      <td>7.0</td>\n",
       "      <td>270.0</td>\n",
       "    </tr>\n",
       "    <tr>\n",
       "      <th>6610</th>\n",
       "      <td>14292</td>\n",
       "      <td>7.0</td>\n",
       "      <td>120.0</td>\n",
       "    </tr>\n",
       "    <tr>\n",
       "      <th>218878</th>\n",
       "      <td>96875</td>\n",
       "      <td>8.0</td>\n",
       "      <td>138.0</td>\n",
       "    </tr>\n",
       "    <tr>\n",
       "      <th>115484</th>\n",
       "      <td>130694</td>\n",
       "      <td>7.0</td>\n",
       "      <td>248.0</td>\n",
       "    </tr>\n",
       "  </tbody>\n",
       "</table>\n",
       "<p>8150 rows × 3 columns</p>\n",
       "</div>"
      ],
      "text/plain": [
       "            id  habitaciones-garages-banos  metroscubiertos\n",
       "140196   68520                         8.0            185.0\n",
       "214524  139563                         7.0            124.0\n",
       "85507   192567                         5.0             59.0\n",
       "15795    72261                         7.0            167.0\n",
       "183367   43224                         9.0            188.0\n",
       "...        ...                         ...              ...\n",
       "21425    94688                        10.0            300.0\n",
       "211090   72207                         7.0            270.0\n",
       "6610     14292                         7.0            120.0\n",
       "218878   96875                         8.0            138.0\n",
       "115484  130694                         7.0            248.0\n",
       "\n",
       "[8150 rows x 3 columns]"
      ]
     },
     "metadata": {},
     "output_type": "display_data"
    },
    {
     "data": {
      "text/html": [
       "<div>\n",
       "<style scoped>\n",
       "    .dataframe tbody tr th:only-of-type {\n",
       "        vertical-align: middle;\n",
       "    }\n",
       "\n",
       "    .dataframe tbody tr th {\n",
       "        vertical-align: top;\n",
       "    }\n",
       "\n",
       "    .dataframe thead th {\n",
       "        text-align: right;\n",
       "    }\n",
       "</style>\n",
       "<table border=\"1\" class=\"dataframe\">\n",
       "  <thead>\n",
       "    <tr style=\"text-align: right;\">\n",
       "      <th></th>\n",
       "      <th>id</th>\n",
       "      <th>habitaciones-garages-banos</th>\n",
       "      <th>metroscubiertos</th>\n",
       "    </tr>\n",
       "  </thead>\n",
       "  <tbody>\n",
       "    <tr>\n",
       "      <th>172978</th>\n",
       "      <td>221842</td>\n",
       "      <td>9.0</td>\n",
       "      <td>209.0</td>\n",
       "    </tr>\n",
       "    <tr>\n",
       "      <th>568</th>\n",
       "      <td>81040</td>\n",
       "      <td>8.0</td>\n",
       "      <td>130.0</td>\n",
       "    </tr>\n",
       "    <tr>\n",
       "      <th>29493</th>\n",
       "      <td>183489</td>\n",
       "      <td>6.0</td>\n",
       "      <td>171.0</td>\n",
       "    </tr>\n",
       "    <tr>\n",
       "      <th>89392</th>\n",
       "      <td>85976</td>\n",
       "      <td>10.0</td>\n",
       "      <td>277.0</td>\n",
       "    </tr>\n",
       "    <tr>\n",
       "      <th>191218</th>\n",
       "      <td>210730</td>\n",
       "      <td>4.0</td>\n",
       "      <td>140.0</td>\n",
       "    </tr>\n",
       "    <tr>\n",
       "      <th>...</th>\n",
       "      <td>...</td>\n",
       "      <td>...</td>\n",
       "      <td>...</td>\n",
       "    </tr>\n",
       "    <tr>\n",
       "      <th>77037</th>\n",
       "      <td>292440</td>\n",
       "      <td>4.0</td>\n",
       "      <td>69.0</td>\n",
       "    </tr>\n",
       "    <tr>\n",
       "      <th>207852</th>\n",
       "      <td>237321</td>\n",
       "      <td>7.0</td>\n",
       "      <td>135.0</td>\n",
       "    </tr>\n",
       "    <tr>\n",
       "      <th>23881</th>\n",
       "      <td>128012</td>\n",
       "      <td>8.0</td>\n",
       "      <td>260.0</td>\n",
       "    </tr>\n",
       "    <tr>\n",
       "      <th>137994</th>\n",
       "      <td>164635</td>\n",
       "      <td>8.0</td>\n",
       "      <td>100.0</td>\n",
       "    </tr>\n",
       "    <tr>\n",
       "      <th>6361</th>\n",
       "      <td>3882</td>\n",
       "      <td>9.0</td>\n",
       "      <td>250.0</td>\n",
       "    </tr>\n",
       "  </tbody>\n",
       "</table>\n",
       "<p>906 rows × 3 columns</p>\n",
       "</div>"
      ],
      "text/plain": [
       "            id  habitaciones-garages-banos  metroscubiertos\n",
       "172978  221842                         9.0            209.0\n",
       "568      81040                         8.0            130.0\n",
       "29493   183489                         6.0            171.0\n",
       "89392    85976                        10.0            277.0\n",
       "191218  210730                         4.0            140.0\n",
       "...        ...                         ...              ...\n",
       "77037   292440                         4.0             69.0\n",
       "207852  237321                         7.0            135.0\n",
       "23881   128012                         8.0            260.0\n",
       "137994  164635                         8.0            100.0\n",
       "6361      3882                         9.0            250.0\n",
       "\n",
       "[906 rows x 3 columns]"
      ]
     },
     "metadata": {},
     "output_type": "display_data"
    }
   ],
   "source": [
    "muestra = set_original\n",
    "muestra = muestra[muestra[\"ciudad\"] == \"Querétaro\"]\n",
    "# muestra = muestra[muestra[\"tipodepropiedad\"] == \"Casa\"]\n",
    "\n",
    "#armamos los dos casos\n",
    "\n",
    "\n",
    "tipo1 = 'habitaciones'\n",
    "tipo2 = 'garages'\n",
    "tipo3 = 'banos'\n",
    "\n",
    "var = 'metroscubiertos'\n",
    "#armamos nuevo data frame\n",
    "nuevaMuestra = pd.DataFrame()\n",
    "#armamos los dos casos\n",
    "\n",
    "nuevaMuestra[\"id\"] = muestra[\"id\"]\n",
    "nuevaMuestra[tipo1+\"-\"+tipo2+\"-\"+tipo3] = np.abs((muestra[tipo1]) + muestra[tipo2]) + muestra[tipo3]\n",
    "nuevaMuestra[var] = muestra[var]\n",
    "             \n",
    "muestra = nuevaMuestra.dropna()\n",
    "cantidadparatrain = int(len(muestra)- len(muestra)/10)\n",
    "\n",
    "muestra = shuffle(muestra, random_state=1)\n",
    "train = muestra.iloc[:cantidadparatrain, :]\n",
    "test = muestra.iloc[cantidadparatrain:, :]\n",
    "\n",
    "\n",
    "#guardamos las columnas que nos interesan para experimentar\n",
    "train = train[[\"id\",tipo1+\"-\"+tipo2+\"-\"+tipo3, var]]\n",
    "test = test[[\"id\", tipo1+\"-\"+tipo2+\"-\"+tipo3, var]]\n",
    "\n",
    "\n",
    "             \n",
    "\n",
    "Xtrain, Xtest = train[tipo1+\"-\"+tipo2+\"-\"+tipo3].values, test[tipo1+\"-\"+tipo2+\"-\"+tipo3].values\n",
    "Ytrain, Ytest = train[var].values, test[var].values\n",
    "\n",
    "display(train[[\"id\", tipo1+\"-\"+tipo2+\"-\"+tipo3, var]])\n",
    "display(test[[\"id\", tipo1+\"-\"+tipo2+\"-\"+tipo3, var]])\n"
   ]
  },
  {
   "cell_type": "code",
   "execution_count": 144,
   "id": "23307a41",
   "metadata": {
    "scrolled": false
   },
   "outputs": [
    {
     "data": {
      "text/plain": [
       "7.0     3064\n",
       "8.0     2060\n",
       "9.0     1153\n",
       "6.0      949\n",
       "5.0      564\n",
       "4.0      523\n",
       "10.0     506\n",
       "11.0     150\n",
       "3.0       75\n",
       "12.0       5\n",
       "2.0        4\n",
       "15.0       1\n",
       "17.0       1\n",
       "13.0       1\n",
       "Name: habitaciones-garages-banos, dtype: int64"
      ]
     },
     "execution_count": 144,
     "metadata": {},
     "output_type": "execute_result"
    }
   ],
   "source": [
    "muestra[tipo1+\"-\"+tipo2+\"-\"+tipo3].value_counts()"
   ]
  },
  {
   "cell_type": "code",
   "execution_count": 145,
   "id": "37776d47",
   "metadata": {
    "scrolled": true
   },
   "outputs": [
    {
     "data": {
      "text/plain": [
       "<AxesSubplot:>"
      ]
     },
     "execution_count": 145,
     "metadata": {},
     "output_type": "execute_result"
    },
    {
     "data": {
      "image/png": "[encoded data removed]",
      "text/plain": [
       "<Figure size 432x288 with 1 Axes>"
      ]
     },
     "metadata": {
      "needs_background": "light"
     },
     "output_type": "display_data"
    }
   ],
   "source": [
    "muestra[tipo1+\"-\"+tipo2+\"-\"+tipo3].hist()"
   ]
  },
  {
   "cell_type": "markdown",
   "id": "b134260e",
   "metadata": {},
   "source": [
    "### preparamos los datos"
   ]
  },
  {
   "cell_type": "markdown",
   "id": "4bace7ed",
   "metadata": {},
   "source": [
    "### $\\underline{Caso 1 :}$ Sin quitar Outtliers"
   ]
  },
  {
   "cell_type": "code",
   "execution_count": 146,
   "id": "e80d959a",
   "metadata": {},
   "outputs": [],
   "source": [
    "#Con Xtrain, e Ytrain entrenamos al algoritmo\n",
    "regresion = metnum.LinearRegression()\n",
    "regresion.fit(Xtrain, Ytrain)\n",
    "#Ahora predeciremos Ytest en pred, usando Xtest\n",
    "pred = regresion.predict(Xtest)\n",
    "pred = pred.reshape(pred.shape[0])"
   ]
  },
  {
   "cell_type": "code",
   "execution_count": 147,
   "id": "cf9dc679",
   "metadata": {
    "scrolled": true
   },
   "outputs": [
    {
     "data": {
      "image/png": "[encoded data removed]",
      "text/plain": [
       "<Figure size 432x288 with 1 Axes>"
      ]
     },
     "metadata": {
      "needs_background": "light"
     },
     "output_type": "display_data"
    }
   ],
   "source": [
    "grafico(Xtest,Ytest,pred,\"Metros Cubiertos vs. Hab.+ Ba. + Ga. (con outs.)\",\"Cantidad de Banos,Habitaciones y Garages\",\"Metros Cubiertos $(m^2)$\",\"metros-mix-quereta-simple\")"
   ]
  },
  {
   "cell_type": "code",
   "execution_count": 148,
   "id": "b2cd5088",
   "metadata": {
    "scrolled": true
   },
   "outputs": [
    {
     "name": "stdout",
     "output_type": "stream",
     "text": [
      "RMSE = 64.5379557706968\n",
      "RMSLE = 0.3354604988671149\n"
     ]
    }
   ],
   "source": [
    "metricas(Ytest,pred)"
   ]
  },
  {
   "cell_type": "markdown",
   "id": "6c6bf98f",
   "metadata": {},
   "source": [
    "### con kfold"
   ]
  },
  {
   "cell_type": "code",
   "execution_count": 149,
   "id": "6b62306b",
   "metadata": {
    "scrolled": false
   },
   "outputs": [
    {
     "name": "stdout",
     "output_type": "stream",
     "text": [
      "Corte 1, \n",
      "Corte 2, \n",
      "Corte 3, \n",
      "Corte 4, \n",
      "Corte 5, \n",
      "Corte 6, \n",
      "Corte 7, \n",
      "Corte 8, \n",
      "Corte 9, \n",
      "Corte 10, \n",
      "fin.\n"
     ]
    }
   ],
   "source": [
    "rms = CML_KFold(10, Xtrain, Ytrain)"
   ]
  },
  {
   "cell_type": "code",
   "execution_count": 150,
   "id": "e3a05d6d",
   "metadata": {
    "scrolled": true
   },
   "outputs": [
    {
     "name": "stdout",
     "output_type": "stream",
     "text": [
      "RMSE = (59.808370812832074, 1.441813146234634)\n",
      "RMSLE = (0.33270264677316347, 0.013609256397944199)\n"
     ]
    }
   ],
   "source": [
    "metricasProm(rms)"
   ]
  },
  {
   "cell_type": "markdown",
   "id": "cd933157",
   "metadata": {},
   "source": [
    "## $\\underline{Caso 2 :}$ Quitando Outtliers"
   ]
  },
  {
   "cell_type": "code",
   "execution_count": 151,
   "id": "b5eb6f80",
   "metadata": {
    "scrolled": true
   },
   "outputs": [
    {
     "name": "stdout",
     "output_type": "stream",
     "text": [
      "Se han eliminado 375/8150 outliers. Ahora tienes 7775/8150.\n"
     ]
    },
    {
     "data": {
      "text/plain": [
       "7775"
      ]
     },
     "execution_count": 151,
     "metadata": {},
     "output_type": "execute_result"
    }
   ],
   "source": [
    "# Limpiamos los train\n",
    "Ytrain_pred = regresion.predict(Xtrain)\n",
    "Ytrain_pred = Ytrain_pred.reshape(Ytrain_pred.shape[0])\n",
    "\n",
    "trainCleaned = cleanOutliers(Xtrain,Ytrain,Ytrain_pred,m=2)\n",
    "len(trainCleaned[0])"
   ]
  },
  {
   "cell_type": "code",
   "execution_count": 152,
   "id": "ee85e4f9",
   "metadata": {},
   "outputs": [
    {
     "name": "stdout",
     "output_type": "stream",
     "text": [
      "Se han eliminado 42/906 outliers. Ahora tienes 864/906.\n"
     ]
    },
    {
     "data": {
      "text/plain": [
       "864"
      ]
     },
     "execution_count": 152,
     "metadata": {},
     "output_type": "execute_result"
    }
   ],
   "source": [
    "# limpiamos los test\n",
    "testCleaned = cleanOutliers(Xtest,Ytest,pred,m=2)\n",
    "len(testCleaned[0])"
   ]
  },
  {
   "cell_type": "code",
   "execution_count": 153,
   "id": "41da7a6f",
   "metadata": {},
   "outputs": [],
   "source": [
    "XtestClean = testCleaned[0]\n",
    "YtestClean = testCleaned[1]\n",
    "\n",
    "XtrainClean = trainCleaned[0]\n",
    "YtrainClean = trainCleaned[1]"
   ]
  },
  {
   "cell_type": "code",
   "execution_count": 154,
   "id": "ccc9975e",
   "metadata": {},
   "outputs": [],
   "source": [
    "#Con XtrainClean, e YtrainClean entrenamos al algoritmo\n",
    "regresionClean = metnum.LinearRegression()\n",
    "regresionClean.fit(XtrainClean, YtrainClean)\n",
    "#Ahora predeciremos Ytest en pred, usando Xtest\n",
    "predClean = regresion.predict(XtestClean)\n",
    "predClean = predClean.reshape(predClean.shape[0])"
   ]
  },
  {
   "cell_type": "code",
   "execution_count": 155,
   "id": "d04fc9f4",
   "metadata": {
    "scrolled": false
   },
   "outputs": [
    {
     "data": {
      "image/png": "[encoded data removed]",
      "text/plain": [
       "<Figure size 432x288 with 1 Axes>"
      ]
     },
     "metadata": {
      "needs_background": "light"
     },
     "output_type": "display_data"
    }
   ],
   "source": [
    "grafico(XtestClean,YtestClean,predClean,\"Metros Cubiertos vs. Hab.+ Ba. + Ga. (sin outs.)\",\"Cantidad de Banos,Habitaciones y Garages\",\"Metros Cubiertos $(m^2)$\",\"metros-mix-quereta-sinouts\")"
   ]
  },
  {
   "cell_type": "code",
   "execution_count": 156,
   "id": "0d9d95d0",
   "metadata": {
    "scrolled": true
   },
   "outputs": [
    {
     "name": "stdout",
     "output_type": "stream",
     "text": [
      "RMSE = 52.968502431416816\n",
      "RMSLE = 0.30664838309399384\n"
     ]
    }
   ],
   "source": [
    "metricas(YtestClean,predClean)"
   ]
  },
  {
   "cell_type": "markdown",
   "id": "02773a3c",
   "metadata": {},
   "source": [
    "### con Kfold"
   ]
  },
  {
   "cell_type": "code",
   "execution_count": 157,
   "id": "92cf16e6",
   "metadata": {
    "scrolled": true
   },
   "outputs": [
    {
     "name": "stdout",
     "output_type": "stream",
     "text": [
      "Corte 1, \n",
      "Corte 2, \n",
      "Corte 3, \n",
      "Corte 4, \n",
      "Corte 5, \n",
      "Corte 6, \n",
      "Corte 7, \n",
      "Corte 8, \n",
      "Corte 9, \n",
      "Corte 10, \n",
      "fin.\n"
     ]
    }
   ],
   "source": [
    "\n",
    "rmsCleaned = CML_KFold(10, XtrainClean, YtrainClean) "
   ]
  },
  {
   "cell_type": "code",
   "execution_count": 158,
   "id": "d2972181",
   "metadata": {
    "scrolled": true
   },
   "outputs": [
    {
     "name": "stdout",
     "output_type": "stream",
     "text": [
      "RMSE = (48.989627777013865, 1.1294568999046715)\n",
      "RMSLE = (0.2950921147840494, 0.005736041557440621)\n"
     ]
    }
   ],
   "source": [
    "metricasProm(rmsCleaned)"
   ]
  },
  {
   "cell_type": "markdown",
   "id": "02d5085a",
   "metadata": {},
   "source": [
    "## Ahora en Zapopan"
   ]
  },
  {
   "cell_type": "code",
   "execution_count": 159,
   "id": "9944ba67",
   "metadata": {
    "scrolled": false
   },
   "outputs": [
    {
     "data": {
      "text/html": [
       "<div>\n",
       "<style scoped>\n",
       "    .dataframe tbody tr th:only-of-type {\n",
       "        vertical-align: middle;\n",
       "    }\n",
       "\n",
       "    .dataframe tbody tr th {\n",
       "        vertical-align: top;\n",
       "    }\n",
       "\n",
       "    .dataframe thead th {\n",
       "        text-align: right;\n",
       "    }\n",
       "</style>\n",
       "<table border=\"1\" class=\"dataframe\">\n",
       "  <thead>\n",
       "    <tr style=\"text-align: right;\">\n",
       "      <th></th>\n",
       "      <th>id</th>\n",
       "      <th>habitaciones-garages-banos</th>\n",
       "      <th>metroscubiertos</th>\n",
       "    </tr>\n",
       "  </thead>\n",
       "  <tbody>\n",
       "    <tr>\n",
       "      <th>184671</th>\n",
       "      <td>51968</td>\n",
       "      <td>7.0</td>\n",
       "      <td>210.0</td>\n",
       "    </tr>\n",
       "    <tr>\n",
       "      <th>198959</th>\n",
       "      <td>179483</td>\n",
       "      <td>6.0</td>\n",
       "      <td>95.0</td>\n",
       "    </tr>\n",
       "    <tr>\n",
       "      <th>116006</th>\n",
       "      <td>239758</td>\n",
       "      <td>5.0</td>\n",
       "      <td>108.0</td>\n",
       "    </tr>\n",
       "    <tr>\n",
       "      <th>132768</th>\n",
       "      <td>121420</td>\n",
       "      <td>7.0</td>\n",
       "      <td>94.0</td>\n",
       "    </tr>\n",
       "    <tr>\n",
       "      <th>200747</th>\n",
       "      <td>272608</td>\n",
       "      <td>6.0</td>\n",
       "      <td>124.0</td>\n",
       "    </tr>\n",
       "    <tr>\n",
       "      <th>...</th>\n",
       "      <td>...</td>\n",
       "      <td>...</td>\n",
       "      <td>...</td>\n",
       "    </tr>\n",
       "    <tr>\n",
       "      <th>169363</th>\n",
       "      <td>216403</td>\n",
       "      <td>8.0</td>\n",
       "      <td>175.0</td>\n",
       "    </tr>\n",
       "    <tr>\n",
       "      <th>136103</th>\n",
       "      <td>3545</td>\n",
       "      <td>7.0</td>\n",
       "      <td>120.0</td>\n",
       "    </tr>\n",
       "    <tr>\n",
       "      <th>24479</th>\n",
       "      <td>113656</td>\n",
       "      <td>4.0</td>\n",
       "      <td>69.0</td>\n",
       "    </tr>\n",
       "    <tr>\n",
       "      <th>152494</th>\n",
       "      <td>64071</td>\n",
       "      <td>6.0</td>\n",
       "      <td>168.0</td>\n",
       "    </tr>\n",
       "    <tr>\n",
       "      <th>146159</th>\n",
       "      <td>69591</td>\n",
       "      <td>7.0</td>\n",
       "      <td>193.0</td>\n",
       "    </tr>\n",
       "  </tbody>\n",
       "</table>\n",
       "<p>6891 rows × 3 columns</p>\n",
       "</div>"
      ],
      "text/plain": [
       "            id  habitaciones-garages-banos  metroscubiertos\n",
       "184671   51968                         7.0            210.0\n",
       "198959  179483                         6.0             95.0\n",
       "116006  239758                         5.0            108.0\n",
       "132768  121420                         7.0             94.0\n",
       "200747  272608                         6.0            124.0\n",
       "...        ...                         ...              ...\n",
       "169363  216403                         8.0            175.0\n",
       "136103    3545                         7.0            120.0\n",
       "24479   113656                         4.0             69.0\n",
       "152494   64071                         6.0            168.0\n",
       "146159   69591                         7.0            193.0\n",
       "\n",
       "[6891 rows x 3 columns]"
      ]
     },
     "metadata": {},
     "output_type": "display_data"
    },
    {
     "data": {
      "text/html": [
       "<div>\n",
       "<style scoped>\n",
       "    .dataframe tbody tr th:only-of-type {\n",
       "        vertical-align: middle;\n",
       "    }\n",
       "\n",
       "    .dataframe tbody tr th {\n",
       "        vertical-align: top;\n",
       "    }\n",
       "\n",
       "    .dataframe thead th {\n",
       "        text-align: right;\n",
       "    }\n",
       "</style>\n",
       "<table border=\"1\" class=\"dataframe\">\n",
       "  <thead>\n",
       "    <tr style=\"text-align: right;\">\n",
       "      <th></th>\n",
       "      <th>id</th>\n",
       "      <th>habitaciones-garages-banos</th>\n",
       "      <th>metroscubiertos</th>\n",
       "    </tr>\n",
       "  </thead>\n",
       "  <tbody>\n",
       "    <tr>\n",
       "      <th>162955</th>\n",
       "      <td>158446</td>\n",
       "      <td>9.0</td>\n",
       "      <td>310.0</td>\n",
       "    </tr>\n",
       "    <tr>\n",
       "      <th>219678</th>\n",
       "      <td>45952</td>\n",
       "      <td>9.0</td>\n",
       "      <td>289.0</td>\n",
       "    </tr>\n",
       "    <tr>\n",
       "      <th>147022</th>\n",
       "      <td>21512</td>\n",
       "      <td>6.0</td>\n",
       "      <td>119.0</td>\n",
       "    </tr>\n",
       "    <tr>\n",
       "      <th>154406</th>\n",
       "      <td>40597</td>\n",
       "      <td>9.0</td>\n",
       "      <td>398.0</td>\n",
       "    </tr>\n",
       "    <tr>\n",
       "      <th>174076</th>\n",
       "      <td>20654</td>\n",
       "      <td>9.0</td>\n",
       "      <td>330.0</td>\n",
       "    </tr>\n",
       "    <tr>\n",
       "      <th>...</th>\n",
       "      <td>...</td>\n",
       "      <td>...</td>\n",
       "      <td>...</td>\n",
       "    </tr>\n",
       "    <tr>\n",
       "      <th>28641</th>\n",
       "      <td>29394</td>\n",
       "      <td>8.0</td>\n",
       "      <td>187.0</td>\n",
       "    </tr>\n",
       "    <tr>\n",
       "      <th>162026</th>\n",
       "      <td>54677</td>\n",
       "      <td>5.0</td>\n",
       "      <td>93.0</td>\n",
       "    </tr>\n",
       "    <tr>\n",
       "      <th>125126</th>\n",
       "      <td>66942</td>\n",
       "      <td>8.0</td>\n",
       "      <td>100.0</td>\n",
       "    </tr>\n",
       "    <tr>\n",
       "      <th>6774</th>\n",
       "      <td>161022</td>\n",
       "      <td>8.0</td>\n",
       "      <td>310.0</td>\n",
       "    </tr>\n",
       "    <tr>\n",
       "      <th>161101</th>\n",
       "      <td>45871</td>\n",
       "      <td>8.0</td>\n",
       "      <td>330.0</td>\n",
       "    </tr>\n",
       "  </tbody>\n",
       "</table>\n",
       "<p>766 rows × 3 columns</p>\n",
       "</div>"
      ],
      "text/plain": [
       "            id  habitaciones-garages-banos  metroscubiertos\n",
       "162955  158446                         9.0            310.0\n",
       "219678   45952                         9.0            289.0\n",
       "147022   21512                         6.0            119.0\n",
       "154406   40597                         9.0            398.0\n",
       "174076   20654                         9.0            330.0\n",
       "...        ...                         ...              ...\n",
       "28641    29394                         8.0            187.0\n",
       "162026   54677                         5.0             93.0\n",
       "125126   66942                         8.0            100.0\n",
       "6774    161022                         8.0            310.0\n",
       "161101   45871                         8.0            330.0\n",
       "\n",
       "[766 rows x 3 columns]"
      ]
     },
     "metadata": {},
     "output_type": "display_data"
    }
   ],
   "source": [
    "muestra = set_original\n",
    "muestra = muestra[muestra[\"ciudad\"] == \"Zapopan\"]\n",
    "# muestra = muestra[muestra[\"tipodepropiedad\"] == \"Casa\"]\n",
    "\n",
    "#armamos los dos casos\n",
    "\n",
    "\n",
    "tipo1 = 'habitaciones'\n",
    "tipo2 = 'garages'\n",
    "tipo3 = 'banos'\n",
    "\n",
    "var = 'metroscubiertos'\n",
    "#armamos nuevo data frame\n",
    "nuevaMuestra = pd.DataFrame()\n",
    "#armamos los dos casos\n",
    "\n",
    "nuevaMuestra[\"id\"] = muestra[\"id\"]\n",
    "nuevaMuestra[tipo1+\"-\"+tipo2+\"-\"+tipo3] = np.abs((muestra[tipo1]) + muestra[tipo2]) + muestra[tipo3]\n",
    "nuevaMuestra[var] = muestra[var]\n",
    "             \n",
    "muestra = nuevaMuestra.dropna()\n",
    "cantidadparatrain = int(len(muestra)- len(muestra)/10)\n",
    "\n",
    "muestra = shuffle(muestra, random_state=1)\n",
    "train = muestra.iloc[:cantidadparatrain, :]\n",
    "test = muestra.iloc[cantidadparatrain:, :]\n",
    "\n",
    "\n",
    "#guardamos las columnas que nos interesan para experimentar\n",
    "train = train[[\"id\",tipo1+\"-\"+tipo2+\"-\"+tipo3, var]]\n",
    "test = test[[\"id\", tipo1+\"-\"+tipo2+\"-\"+tipo3, var]]\n",
    "\n",
    "\n",
    "             \n",
    "\n",
    "Xtrain, Xtest = train[tipo1+\"-\"+tipo2+\"-\"+tipo3].values, test[tipo1+\"-\"+tipo2+\"-\"+tipo3].values\n",
    "Ytrain, Ytest = train[var].values, test[var].values\n",
    "\n",
    "display(train[[\"id\", tipo1+\"-\"+tipo2+\"-\"+tipo3, var]])\n",
    "display(test[[\"id\", tipo1+\"-\"+tipo2+\"-\"+tipo3, var]])\n"
   ]
  },
  {
   "cell_type": "code",
   "execution_count": 160,
   "id": "48e520b0",
   "metadata": {
    "scrolled": false
   },
   "outputs": [
    {
     "data": {
      "text/plain": [
       "7.0     2182\n",
       "8.0     1496\n",
       "4.0      959\n",
       "6.0      927\n",
       "9.0      907\n",
       "5.0      571\n",
       "10.0     403\n",
       "11.0     109\n",
       "3.0       64\n",
       "12.0      25\n",
       "2.0        9\n",
       "13.0       4\n",
       "14.0       1\n",
       "Name: habitaciones-garages-banos, dtype: int64"
      ]
     },
     "execution_count": 160,
     "metadata": {},
     "output_type": "execute_result"
    }
   ],
   "source": [
    "muestra[tipo1+\"-\"+tipo2+\"-\"+tipo3].value_counts()"
   ]
  },
  {
   "cell_type": "code",
   "execution_count": 161,
   "id": "0751e26c",
   "metadata": {
    "scrolled": true
   },
   "outputs": [
    {
     "data": {
      "text/plain": [
       "<AxesSubplot:>"
      ]
     },
     "execution_count": 161,
     "metadata": {},
     "output_type": "execute_result"
    },
    {
     "data": {
      "image/png": "[encoded data removed]",
      "text/plain": [
       "<Figure size 432x288 with 1 Axes>"
      ]
     },
     "metadata": {
      "needs_background": "light"
     },
     "output_type": "display_data"
    }
   ],
   "source": [
    "muestra[tipo1+\"-\"+tipo2+\"-\"+tipo3].hist()"
   ]
  },
  {
   "cell_type": "markdown",
   "id": "cd9dcc5d",
   "metadata": {},
   "source": [
    "### preparamos los datos"
   ]
  },
  {
   "cell_type": "markdown",
   "id": "80942842",
   "metadata": {},
   "source": [
    "### $\\underline{Caso 1 :}$ Sin quitar Outtliers"
   ]
  },
  {
   "cell_type": "code",
   "execution_count": 162,
   "id": "96c0b08a",
   "metadata": {},
   "outputs": [],
   "source": [
    "#Con Xtrain, e Ytrain entrenamos al algoritmo\n",
    "regresion = metnum.LinearRegression()\n",
    "regresion.fit(Xtrain, Ytrain)\n",
    "#Ahora predeciremos Ytest en pred, usando Xtest\n",
    "pred = regresion.predict(Xtest)\n",
    "pred = pred.reshape(pred.shape[0])"
   ]
  },
  {
   "cell_type": "code",
   "execution_count": 163,
   "id": "e7cb64d9",
   "metadata": {
    "scrolled": true
   },
   "outputs": [
    {
     "data": {
      "image/png": "[encoded data removed]",
      "text/plain": [
       "<Figure size 432x288 with 1 Axes>"
      ]
     },
     "metadata": {
      "needs_background": "light"
     },
     "output_type": "display_data"
    }
   ],
   "source": [
    "grafico(Xtest,Ytest,pred,\"Metros Cubiertos vs. Hab.+ Ba. + Ga. (con outs.)\",\"Cantidad de Banos,Habitaciones y Garages\",\"Metros Cubiertos $(m^2)$\",\"metros-mix-zapo-simple\")"
   ]
  },
  {
   "cell_type": "code",
   "execution_count": 164,
   "id": "9b6a1844",
   "metadata": {
    "scrolled": true
   },
   "outputs": [
    {
     "name": "stdout",
     "output_type": "stream",
     "text": [
      "RMSE = 55.23569863422196\n",
      "RMSLE = 0.3398763978631059\n"
     ]
    }
   ],
   "source": [
    "metricas(Ytest,pred)"
   ]
  },
  {
   "cell_type": "markdown",
   "id": "49f67424",
   "metadata": {},
   "source": [
    "### con kfold"
   ]
  },
  {
   "cell_type": "code",
   "execution_count": 165,
   "id": "f96cfedf",
   "metadata": {
    "scrolled": false
   },
   "outputs": [
    {
     "name": "stdout",
     "output_type": "stream",
     "text": [
      "Corte 1, \n",
      "Corte 2, \n",
      "Corte 3, \n",
      "Corte 4, \n",
      "Corte 5, \n",
      "Corte 6, \n",
      "Corte 7, \n",
      "Corte 8, \n",
      "Corte 9, \n",
      "Corte 10, \n",
      "fin.\n"
     ]
    }
   ],
   "source": [
    "rms = CML_KFold(10, Xtrain, Ytrain)"
   ]
  },
  {
   "cell_type": "code",
   "execution_count": 166,
   "id": "c45c4b32",
   "metadata": {
    "scrolled": true
   },
   "outputs": [
    {
     "name": "stdout",
     "output_type": "stream",
     "text": [
      "RMSE = (57.87887455597971, 1.9066565976591707)\n",
      "RMSLE = (0.3700102694015531, 0.01959548419072206)\n"
     ]
    }
   ],
   "source": [
    "metricasProm(rms)"
   ]
  },
  {
   "cell_type": "markdown",
   "id": "515e66cb",
   "metadata": {},
   "source": [
    "## $\\underline{Caso 2 :}$ Quitando Outtliers"
   ]
  },
  {
   "cell_type": "code",
   "execution_count": 167,
   "id": "39b9c47f",
   "metadata": {
    "scrolled": true
   },
   "outputs": [
    {
     "name": "stdout",
     "output_type": "stream",
     "text": [
      "Se han eliminado 332/6891 outliers. Ahora tienes 6559/6891.\n"
     ]
    },
    {
     "data": {
      "text/plain": [
       "6559"
      ]
     },
     "execution_count": 167,
     "metadata": {},
     "output_type": "execute_result"
    }
   ],
   "source": [
    "# Limpiamos los train\n",
    "Ytrain_pred = regresion.predict(Xtrain)\n",
    "Ytrain_pred = Ytrain_pred.reshape(Ytrain_pred.shape[0])\n",
    "\n",
    "trainCleaned = cleanOutliers(Xtrain,Ytrain,Ytrain_pred,m=2)\n",
    "len(trainCleaned[0])"
   ]
  },
  {
   "cell_type": "code",
   "execution_count": 168,
   "id": "ae1f23cb",
   "metadata": {},
   "outputs": [
    {
     "name": "stdout",
     "output_type": "stream",
     "text": [
      "Se han eliminado 33/766 outliers. Ahora tienes 733/766.\n"
     ]
    },
    {
     "data": {
      "text/plain": [
       "733"
      ]
     },
     "execution_count": 168,
     "metadata": {},
     "output_type": "execute_result"
    }
   ],
   "source": [
    "# limpiamos los test\n",
    "testCleaned = cleanOutliers(Xtest,Ytest,pred,m=2)\n",
    "len(testCleaned[0])"
   ]
  },
  {
   "cell_type": "code",
   "execution_count": 169,
   "id": "638fe460",
   "metadata": {},
   "outputs": [],
   "source": [
    "XtestClean = testCleaned[0]\n",
    "YtestClean = testCleaned[1]\n",
    "\n",
    "XtrainClean = trainCleaned[0]\n",
    "YtrainClean = trainCleaned[1]"
   ]
  },
  {
   "cell_type": "code",
   "execution_count": 170,
   "id": "91699834",
   "metadata": {},
   "outputs": [],
   "source": [
    "#Con XtrainClean, e YtrainClean entrenamos al algoritmo\n",
    "regresionClean = metnum.LinearRegression()\n",
    "regresionClean.fit(XtrainClean, YtrainClean)\n",
    "#Ahora predeciremos Ytest en pred, usando Xtest\n",
    "predClean = regresion.predict(XtestClean)\n",
    "predClean = predClean.reshape(predClean.shape[0])"
   ]
  },
  {
   "cell_type": "code",
   "execution_count": 171,
   "id": "b2a9f8c6",
   "metadata": {
    "scrolled": false
   },
   "outputs": [
    {
     "data": {
      "image/png": "[encoded data removed]",
      "text/plain": [
       "<Figure size 432x288 with 1 Axes>"
      ]
     },
     "metadata": {
      "needs_background": "light"
     },
     "output_type": "display_data"
    }
   ],
   "source": [
    "grafico(XtestClean,YtestClean,predClean,\"Metros Cubiertos vs. Hab.+ Ba. + Ga. (sin outs.)\",\"Cantidad de Banos,Habitaciones y Garages\",\"Metros Cubiertos $(m^2)$\",\"metros-mix-zapo-sinout\")"
   ]
  },
  {
   "cell_type": "code",
   "execution_count": 172,
   "id": "f7fe8651",
   "metadata": {
    "scrolled": true
   },
   "outputs": [
    {
     "name": "stdout",
     "output_type": "stream",
     "text": [
      "RMSE = 44.99173574896128\n",
      "RMSLE = 0.31501847486518847\n"
     ]
    }
   ],
   "source": [
    "metricas(YtestClean,predClean)"
   ]
  },
  {
   "cell_type": "markdown",
   "id": "5628ffed",
   "metadata": {},
   "source": [
    "### con Kfold"
   ]
  },
  {
   "cell_type": "code",
   "execution_count": 173,
   "id": "0091ed63",
   "metadata": {
    "scrolled": true
   },
   "outputs": [
    {
     "name": "stdout",
     "output_type": "stream",
     "text": [
      "Corte 1, \n",
      "Corte 2, \n",
      "Corte 3, \n",
      "Corte 4, \n",
      "Corte 5, \n",
      "Corte 6, \n",
      "Corte 7, \n",
      "Corte 8, \n",
      "Corte 9, \n",
      "Corte 10, \n",
      "fin.\n"
     ]
    }
   ],
   "source": [
    "\n",
    "rmsCleaned = CML_KFold(10, XtrainClean, YtrainClean) "
   ]
  },
  {
   "cell_type": "code",
   "execution_count": 174,
   "id": "1c4499a8",
   "metadata": {
    "scrolled": true
   },
   "outputs": [
    {
     "name": "stdout",
     "output_type": "stream",
     "text": [
      "RMSE = (45.53792758768803, 0.9593573633568193)\n",
      "RMSLE = (0.3120491069937251, 0.01663208124819436)\n"
     ]
    }
   ],
   "source": [
    "metricasProm(rmsCleaned)"
   ]
  },
  {
   "cell_type": "code",
   "execution_count": null,
   "id": "e1ebb172",
   "metadata": {},
   "outputs": [],
   "source": []
  }
 ],
 "metadata": {
  "kernelspec": {
   "display_name": "Python 3 (ipykernel)",
   "language": "python",
   "name": "python3"
  },
  "language_info": {
   "codemirror_mode": {
    "name": "ipython",
    "version": 3
   },
   "file_extension": ".py",
   "mimetype": "text/x-python",
   "name": "python",
   "nbconvert_exporter": "python",
   "pygments_lexer": "ipython3",
   "version": "3.8.10"
  }
 },
 "nbformat": 4,
 "nbformat_minor": 5
}
